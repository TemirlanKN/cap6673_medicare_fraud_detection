{
 "cells": [
  {
   "cell_type": "code",
   "execution_count": 1,
   "id": "15fc4b34-5d78-42b9-84a3-dcd5e0d26c13",
   "metadata": {},
   "outputs": [],
   "source": [
    "from sklearn.preprocessing import MinMaxScaler\n",
    "import pandas as pd\n",
    "import numpy as np\n",
    "import matplotlib.pyplot as plt\n",
    "import seaborn as sns\n",
    "\n",
    "from IPython.core.interactiveshell import InteractiveShell\n",
    "InteractiveShell.ast_node_interactivity = \"all\""
   ]
  },
  {
   "cell_type": "code",
   "execution_count": 2,
   "id": "494ee6bb-3aa1-4577-9340-beda02c26532",
   "metadata": {},
   "outputs": [
    {
     "data": {
      "text/plain": [
       "(851984, 118)"
      ]
     },
     "execution_count": 2,
     "metadata": {},
     "output_type": "execute_result"
    },
    {
     "data": {
      "text/plain": [
       "(877293, 119)"
      ]
     },
     "execution_count": 2,
     "metadata": {},
     "output_type": "execute_result"
    },
    {
     "data": {
      "text/plain": [
       "(906321, 120)"
      ]
     },
     "execution_count": 2,
     "metadata": {},
     "output_type": "execute_result"
    },
    {
     "data": {
      "text/plain": [
       "(939034, 120)"
      ]
     },
     "execution_count": 2,
     "metadata": {},
     "output_type": "execute_result"
    },
    {
     "data": {
      "text/plain": [
       "(971638, 122)"
      ]
     },
     "execution_count": 2,
     "metadata": {},
     "output_type": "execute_result"
    },
    {
     "data": {
      "text/plain": [
       "(1001148, 125)"
      ]
     },
     "execution_count": 2,
     "metadata": {},
     "output_type": "execute_result"
    },
    {
     "data": {
      "text/plain": [
       "(1033965, 125)"
      ]
     },
     "execution_count": 2,
     "metadata": {},
     "output_type": "execute_result"
    },
    {
     "data": {
      "text/plain": [
       "(1025150, 127)"
      ]
     },
     "execution_count": 2,
     "metadata": {},
     "output_type": "execute_result"
    },
    {
     "data": {
      "text/plain": [
       "(1059402, 127)"
      ]
     },
     "execution_count": 2,
     "metadata": {},
     "output_type": "execute_result"
    },
    {
     "name": "stdout",
     "output_type": "stream",
     "text": [
      "         rndrng_npi  tot_benes_mean  tot_benes_sum  tot_benes_median  \\\n",
      "0        1003000126        0.024069       0.001527          0.020511   \n",
      "1        1003000134        0.110788       0.006698          0.030930   \n",
      "2        1003000142        0.003256       0.000329          0.001628   \n",
      "3        1003000407        0.006232       0.001420          0.003907   \n",
      "4        1003000423        0.001872       0.000110          0.001872   \n",
      "...             ...             ...            ...               ...   \n",
      "8665930  1992999551        0.000490       0.000914          0.000196   \n",
      "8665931  1992999569        0.000034       0.000007          0.000031   \n",
      "8665932  1992999585        0.000042       0.000008          0.000039   \n",
      "8665933  1992999825        0.000332       0.000747          0.000259   \n",
      "8665934  1992999874        0.001141       0.000969          0.001006   \n",
      "\n",
      "         tot_benes_std  tot_benes_min  tot_benes_max  tot_srvcs_mean  \\\n",
      "0             0.016564       0.005860       0.007361        0.004405   \n",
      "1             0.206167       0.005698       0.074788        0.021338   \n",
      "2             0.003730       0.000163       0.001174        0.000881   \n",
      "3             0.007451       0.000000       0.003382        0.001298   \n",
      "4             0.000859       0.000814       0.000358        0.000285   \n",
      "...                ...            ...            ...             ...   \n",
      "8665930       0.001156       0.000052       0.001151        0.000493   \n",
      "8665931            NaN       0.000103       0.000024        0.000025   \n",
      "8665932            NaN       0.000129       0.000030        0.000252   \n",
      "8665933       0.000496       0.000000       0.000621        0.000254   \n",
      "8665934       0.001320       0.001031       0.001470        0.001340   \n",
      "\n",
      "         tot_srvcs_sum  tot_srvcs_median  ...  \\\n",
      "0             0.001251          0.004687  ...   \n",
      "1             0.005868          0.007077  ...   \n",
      "2             0.000333          0.001013  ...   \n",
      "3             0.001228          0.000870  ...   \n",
      "4             0.000069          0.000496  ...   \n",
      "...                ...               ...  ...   \n",
      "8665930       0.000421          0.000203  ...   \n",
      "8665931       0.000002          0.000038  ...   \n",
      "8665932       0.000025          0.000384  ...   \n",
      "8665933       0.000264          0.000321  ...   \n",
      "8665934       0.000538          0.001590  ...   \n",
      "\n",
      "         rndrng_prvdr_type_advanced heart failure and transplant cardiology  \\\n",
      "0                                                      NaN                    \n",
      "1                                                      NaN                    \n",
      "2                                                      NaN                    \n",
      "3                                                      NaN                    \n",
      "4                                                      NaN                    \n",
      "...                                                    ...                    \n",
      "8665930                                                0.0                    \n",
      "8665931                                                0.0                    \n",
      "8665932                                                0.0                    \n",
      "8665933                                                0.0                    \n",
      "8665934                                                0.0                    \n",
      "\n",
      "         rndrng_prvdr_type_clinical cardiac electrophysiology  \\\n",
      "0                                                      NaN      \n",
      "1                                                      NaN      \n",
      "2                                                      NaN      \n",
      "3                                                      NaN      \n",
      "4                                                      NaN      \n",
      "...                                                    ...      \n",
      "8665930                                                0.0      \n",
      "8665931                                                0.0      \n",
      "8665932                                                0.0      \n",
      "8665933                                                0.0      \n",
      "8665934                                                0.0      \n",
      "\n",
      "         rndrng_prvdr_type_medical toxicology  \\\n",
      "0                                         NaN   \n",
      "1                                         NaN   \n",
      "2                                         NaN   \n",
      "3                                         NaN   \n",
      "4                                         NaN   \n",
      "...                                       ...   \n",
      "8665930                                   0.0   \n",
      "8665931                                   0.0   \n",
      "8665932                                   0.0   \n",
      "8665933                                   0.0   \n",
      "8665934                                   0.0   \n",
      "\n",
      "         rndrng_prvdr_type_oral surgery (dentist only)  \\\n",
      "0                                                  NaN   \n",
      "1                                                  NaN   \n",
      "2                                                  NaN   \n",
      "3                                                  NaN   \n",
      "4                                                  NaN   \n",
      "...                                                ...   \n",
      "8665930                                            0.0   \n",
      "8665931                                            0.0   \n",
      "8665932                                            0.0   \n",
      "8665933                                            0.0   \n",
      "8665934                                            0.0   \n",
      "\n",
      "         rndrng_prvdr_type_hematopoietic cell transplantation and cellular therapy  \\\n",
      "0                                                      NaN                           \n",
      "1                                                      NaN                           \n",
      "2                                                      NaN                           \n",
      "3                                                      NaN                           \n",
      "4                                                      NaN                           \n",
      "...                                                    ...                           \n",
      "8665930                                                0.0                           \n",
      "8665931                                                0.0                           \n",
      "8665932                                                0.0                           \n",
      "8665933                                                0.0                           \n",
      "8665934                                                0.0                           \n",
      "\n",
      "         rndrng_prvdr_type_medical genetics and genomics  \\\n",
      "0                                                    NaN   \n",
      "1                                                    NaN   \n",
      "2                                                    NaN   \n",
      "3                                                    NaN   \n",
      "4                                                    NaN   \n",
      "...                                                  ...   \n",
      "8665930                                              0.0   \n",
      "8665931                                              0.0   \n",
      "8665932                                              0.0   \n",
      "8665933                                              0.0   \n",
      "8665934                                              0.0   \n",
      "\n",
      "         rndrng_prvdr_type_pharmacy  \\\n",
      "0                               NaN   \n",
      "1                               NaN   \n",
      "2                               NaN   \n",
      "3                               NaN   \n",
      "4                               NaN   \n",
      "...                             ...   \n",
      "8665930                         0.0   \n",
      "8665931                         0.0   \n",
      "8665932                         0.0   \n",
      "8665933                         0.0   \n",
      "8665934                         0.0   \n",
      "\n",
      "         rndrng_prvdr_type_undersea and hyperbaric medicine  \\\n",
      "0                                                      NaN    \n",
      "1                                                      NaN    \n",
      "2                                                      NaN    \n",
      "3                                                      NaN    \n",
      "4                                                      NaN    \n",
      "...                                                    ...    \n",
      "8665930                                                0.0    \n",
      "8665931                                                0.0    \n",
      "8665932                                                0.0    \n",
      "8665933                                                0.0    \n",
      "8665934                                                0.0    \n",
      "\n",
      "         rndrng_prvdr_type_adult congenital heart disease  \\\n",
      "0                                                     NaN   \n",
      "1                                                     NaN   \n",
      "2                                                     NaN   \n",
      "3                                                     NaN   \n",
      "4                                                     NaN   \n",
      "...                                                   ...   \n",
      "8665930                                               0.0   \n",
      "8665931                                               0.0   \n",
      "8665932                                               0.0   \n",
      "8665933                                               0.0   \n",
      "8665934                                               0.0   \n",
      "\n",
      "         rndrng_prvdr_type_micrographic dermatologic surgery  \n",
      "0                                                      NaN    \n",
      "1                                                      NaN    \n",
      "2                                                      NaN    \n",
      "3                                                      NaN    \n",
      "4                                                      NaN    \n",
      "...                                                    ...    \n",
      "8665930                                                0.0    \n",
      "8665931                                                0.0    \n",
      "8665932                                                0.0    \n",
      "8665933                                                0.0    \n",
      "8665934                                                0.0    \n",
      "\n",
      "[8665935 rows x 153 columns]\n"
     ]
    }
   ],
   "source": [
    "files = [\n",
    "    '2013.csv',\n",
    "    '2014.csv',\n",
    "    '2015.csv',\n",
    "    '2016.csv',\n",
    "    '2017.csv',\n",
    "    '2018.csv',\n",
    "    '2019.csv',\n",
    "    '2020.csv',\n",
    "    '2021.csv'\n",
    "]\n",
    "\n",
    "# Initialize an empty list to store each DataFrame\n",
    "dataframes = []\n",
    "\n",
    "# Loop through each file in the list\n",
    "for file in files:\n",
    "    # Read each file into a DataFrame\n",
    "    df = pd.read_csv(file)\n",
    "    \n",
    "    # Convert column names to lower case\n",
    "    df.columns = [col.lower() for col in df.columns]\n",
    "    \n",
    "    # Append the DataFrame to the list\n",
    "    dataframes.append(df)\n",
    "    df.shape\n",
    "\n",
    "# Concatenate all DataFrames in the list into one DataFrame\n",
    "df_final = pd.concat(dataframes, ignore_index=True)\n",
    "\n",
    "# Display the head of the concatenated DataFrame to verify\n",
    "print(df_final)\n"
   ]
  },
  {
   "cell_type": "code",
   "execution_count": 3,
   "id": "68e4197e-a822-4b35-91c2-abe598467993",
   "metadata": {},
   "outputs": [
    {
     "name": "stdout",
     "output_type": "stream",
     "text": [
      "rndrng_npi\n",
      "tot_benes_mean\n",
      "tot_benes_sum\n",
      "tot_benes_median\n",
      "tot_benes_std\n",
      "tot_benes_min\n",
      "tot_benes_max\n",
      "tot_srvcs_mean\n",
      "tot_srvcs_sum\n",
      "tot_srvcs_median\n",
      "tot_srvcs_std\n",
      "tot_srvcs_min\n",
      "tot_srvcs_max\n",
      "tot_bene_day_srvcs_mean\n",
      "tot_bene_day_srvcs_sum\n",
      "tot_bene_day_srvcs_median\n",
      "tot_bene_day_srvcs_std\n",
      "tot_bene_day_srvcs_min\n",
      "tot_bene_day_srvcs_max\n",
      "avg_sbmtd_chrg_mean\n",
      "avg_sbmtd_chrg_sum\n",
      "avg_sbmtd_chrg_median\n",
      "avg_sbmtd_chrg_std\n",
      "avg_sbmtd_chrg_min\n",
      "avg_sbmtd_chrg_max\n",
      "avg_mdcr_pymt_amt_mean\n",
      "avg_mdcr_pymt_amt_sum\n",
      "avg_mdcr_pymt_amt_median\n",
      "avg_mdcr_pymt_amt_std\n",
      "avg_mdcr_pymt_amt_min\n",
      "avg_mdcr_pymt_amt_max\n",
      "fraud\n",
      "rndrng_prvdr_type_addiction medicine\n",
      "rndrng_prvdr_type_all other suppliers\n",
      "rndrng_prvdr_type_allergy/immunology\n",
      "rndrng_prvdr_type_ambulance service supplier\n",
      "rndrng_prvdr_type_anesthesiologist assistants\n",
      "rndrng_prvdr_type_anesthesiology\n",
      "rndrng_prvdr_type_audiologist (billing independently)\n",
      "rndrng_prvdr_type_crna\n",
      "rndrng_prvdr_type_cardiac electrophysiology\n",
      "rndrng_prvdr_type_cardiac surgery\n",
      "rndrng_prvdr_type_cardiology\n",
      "rndrng_prvdr_type_certified clinical nurse specialist\n",
      "rndrng_prvdr_type_certified nurse midwife\n",
      "rndrng_prvdr_type_chiropractic\n",
      "rndrng_prvdr_type_clinical laboratory\n",
      "rndrng_prvdr_type_clinical psychologist\n",
      "rndrng_prvdr_type_colorectal surgery (formerly proctology)\n",
      "rndrng_prvdr_type_critical care (intensivists)\n",
      "rndrng_prvdr_type_dermatology\n",
      "rndrng_prvdr_type_diagnostic radiology\n",
      "rndrng_prvdr_type_emergency medicine\n",
      "rndrng_prvdr_type_endocrinology\n",
      "rndrng_prvdr_type_family practice\n",
      "rndrng_prvdr_type_gastroenterology\n",
      "rndrng_prvdr_type_general practice\n",
      "rndrng_prvdr_type_general surgery\n",
      "rndrng_prvdr_type_geriatric medicine\n",
      "rndrng_prvdr_type_geriatric psychiatry\n",
      "rndrng_prvdr_type_gynecological/oncology\n",
      "rndrng_prvdr_type_hand surgery\n",
      "rndrng_prvdr_type_hematology\n",
      "rndrng_prvdr_type_hematology/oncology\n",
      "rndrng_prvdr_type_hospice and palliative care\n",
      "rndrng_prvdr_type_independent diagnostic testing facility\n",
      "rndrng_prvdr_type_infectious disease\n",
      "rndrng_prvdr_type_internal medicine\n",
      "rndrng_prvdr_type_interventional pain management\n",
      "rndrng_prvdr_type_interventional radiology\n",
      "rndrng_prvdr_type_licensed clinical social worker\n",
      "rndrng_prvdr_type_mass immunization roster biller\n",
      "rndrng_prvdr_type_maxillofacial surgery\n",
      "rndrng_prvdr_type_medical oncology\n",
      "rndrng_prvdr_type_multispecialty clinic/group practice\n",
      "rndrng_prvdr_type_nephrology\n",
      "rndrng_prvdr_type_neurology\n",
      "rndrng_prvdr_type_neuropsychiatry\n",
      "rndrng_prvdr_type_neurosurgery\n",
      "rndrng_prvdr_type_nuclear medicine\n",
      "rndrng_prvdr_type_nurse practitioner\n",
      "rndrng_prvdr_type_obstetrics/gynecology\n",
      "rndrng_prvdr_type_occupational therapist\n",
      "rndrng_prvdr_type_ophthalmology\n",
      "rndrng_prvdr_type_optometry\n",
      "rndrng_prvdr_type_oral surgery (dentists only)\n",
      "rndrng_prvdr_type_orthopedic surgery\n",
      "rndrng_prvdr_type_osteopathic manipulative medicine\n",
      "rndrng_prvdr_type_otolaryngology\n",
      "rndrng_prvdr_type_pain management\n",
      "rndrng_prvdr_type_pathology\n",
      "rndrng_prvdr_type_pediatric medicine\n",
      "rndrng_prvdr_type_peripheral vascular disease\n",
      "rndrng_prvdr_type_physical medicine and rehabilitation\n",
      "rndrng_prvdr_type_physical therapist\n",
      "rndrng_prvdr_type_physician assistant\n",
      "rndrng_prvdr_type_plastic and reconstructive surgery\n",
      "rndrng_prvdr_type_podiatry\n",
      "rndrng_prvdr_type_portable x-ray\n",
      "rndrng_prvdr_type_preventive medicine\n",
      "rndrng_prvdr_type_psychiatry\n",
      "rndrng_prvdr_type_psychologist (billing independently)\n",
      "rndrng_prvdr_type_pulmonary disease\n",
      "rndrng_prvdr_type_radiation oncology\n",
      "rndrng_prvdr_type_registered dietician/nutrition professional\n",
      "rndrng_prvdr_type_rheumatology\n",
      "rndrng_prvdr_type_sleep medicine\n",
      "rndrng_prvdr_type_slide preparation facility\n",
      "rndrng_prvdr_type_speech language pathologist\n",
      "rndrng_prvdr_type_sports medicine\n",
      "rndrng_prvdr_type_surgical oncology\n",
      "rndrng_prvdr_type_thoracic surgery\n",
      "rndrng_prvdr_type_unknown physician specialty code\n",
      "rndrng_prvdr_type_unknown supplier/provider\n",
      "rndrng_prvdr_type_urology\n",
      "rndrng_prvdr_type_vascular surgery\n",
      "rndrng_prvdr_gndr_f\n",
      "rndrng_prvdr_gndr_m\n",
      "rndrng_prvdr_type_interventional cardiology\n",
      "rndrng_prvdr_type_public health welfare agency\n",
      "rndrng_prvdr_type_allergy/ immunology\n",
      "rndrng_prvdr_type_ambulance service provider\n",
      "rndrng_prvdr_type_anesthesiology assistant\n",
      "rndrng_prvdr_type_audiologist\n",
      "rndrng_prvdr_type_cardiovascular disease (cardiology)\n",
      "rndrng_prvdr_type_certified registered nurse anesthetist (crna)\n",
      "rndrng_prvdr_type_clinic or group practice\n",
      "rndrng_prvdr_type_clinical cardiatric electrophysiology\n",
      "rndrng_prvdr_type_colorectal surgery (proctology)\n",
      "rndrng_prvdr_type_dentist\n",
      "rndrng_prvdr_type_gynecological oncology\n",
      "rndrng_prvdr_type_hematology-oncology\n",
      "rndrng_prvdr_type_hospitalist\n",
      "rndrng_prvdr_type_independent diagnostic testing facility (idtf)\n",
      "rndrng_prvdr_type_mass immunizer roster biller\n",
      "rndrng_prvdr_type_obstetrics & gynecology\n",
      "rndrng_prvdr_type_occupational therapist in private practice\n",
      "rndrng_prvdr_type_physical therapist in private practice\n",
      "rndrng_prvdr_type_portable x-ray supplier\n",
      "rndrng_prvdr_type_psychologist, clinical\n",
      "rndrng_prvdr_type_registered dietitian or nutrition professional\n",
      "rndrng_prvdr_type_undefined physician type\n",
      "rndrng_prvdr_type_unknown supplier/provider specialty\n",
      "rndrng_prvdr_type_advanced heart failure and transplant cardiology\n",
      "rndrng_prvdr_type_clinical cardiac electrophysiology\n",
      "rndrng_prvdr_type_medical toxicology\n",
      "rndrng_prvdr_type_oral surgery (dentist only)\n",
      "rndrng_prvdr_type_hematopoietic cell transplantation and cellular therapy\n",
      "rndrng_prvdr_type_medical genetics and genomics\n",
      "rndrng_prvdr_type_pharmacy\n",
      "rndrng_prvdr_type_undersea and hyperbaric medicine\n",
      "rndrng_prvdr_type_adult congenital heart disease\n",
      "rndrng_prvdr_type_micrographic dermatologic surgery\n"
     ]
    }
   ],
   "source": [
    "for it in df_final.columns.tolist():\n",
    "    print(it)"
   ]
  },
  {
   "cell_type": "code",
   "execution_count": 4,
   "id": "05c30c32-b25b-4290-9f53-6c629bebbf34",
   "metadata": {},
   "outputs": [
    {
     "data": {
      "text/plain": [
       "(8665935, 153)"
      ]
     },
     "execution_count": 4,
     "metadata": {},
     "output_type": "execute_result"
    }
   ],
   "source": [
    "df_final.fillna(0, inplace=True)\n",
    "df_final.shape"
   ]
  },
  {
   "cell_type": "code",
   "execution_count": null,
   "id": "3b0c4257-7386-4ae3-8a33-90b4fb6f39ed",
   "metadata": {},
   "outputs": [],
   "source": []
  },
  {
   "cell_type": "code",
   "execution_count": null,
   "id": "09165415-3b09-402e-9ab7-fc9ce8bb1d54",
   "metadata": {},
   "outputs": [],
   "source": []
  },
  {
   "cell_type": "code",
   "execution_count": 5,
   "id": "39932f36-a3ff-4027-b110-e9a4ee602f43",
   "metadata": {},
   "outputs": [
    {
     "data": {
      "text/plain": [
       "1494874"
      ]
     },
     "execution_count": 5,
     "metadata": {},
     "output_type": "execute_result"
    }
   ],
   "source": [
    "len(df_final['rndrng_npi'].unique())"
   ]
  },
  {
   "cell_type": "code",
   "execution_count": 6,
   "id": "490f0f95-77bb-4675-badc-03cedc4516bb",
   "metadata": {},
   "outputs": [],
   "source": [
    "# List all columns to modify, excluding 'Rndrng_NPI' and 'fraud'\n",
    "columns_to_modify = [col for col in df_final.columns if col not in ['rndrng_npi', 'fraud']]\n",
    "for col in columns_to_modify:\n",
    "    df_final.loc[df_final[col] > 1, col] = 1"
   ]
  },
  {
   "cell_type": "code",
   "execution_count": 7,
   "id": "5f476490-860e-4921-a73e-22d124553434",
   "metadata": {},
   "outputs": [
    {
     "data": {
      "text/plain": [
       "1003000126"
      ]
     },
     "execution_count": 7,
     "metadata": {},
     "output_type": "execute_result"
    },
    {
     "data": {
      "text/plain": [
       "0.0240692076928443"
      ]
     },
     "execution_count": 7,
     "metadata": {},
     "output_type": "execute_result"
    },
    {
     "data": {
      "text/plain": [
       "0.0015268255341809"
      ]
     },
     "execution_count": 7,
     "metadata": {},
     "output_type": "execute_result"
    },
    {
     "data": {
      "text/plain": [
       "0.0205111509034673"
      ]
     },
     "execution_count": 7,
     "metadata": {},
     "output_type": "execute_result"
    },
    {
     "data": {
      "text/plain": [
       "0.0165643302015408"
      ]
     },
     "execution_count": 7,
     "metadata": {},
     "output_type": "execute_result"
    },
    {
     "data": {
      "text/plain": [
       "0.0058603288295621"
      ]
     },
     "execution_count": 7,
     "metadata": {},
     "output_type": "execute_result"
    },
    {
     "data": {
      "text/plain": [
       "0.007361426127094"
      ]
     },
     "execution_count": 7,
     "metadata": {},
     "output_type": "execute_result"
    },
    {
     "data": {
      "text/plain": [
       "0.0044051512283735"
      ]
     },
     "execution_count": 7,
     "metadata": {},
     "output_type": "execute_result"
    },
    {
     "data": {
      "text/plain": [
       "0.0012509183640206"
      ]
     },
     "execution_count": 7,
     "metadata": {},
     "output_type": "execute_result"
    },
    {
     "data": {
      "text/plain": [
       "0.0046867643492031"
      ]
     },
     "execution_count": 7,
     "metadata": {},
     "output_type": "execute_result"
    },
    {
     "data": {
      "text/plain": [
       "0.0011711367639738"
      ]
     },
     "execution_count": 7,
     "metadata": {},
     "output_type": "execute_result"
    },
    {
     "data": {
      "text/plain": [
       "0.003980189354209"
      ]
     },
     "execution_count": 7,
     "metadata": {},
     "output_type": "execute_result"
    },
    {
     "data": {
      "text/plain": [
       "0.0006147767495668"
      ]
     },
     "execution_count": 7,
     "metadata": {},
     "output_type": "execute_result"
    },
    {
     "data": {
      "text/plain": [
       "0.0127588248538572"
      ]
     },
     "execution_count": 7,
     "metadata": {},
     "output_type": "execute_result"
    },
    {
     "data": {
      "text/plain": [
       "0.0015068658700545"
      ]
     },
     "execution_count": 7,
     "metadata": {},
     "output_type": "execute_result"
    },
    {
     "data": {
      "text/plain": [
       "0.0046787385263759"
      ]
     },
     "execution_count": 7,
     "metadata": {},
     "output_type": "execute_result"
    },
    {
     "data": {
      "text/plain": [
       "0.0165119354602302"
      ]
     },
     "execution_count": 7,
     "metadata": {},
     "output_type": "execute_result"
    },
    {
     "data": {
      "text/plain": [
       "0.0048571983679813"
      ]
     },
     "execution_count": 7,
     "metadata": {},
     "output_type": "execute_result"
    },
    {
     "data": {
      "text/plain": [
       "0.0072777022982717"
      ]
     },
     "execution_count": 7,
     "metadata": {},
     "output_type": "execute_result"
    },
    {
     "data": {
      "text/plain": [
       "0.0057896712931141"
      ]
     },
     "execution_count": 7,
     "metadata": {},
     "output_type": "execute_result"
    },
    {
     "data": {
      "text/plain": [
       "0.0063085567680733"
      ]
     },
     "execution_count": 7,
     "metadata": {},
     "output_type": "execute_result"
    },
    {
     "data": {
      "text/plain": [
       "0.0052536328629924"
      ]
     },
     "execution_count": 7,
     "metadata": {},
     "output_type": "execute_result"
    },
    {
     "data": {
      "text/plain": [
       "0.0021261561919242"
      ]
     },
     "execution_count": 7,
     "metadata": {},
     "output_type": "execute_result"
    },
    {
     "data": {
      "text/plain": [
       "0.0024249974950517"
      ]
     },
     "execution_count": 7,
     "metadata": {},
     "output_type": "execute_result"
    },
    {
     "data": {
      "text/plain": [
       "0.0053375174815558"
      ]
     },
     "execution_count": 7,
     "metadata": {},
     "output_type": "execute_result"
    },
    {
     "data": {
      "text/plain": [
       "0.0062339631173475"
      ]
     },
     "execution_count": 7,
     "metadata": {},
     "output_type": "execute_result"
    },
    {
     "data": {
      "text/plain": [
       "0.0067154150159563"
      ]
     },
     "execution_count": 7,
     "metadata": {},
     "output_type": "execute_result"
    },
    {
     "data": {
      "text/plain": [
       "0.0062362541839565"
      ]
     },
     "execution_count": 7,
     "metadata": {},
     "output_type": "execute_result"
    },
    {
     "data": {
      "text/plain": [
       "0.0022518743003431"
      ]
     },
     "execution_count": 7,
     "metadata": {},
     "output_type": "execute_result"
    },
    {
     "data": {
      "text/plain": [
       "0.0083636015356604"
      ]
     },
     "execution_count": 7,
     "metadata": {},
     "output_type": "execute_result"
    },
    {
     "data": {
      "text/plain": [
       "0.0051183231761921"
      ]
     },
     "execution_count": 7,
     "metadata": {},
     "output_type": "execute_result"
    },
    {
     "data": {
      "text/plain": [
       "0"
      ]
     },
     "execution_count": 7,
     "metadata": {},
     "output_type": "execute_result"
    },
    {
     "data": {
      "text/plain": [
       "0"
      ]
     },
     "execution_count": 7,
     "metadata": {},
     "output_type": "execute_result"
    },
    {
     "data": {
      "text/plain": [
       "0.0"
      ]
     },
     "execution_count": 7,
     "metadata": {},
     "output_type": "execute_result"
    },
    {
     "data": {
      "text/plain": [
       "0.0"
      ]
     },
     "execution_count": 7,
     "metadata": {},
     "output_type": "execute_result"
    },
    {
     "data": {
      "text/plain": [
       "0.0"
      ]
     },
     "execution_count": 7,
     "metadata": {},
     "output_type": "execute_result"
    },
    {
     "data": {
      "text/plain": [
       "0.0"
      ]
     },
     "execution_count": 7,
     "metadata": {},
     "output_type": "execute_result"
    },
    {
     "data": {
      "text/plain": [
       "0"
      ]
     },
     "execution_count": 7,
     "metadata": {},
     "output_type": "execute_result"
    },
    {
     "data": {
      "text/plain": [
       "0.0"
      ]
     },
     "execution_count": 7,
     "metadata": {},
     "output_type": "execute_result"
    },
    {
     "data": {
      "text/plain": [
       "0.0"
      ]
     },
     "execution_count": 7,
     "metadata": {},
     "output_type": "execute_result"
    },
    {
     "data": {
      "text/plain": [
       "0.0"
      ]
     },
     "execution_count": 7,
     "metadata": {},
     "output_type": "execute_result"
    },
    {
     "data": {
      "text/plain": [
       "0"
      ]
     },
     "execution_count": 7,
     "metadata": {},
     "output_type": "execute_result"
    },
    {
     "data": {
      "text/plain": [
       "0.0"
      ]
     },
     "execution_count": 7,
     "metadata": {},
     "output_type": "execute_result"
    },
    {
     "data": {
      "text/plain": [
       "0"
      ]
     },
     "execution_count": 7,
     "metadata": {},
     "output_type": "execute_result"
    },
    {
     "data": {
      "text/plain": [
       "0"
      ]
     },
     "execution_count": 7,
     "metadata": {},
     "output_type": "execute_result"
    },
    {
     "data": {
      "text/plain": [
       "0"
      ]
     },
     "execution_count": 7,
     "metadata": {},
     "output_type": "execute_result"
    },
    {
     "data": {
      "text/plain": [
       "0"
      ]
     },
     "execution_count": 7,
     "metadata": {},
     "output_type": "execute_result"
    },
    {
     "data": {
      "text/plain": [
       "0.0"
      ]
     },
     "execution_count": 7,
     "metadata": {},
     "output_type": "execute_result"
    },
    {
     "data": {
      "text/plain": [
       "0.0"
      ]
     },
     "execution_count": 7,
     "metadata": {},
     "output_type": "execute_result"
    },
    {
     "data": {
      "text/plain": [
       "0"
      ]
     },
     "execution_count": 7,
     "metadata": {},
     "output_type": "execute_result"
    },
    {
     "data": {
      "text/plain": [
       "0"
      ]
     },
     "execution_count": 7,
     "metadata": {},
     "output_type": "execute_result"
    },
    {
     "data": {
      "text/plain": [
       "0"
      ]
     },
     "execution_count": 7,
     "metadata": {},
     "output_type": "execute_result"
    },
    {
     "data": {
      "text/plain": [
       "0"
      ]
     },
     "execution_count": 7,
     "metadata": {},
     "output_type": "execute_result"
    },
    {
     "data": {
      "text/plain": [
       "0"
      ]
     },
     "execution_count": 7,
     "metadata": {},
     "output_type": "execute_result"
    },
    {
     "data": {
      "text/plain": [
       "0"
      ]
     },
     "execution_count": 7,
     "metadata": {},
     "output_type": "execute_result"
    },
    {
     "data": {
      "text/plain": [
       "0"
      ]
     },
     "execution_count": 7,
     "metadata": {},
     "output_type": "execute_result"
    },
    {
     "data": {
      "text/plain": [
       "0"
      ]
     },
     "execution_count": 7,
     "metadata": {},
     "output_type": "execute_result"
    },
    {
     "data": {
      "text/plain": [
       "0"
      ]
     },
     "execution_count": 7,
     "metadata": {},
     "output_type": "execute_result"
    },
    {
     "data": {
      "text/plain": [
       "0"
      ]
     },
     "execution_count": 7,
     "metadata": {},
     "output_type": "execute_result"
    },
    {
     "data": {
      "text/plain": [
       "0"
      ]
     },
     "execution_count": 7,
     "metadata": {},
     "output_type": "execute_result"
    },
    {
     "data": {
      "text/plain": [
       "0.0"
      ]
     },
     "execution_count": 7,
     "metadata": {},
     "output_type": "execute_result"
    },
    {
     "data": {
      "text/plain": [
       "0"
      ]
     },
     "execution_count": 7,
     "metadata": {},
     "output_type": "execute_result"
    },
    {
     "data": {
      "text/plain": [
       "0"
      ]
     },
     "execution_count": 7,
     "metadata": {},
     "output_type": "execute_result"
    },
    {
     "data": {
      "text/plain": [
       "0.0"
      ]
     },
     "execution_count": 7,
     "metadata": {},
     "output_type": "execute_result"
    },
    {
     "data": {
      "text/plain": [
       "0"
      ]
     },
     "execution_count": 7,
     "metadata": {},
     "output_type": "execute_result"
    },
    {
     "data": {
      "text/plain": [
       "0.0"
      ]
     },
     "execution_count": 7,
     "metadata": {},
     "output_type": "execute_result"
    },
    {
     "data": {
      "text/plain": [
       "0"
      ]
     },
     "execution_count": 7,
     "metadata": {},
     "output_type": "execute_result"
    },
    {
     "data": {
      "text/plain": [
       "1"
      ]
     },
     "execution_count": 7,
     "metadata": {},
     "output_type": "execute_result"
    },
    {
     "data": {
      "text/plain": [
       "0"
      ]
     },
     "execution_count": 7,
     "metadata": {},
     "output_type": "execute_result"
    },
    {
     "data": {
      "text/plain": [
       "0"
      ]
     },
     "execution_count": 7,
     "metadata": {},
     "output_type": "execute_result"
    },
    {
     "data": {
      "text/plain": [
       "0"
      ]
     },
     "execution_count": 7,
     "metadata": {},
     "output_type": "execute_result"
    },
    {
     "data": {
      "text/plain": [
       "0.0"
      ]
     },
     "execution_count": 7,
     "metadata": {},
     "output_type": "execute_result"
    },
    {
     "data": {
      "text/plain": [
       "0"
      ]
     },
     "execution_count": 7,
     "metadata": {},
     "output_type": "execute_result"
    },
    {
     "data": {
      "text/plain": [
       "0"
      ]
     },
     "execution_count": 7,
     "metadata": {},
     "output_type": "execute_result"
    },
    {
     "data": {
      "text/plain": [
       "0.0"
      ]
     },
     "execution_count": 7,
     "metadata": {},
     "output_type": "execute_result"
    },
    {
     "data": {
      "text/plain": [
       "0"
      ]
     },
     "execution_count": 7,
     "metadata": {},
     "output_type": "execute_result"
    },
    {
     "data": {
      "text/plain": [
       "0"
      ]
     },
     "execution_count": 7,
     "metadata": {},
     "output_type": "execute_result"
    },
    {
     "data": {
      "text/plain": [
       "0"
      ]
     },
     "execution_count": 7,
     "metadata": {},
     "output_type": "execute_result"
    },
    {
     "data": {
      "text/plain": [
       "0"
      ]
     },
     "execution_count": 7,
     "metadata": {},
     "output_type": "execute_result"
    },
    {
     "data": {
      "text/plain": [
       "0"
      ]
     },
     "execution_count": 7,
     "metadata": {},
     "output_type": "execute_result"
    },
    {
     "data": {
      "text/plain": [
       "0"
      ]
     },
     "execution_count": 7,
     "metadata": {},
     "output_type": "execute_result"
    },
    {
     "data": {
      "text/plain": [
       "0.0"
      ]
     },
     "execution_count": 7,
     "metadata": {},
     "output_type": "execute_result"
    },
    {
     "data": {
      "text/plain": [
       "0.0"
      ]
     },
     "execution_count": 7,
     "metadata": {},
     "output_type": "execute_result"
    },
    {
     "data": {
      "text/plain": [
       "0"
      ]
     },
     "execution_count": 7,
     "metadata": {},
     "output_type": "execute_result"
    },
    {
     "data": {
      "text/plain": [
       "0"
      ]
     },
     "execution_count": 7,
     "metadata": {},
     "output_type": "execute_result"
    },
    {
     "data": {
      "text/plain": [
       "0.0"
      ]
     },
     "execution_count": 7,
     "metadata": {},
     "output_type": "execute_result"
    },
    {
     "data": {
      "text/plain": [
       "0"
      ]
     },
     "execution_count": 7,
     "metadata": {},
     "output_type": "execute_result"
    },
    {
     "data": {
      "text/plain": [
       "0"
      ]
     },
     "execution_count": 7,
     "metadata": {},
     "output_type": "execute_result"
    },
    {
     "data": {
      "text/plain": [
       "0"
      ]
     },
     "execution_count": 7,
     "metadata": {},
     "output_type": "execute_result"
    },
    {
     "data": {
      "text/plain": [
       "0"
      ]
     },
     "execution_count": 7,
     "metadata": {},
     "output_type": "execute_result"
    },
    {
     "data": {
      "text/plain": [
       "0"
      ]
     },
     "execution_count": 7,
     "metadata": {},
     "output_type": "execute_result"
    },
    {
     "data": {
      "text/plain": [
       "0"
      ]
     },
     "execution_count": 7,
     "metadata": {},
     "output_type": "execute_result"
    },
    {
     "data": {
      "text/plain": [
       "0"
      ]
     },
     "execution_count": 7,
     "metadata": {},
     "output_type": "execute_result"
    },
    {
     "data": {
      "text/plain": [
       "0"
      ]
     },
     "execution_count": 7,
     "metadata": {},
     "output_type": "execute_result"
    },
    {
     "data": {
      "text/plain": [
       "0.0"
      ]
     },
     "execution_count": 7,
     "metadata": {},
     "output_type": "execute_result"
    },
    {
     "data": {
      "text/plain": [
       "0"
      ]
     },
     "execution_count": 7,
     "metadata": {},
     "output_type": "execute_result"
    },
    {
     "data": {
      "text/plain": [
       "0"
      ]
     },
     "execution_count": 7,
     "metadata": {},
     "output_type": "execute_result"
    },
    {
     "data": {
      "text/plain": [
       "0"
      ]
     },
     "execution_count": 7,
     "metadata": {},
     "output_type": "execute_result"
    },
    {
     "data": {
      "text/plain": [
       "0.0"
      ]
     },
     "execution_count": 7,
     "metadata": {},
     "output_type": "execute_result"
    },
    {
     "data": {
      "text/plain": [
       "0"
      ]
     },
     "execution_count": 7,
     "metadata": {},
     "output_type": "execute_result"
    },
    {
     "data": {
      "text/plain": [
       "0"
      ]
     },
     "execution_count": 7,
     "metadata": {},
     "output_type": "execute_result"
    },
    {
     "data": {
      "text/plain": [
       "0.0"
      ]
     },
     "execution_count": 7,
     "metadata": {},
     "output_type": "execute_result"
    },
    {
     "data": {
      "text/plain": [
       "0"
      ]
     },
     "execution_count": 7,
     "metadata": {},
     "output_type": "execute_result"
    },
    {
     "data": {
      "text/plain": [
       "0"
      ]
     },
     "execution_count": 7,
     "metadata": {},
     "output_type": "execute_result"
    },
    {
     "data": {
      "text/plain": [
       "0.0"
      ]
     },
     "execution_count": 7,
     "metadata": {},
     "output_type": "execute_result"
    },
    {
     "data": {
      "text/plain": [
       "0"
      ]
     },
     "execution_count": 7,
     "metadata": {},
     "output_type": "execute_result"
    },
    {
     "data": {
      "text/plain": [
       "0"
      ]
     },
     "execution_count": 7,
     "metadata": {},
     "output_type": "execute_result"
    },
    {
     "data": {
      "text/plain": [
       "0"
      ]
     },
     "execution_count": 7,
     "metadata": {},
     "output_type": "execute_result"
    },
    {
     "data": {
      "text/plain": [
       "0"
      ]
     },
     "execution_count": 7,
     "metadata": {},
     "output_type": "execute_result"
    },
    {
     "data": {
      "text/plain": [
       "0"
      ]
     },
     "execution_count": 7,
     "metadata": {},
     "output_type": "execute_result"
    },
    {
     "data": {
      "text/plain": [
       "0"
      ]
     },
     "execution_count": 7,
     "metadata": {},
     "output_type": "execute_result"
    },
    {
     "data": {
      "text/plain": [
       "0"
      ]
     },
     "execution_count": 7,
     "metadata": {},
     "output_type": "execute_result"
    },
    {
     "data": {
      "text/plain": [
       "0.0"
      ]
     },
     "execution_count": 7,
     "metadata": {},
     "output_type": "execute_result"
    },
    {
     "data": {
      "text/plain": [
       "0.0"
      ]
     },
     "execution_count": 7,
     "metadata": {},
     "output_type": "execute_result"
    },
    {
     "data": {
      "text/plain": [
       "0"
      ]
     },
     "execution_count": 7,
     "metadata": {},
     "output_type": "execute_result"
    },
    {
     "data": {
      "text/plain": [
       "0"
      ]
     },
     "execution_count": 7,
     "metadata": {},
     "output_type": "execute_result"
    },
    {
     "data": {
      "text/plain": [
       "0"
      ]
     },
     "execution_count": 7,
     "metadata": {},
     "output_type": "execute_result"
    },
    {
     "data": {
      "text/plain": [
       "1"
      ]
     },
     "execution_count": 7,
     "metadata": {},
     "output_type": "execute_result"
    },
    {
     "data": {
      "text/plain": [
       "0.0"
      ]
     },
     "execution_count": 7,
     "metadata": {},
     "output_type": "execute_result"
    },
    {
     "data": {
      "text/plain": [
       "0.0"
      ]
     },
     "execution_count": 7,
     "metadata": {},
     "output_type": "execute_result"
    },
    {
     "data": {
      "text/plain": [
       "0.0"
      ]
     },
     "execution_count": 7,
     "metadata": {},
     "output_type": "execute_result"
    },
    {
     "data": {
      "text/plain": [
       "0.0"
      ]
     },
     "execution_count": 7,
     "metadata": {},
     "output_type": "execute_result"
    },
    {
     "data": {
      "text/plain": [
       "0.0"
      ]
     },
     "execution_count": 7,
     "metadata": {},
     "output_type": "execute_result"
    },
    {
     "data": {
      "text/plain": [
       "0.0"
      ]
     },
     "execution_count": 7,
     "metadata": {},
     "output_type": "execute_result"
    },
    {
     "data": {
      "text/plain": [
       "0.0"
      ]
     },
     "execution_count": 7,
     "metadata": {},
     "output_type": "execute_result"
    },
    {
     "data": {
      "text/plain": [
       "0.0"
      ]
     },
     "execution_count": 7,
     "metadata": {},
     "output_type": "execute_result"
    },
    {
     "data": {
      "text/plain": [
       "0.0"
      ]
     },
     "execution_count": 7,
     "metadata": {},
     "output_type": "execute_result"
    },
    {
     "data": {
      "text/plain": [
       "0.0"
      ]
     },
     "execution_count": 7,
     "metadata": {},
     "output_type": "execute_result"
    },
    {
     "data": {
      "text/plain": [
       "0.0"
      ]
     },
     "execution_count": 7,
     "metadata": {},
     "output_type": "execute_result"
    },
    {
     "data": {
      "text/plain": [
       "0.0"
      ]
     },
     "execution_count": 7,
     "metadata": {},
     "output_type": "execute_result"
    },
    {
     "data": {
      "text/plain": [
       "0.0"
      ]
     },
     "execution_count": 7,
     "metadata": {},
     "output_type": "execute_result"
    },
    {
     "data": {
      "text/plain": [
       "0.0"
      ]
     },
     "execution_count": 7,
     "metadata": {},
     "output_type": "execute_result"
    },
    {
     "data": {
      "text/plain": [
       "0.0"
      ]
     },
     "execution_count": 7,
     "metadata": {},
     "output_type": "execute_result"
    },
    {
     "data": {
      "text/plain": [
       "0.0"
      ]
     },
     "execution_count": 7,
     "metadata": {},
     "output_type": "execute_result"
    },
    {
     "data": {
      "text/plain": [
       "0.0"
      ]
     },
     "execution_count": 7,
     "metadata": {},
     "output_type": "execute_result"
    },
    {
     "data": {
      "text/plain": [
       "0.0"
      ]
     },
     "execution_count": 7,
     "metadata": {},
     "output_type": "execute_result"
    },
    {
     "data": {
      "text/plain": [
       "0.0"
      ]
     },
     "execution_count": 7,
     "metadata": {},
     "output_type": "execute_result"
    },
    {
     "data": {
      "text/plain": [
       "0.0"
      ]
     },
     "execution_count": 7,
     "metadata": {},
     "output_type": "execute_result"
    },
    {
     "data": {
      "text/plain": [
       "0.0"
      ]
     },
     "execution_count": 7,
     "metadata": {},
     "output_type": "execute_result"
    },
    {
     "data": {
      "text/plain": [
       "0.0"
      ]
     },
     "execution_count": 7,
     "metadata": {},
     "output_type": "execute_result"
    },
    {
     "data": {
      "text/plain": [
       "0.0"
      ]
     },
     "execution_count": 7,
     "metadata": {},
     "output_type": "execute_result"
    },
    {
     "data": {
      "text/plain": [
       "0.0"
      ]
     },
     "execution_count": 7,
     "metadata": {},
     "output_type": "execute_result"
    },
    {
     "data": {
      "text/plain": [
       "0.0"
      ]
     },
     "execution_count": 7,
     "metadata": {},
     "output_type": "execute_result"
    },
    {
     "data": {
      "text/plain": [
       "0.0"
      ]
     },
     "execution_count": 7,
     "metadata": {},
     "output_type": "execute_result"
    },
    {
     "data": {
      "text/plain": [
       "0.0"
      ]
     },
     "execution_count": 7,
     "metadata": {},
     "output_type": "execute_result"
    },
    {
     "data": {
      "text/plain": [
       "0.0"
      ]
     },
     "execution_count": 7,
     "metadata": {},
     "output_type": "execute_result"
    },
    {
     "data": {
      "text/plain": [
       "0.0"
      ]
     },
     "execution_count": 7,
     "metadata": {},
     "output_type": "execute_result"
    },
    {
     "data": {
      "text/plain": [
       "0.0"
      ]
     },
     "execution_count": 7,
     "metadata": {},
     "output_type": "execute_result"
    },
    {
     "data": {
      "text/plain": [
       "0.0"
      ]
     },
     "execution_count": 7,
     "metadata": {},
     "output_type": "execute_result"
    },
    {
     "data": {
      "text/plain": [
       "0.0"
      ]
     },
     "execution_count": 7,
     "metadata": {},
     "output_type": "execute_result"
    },
    {
     "data": {
      "text/plain": [
       "0.0"
      ]
     },
     "execution_count": 7,
     "metadata": {},
     "output_type": "execute_result"
    },
    {
     "data": {
      "text/plain": [
       "0.0"
      ]
     },
     "execution_count": 7,
     "metadata": {},
     "output_type": "execute_result"
    },
    {
     "data": {
      "text/plain": [
       "0.0"
      ]
     },
     "execution_count": 7,
     "metadata": {},
     "output_type": "execute_result"
    }
   ],
   "source": [
    "for i in df_final.iloc[[0]]:\n",
    "    df_final[i][0]"
   ]
  },
  {
   "cell_type": "code",
   "execution_count": 8,
   "id": "e117d8f3-cffd-4f0d-917b-cacd9e670e96",
   "metadata": {},
   "outputs": [
    {
     "data": {
      "text/plain": [
       "'rndrng_npi'"
      ]
     },
     "execution_count": 8,
     "metadata": {},
     "output_type": "execute_result"
    },
    {
     "data": {
      "text/plain": [
       "'tot_benes_mean'"
      ]
     },
     "execution_count": 8,
     "metadata": {},
     "output_type": "execute_result"
    },
    {
     "data": {
      "text/plain": [
       "'tot_benes_sum'"
      ]
     },
     "execution_count": 8,
     "metadata": {},
     "output_type": "execute_result"
    },
    {
     "data": {
      "text/plain": [
       "'tot_benes_median'"
      ]
     },
     "execution_count": 8,
     "metadata": {},
     "output_type": "execute_result"
    },
    {
     "data": {
      "text/plain": [
       "'tot_benes_std'"
      ]
     },
     "execution_count": 8,
     "metadata": {},
     "output_type": "execute_result"
    },
    {
     "data": {
      "text/plain": [
       "'tot_benes_min'"
      ]
     },
     "execution_count": 8,
     "metadata": {},
     "output_type": "execute_result"
    },
    {
     "data": {
      "text/plain": [
       "'tot_benes_max'"
      ]
     },
     "execution_count": 8,
     "metadata": {},
     "output_type": "execute_result"
    },
    {
     "data": {
      "text/plain": [
       "'tot_srvcs_mean'"
      ]
     },
     "execution_count": 8,
     "metadata": {},
     "output_type": "execute_result"
    },
    {
     "data": {
      "text/plain": [
       "'tot_srvcs_sum'"
      ]
     },
     "execution_count": 8,
     "metadata": {},
     "output_type": "execute_result"
    },
    {
     "data": {
      "text/plain": [
       "'tot_srvcs_median'"
      ]
     },
     "execution_count": 8,
     "metadata": {},
     "output_type": "execute_result"
    },
    {
     "data": {
      "text/plain": [
       "'tot_srvcs_std'"
      ]
     },
     "execution_count": 8,
     "metadata": {},
     "output_type": "execute_result"
    },
    {
     "data": {
      "text/plain": [
       "'tot_srvcs_min'"
      ]
     },
     "execution_count": 8,
     "metadata": {},
     "output_type": "execute_result"
    },
    {
     "data": {
      "text/plain": [
       "'tot_srvcs_max'"
      ]
     },
     "execution_count": 8,
     "metadata": {},
     "output_type": "execute_result"
    },
    {
     "data": {
      "text/plain": [
       "'tot_bene_day_srvcs_mean'"
      ]
     },
     "execution_count": 8,
     "metadata": {},
     "output_type": "execute_result"
    },
    {
     "data": {
      "text/plain": [
       "'tot_bene_day_srvcs_sum'"
      ]
     },
     "execution_count": 8,
     "metadata": {},
     "output_type": "execute_result"
    },
    {
     "data": {
      "text/plain": [
       "'tot_bene_day_srvcs_median'"
      ]
     },
     "execution_count": 8,
     "metadata": {},
     "output_type": "execute_result"
    },
    {
     "data": {
      "text/plain": [
       "'tot_bene_day_srvcs_std'"
      ]
     },
     "execution_count": 8,
     "metadata": {},
     "output_type": "execute_result"
    },
    {
     "data": {
      "text/plain": [
       "'tot_bene_day_srvcs_min'"
      ]
     },
     "execution_count": 8,
     "metadata": {},
     "output_type": "execute_result"
    },
    {
     "data": {
      "text/plain": [
       "'tot_bene_day_srvcs_max'"
      ]
     },
     "execution_count": 8,
     "metadata": {},
     "output_type": "execute_result"
    },
    {
     "data": {
      "text/plain": [
       "'avg_sbmtd_chrg_mean'"
      ]
     },
     "execution_count": 8,
     "metadata": {},
     "output_type": "execute_result"
    },
    {
     "data": {
      "text/plain": [
       "'avg_sbmtd_chrg_sum'"
      ]
     },
     "execution_count": 8,
     "metadata": {},
     "output_type": "execute_result"
    },
    {
     "data": {
      "text/plain": [
       "'avg_sbmtd_chrg_median'"
      ]
     },
     "execution_count": 8,
     "metadata": {},
     "output_type": "execute_result"
    },
    {
     "data": {
      "text/plain": [
       "'avg_sbmtd_chrg_std'"
      ]
     },
     "execution_count": 8,
     "metadata": {},
     "output_type": "execute_result"
    },
    {
     "data": {
      "text/plain": [
       "'avg_sbmtd_chrg_min'"
      ]
     },
     "execution_count": 8,
     "metadata": {},
     "output_type": "execute_result"
    },
    {
     "data": {
      "text/plain": [
       "'avg_sbmtd_chrg_max'"
      ]
     },
     "execution_count": 8,
     "metadata": {},
     "output_type": "execute_result"
    },
    {
     "data": {
      "text/plain": [
       "'avg_mdcr_pymt_amt_mean'"
      ]
     },
     "execution_count": 8,
     "metadata": {},
     "output_type": "execute_result"
    },
    {
     "data": {
      "text/plain": [
       "'avg_mdcr_pymt_amt_sum'"
      ]
     },
     "execution_count": 8,
     "metadata": {},
     "output_type": "execute_result"
    },
    {
     "data": {
      "text/plain": [
       "'avg_mdcr_pymt_amt_median'"
      ]
     },
     "execution_count": 8,
     "metadata": {},
     "output_type": "execute_result"
    },
    {
     "data": {
      "text/plain": [
       "'avg_mdcr_pymt_amt_std'"
      ]
     },
     "execution_count": 8,
     "metadata": {},
     "output_type": "execute_result"
    },
    {
     "data": {
      "text/plain": [
       "'avg_mdcr_pymt_amt_min'"
      ]
     },
     "execution_count": 8,
     "metadata": {},
     "output_type": "execute_result"
    },
    {
     "data": {
      "text/plain": [
       "'avg_mdcr_pymt_amt_max'"
      ]
     },
     "execution_count": 8,
     "metadata": {},
     "output_type": "execute_result"
    },
    {
     "data": {
      "text/plain": [
       "'fraud'"
      ]
     },
     "execution_count": 8,
     "metadata": {},
     "output_type": "execute_result"
    },
    {
     "data": {
      "text/plain": [
       "'rndrng_prvdr_type_addiction medicine'"
      ]
     },
     "execution_count": 8,
     "metadata": {},
     "output_type": "execute_result"
    },
    {
     "data": {
      "text/plain": [
       "'rndrng_prvdr_type_all other suppliers'"
      ]
     },
     "execution_count": 8,
     "metadata": {},
     "output_type": "execute_result"
    },
    {
     "data": {
      "text/plain": [
       "'rndrng_prvdr_type_allergy/immunology'"
      ]
     },
     "execution_count": 8,
     "metadata": {},
     "output_type": "execute_result"
    },
    {
     "data": {
      "text/plain": [
       "'rndrng_prvdr_type_ambulance service supplier'"
      ]
     },
     "execution_count": 8,
     "metadata": {},
     "output_type": "execute_result"
    },
    {
     "data": {
      "text/plain": [
       "'rndrng_prvdr_type_anesthesiologist assistants'"
      ]
     },
     "execution_count": 8,
     "metadata": {},
     "output_type": "execute_result"
    },
    {
     "data": {
      "text/plain": [
       "'rndrng_prvdr_type_anesthesiology'"
      ]
     },
     "execution_count": 8,
     "metadata": {},
     "output_type": "execute_result"
    },
    {
     "data": {
      "text/plain": [
       "'rndrng_prvdr_type_audiologist (billing independently)'"
      ]
     },
     "execution_count": 8,
     "metadata": {},
     "output_type": "execute_result"
    },
    {
     "data": {
      "text/plain": [
       "'rndrng_prvdr_type_crna'"
      ]
     },
     "execution_count": 8,
     "metadata": {},
     "output_type": "execute_result"
    },
    {
     "data": {
      "text/plain": [
       "'rndrng_prvdr_type_cardiac electrophysiology'"
      ]
     },
     "execution_count": 8,
     "metadata": {},
     "output_type": "execute_result"
    },
    {
     "data": {
      "text/plain": [
       "'rndrng_prvdr_type_cardiac surgery'"
      ]
     },
     "execution_count": 8,
     "metadata": {},
     "output_type": "execute_result"
    },
    {
     "data": {
      "text/plain": [
       "'rndrng_prvdr_type_cardiology'"
      ]
     },
     "execution_count": 8,
     "metadata": {},
     "output_type": "execute_result"
    },
    {
     "data": {
      "text/plain": [
       "'rndrng_prvdr_type_certified clinical nurse specialist'"
      ]
     },
     "execution_count": 8,
     "metadata": {},
     "output_type": "execute_result"
    },
    {
     "data": {
      "text/plain": [
       "'rndrng_prvdr_type_certified nurse midwife'"
      ]
     },
     "execution_count": 8,
     "metadata": {},
     "output_type": "execute_result"
    },
    {
     "data": {
      "text/plain": [
       "'rndrng_prvdr_type_chiropractic'"
      ]
     },
     "execution_count": 8,
     "metadata": {},
     "output_type": "execute_result"
    },
    {
     "data": {
      "text/plain": [
       "'rndrng_prvdr_type_clinical laboratory'"
      ]
     },
     "execution_count": 8,
     "metadata": {},
     "output_type": "execute_result"
    },
    {
     "data": {
      "text/plain": [
       "'rndrng_prvdr_type_clinical psychologist'"
      ]
     },
     "execution_count": 8,
     "metadata": {},
     "output_type": "execute_result"
    },
    {
     "data": {
      "text/plain": [
       "'rndrng_prvdr_type_colorectal surgery (formerly proctology)'"
      ]
     },
     "execution_count": 8,
     "metadata": {},
     "output_type": "execute_result"
    },
    {
     "data": {
      "text/plain": [
       "'rndrng_prvdr_type_critical care (intensivists)'"
      ]
     },
     "execution_count": 8,
     "metadata": {},
     "output_type": "execute_result"
    },
    {
     "data": {
      "text/plain": [
       "'rndrng_prvdr_type_dermatology'"
      ]
     },
     "execution_count": 8,
     "metadata": {},
     "output_type": "execute_result"
    },
    {
     "data": {
      "text/plain": [
       "'rndrng_prvdr_type_diagnostic radiology'"
      ]
     },
     "execution_count": 8,
     "metadata": {},
     "output_type": "execute_result"
    },
    {
     "data": {
      "text/plain": [
       "'rndrng_prvdr_type_emergency medicine'"
      ]
     },
     "execution_count": 8,
     "metadata": {},
     "output_type": "execute_result"
    },
    {
     "data": {
      "text/plain": [
       "'rndrng_prvdr_type_endocrinology'"
      ]
     },
     "execution_count": 8,
     "metadata": {},
     "output_type": "execute_result"
    },
    {
     "data": {
      "text/plain": [
       "'rndrng_prvdr_type_family practice'"
      ]
     },
     "execution_count": 8,
     "metadata": {},
     "output_type": "execute_result"
    },
    {
     "data": {
      "text/plain": [
       "'rndrng_prvdr_type_gastroenterology'"
      ]
     },
     "execution_count": 8,
     "metadata": {},
     "output_type": "execute_result"
    },
    {
     "data": {
      "text/plain": [
       "'rndrng_prvdr_type_general practice'"
      ]
     },
     "execution_count": 8,
     "metadata": {},
     "output_type": "execute_result"
    },
    {
     "data": {
      "text/plain": [
       "'rndrng_prvdr_type_general surgery'"
      ]
     },
     "execution_count": 8,
     "metadata": {},
     "output_type": "execute_result"
    },
    {
     "data": {
      "text/plain": [
       "'rndrng_prvdr_type_geriatric medicine'"
      ]
     },
     "execution_count": 8,
     "metadata": {},
     "output_type": "execute_result"
    },
    {
     "data": {
      "text/plain": [
       "'rndrng_prvdr_type_geriatric psychiatry'"
      ]
     },
     "execution_count": 8,
     "metadata": {},
     "output_type": "execute_result"
    },
    {
     "data": {
      "text/plain": [
       "'rndrng_prvdr_type_gynecological/oncology'"
      ]
     },
     "execution_count": 8,
     "metadata": {},
     "output_type": "execute_result"
    },
    {
     "data": {
      "text/plain": [
       "'rndrng_prvdr_type_hand surgery'"
      ]
     },
     "execution_count": 8,
     "metadata": {},
     "output_type": "execute_result"
    },
    {
     "data": {
      "text/plain": [
       "'rndrng_prvdr_type_hematology'"
      ]
     },
     "execution_count": 8,
     "metadata": {},
     "output_type": "execute_result"
    },
    {
     "data": {
      "text/plain": [
       "'rndrng_prvdr_type_hematology/oncology'"
      ]
     },
     "execution_count": 8,
     "metadata": {},
     "output_type": "execute_result"
    },
    {
     "data": {
      "text/plain": [
       "'rndrng_prvdr_type_hospice and palliative care'"
      ]
     },
     "execution_count": 8,
     "metadata": {},
     "output_type": "execute_result"
    },
    {
     "data": {
      "text/plain": [
       "'rndrng_prvdr_type_independent diagnostic testing facility'"
      ]
     },
     "execution_count": 8,
     "metadata": {},
     "output_type": "execute_result"
    },
    {
     "data": {
      "text/plain": [
       "'rndrng_prvdr_type_infectious disease'"
      ]
     },
     "execution_count": 8,
     "metadata": {},
     "output_type": "execute_result"
    },
    {
     "data": {
      "text/plain": [
       "'rndrng_prvdr_type_internal medicine'"
      ]
     },
     "execution_count": 8,
     "metadata": {},
     "output_type": "execute_result"
    },
    {
     "data": {
      "text/plain": [
       "'rndrng_prvdr_type_interventional pain management'"
      ]
     },
     "execution_count": 8,
     "metadata": {},
     "output_type": "execute_result"
    },
    {
     "data": {
      "text/plain": [
       "'rndrng_prvdr_type_interventional radiology'"
      ]
     },
     "execution_count": 8,
     "metadata": {},
     "output_type": "execute_result"
    },
    {
     "data": {
      "text/plain": [
       "'rndrng_prvdr_type_licensed clinical social worker'"
      ]
     },
     "execution_count": 8,
     "metadata": {},
     "output_type": "execute_result"
    },
    {
     "data": {
      "text/plain": [
       "'rndrng_prvdr_type_mass immunization roster biller'"
      ]
     },
     "execution_count": 8,
     "metadata": {},
     "output_type": "execute_result"
    },
    {
     "data": {
      "text/plain": [
       "'rndrng_prvdr_type_maxillofacial surgery'"
      ]
     },
     "execution_count": 8,
     "metadata": {},
     "output_type": "execute_result"
    },
    {
     "data": {
      "text/plain": [
       "'rndrng_prvdr_type_medical oncology'"
      ]
     },
     "execution_count": 8,
     "metadata": {},
     "output_type": "execute_result"
    },
    {
     "data": {
      "text/plain": [
       "'rndrng_prvdr_type_multispecialty clinic/group practice'"
      ]
     },
     "execution_count": 8,
     "metadata": {},
     "output_type": "execute_result"
    },
    {
     "data": {
      "text/plain": [
       "'rndrng_prvdr_type_nephrology'"
      ]
     },
     "execution_count": 8,
     "metadata": {},
     "output_type": "execute_result"
    },
    {
     "data": {
      "text/plain": [
       "'rndrng_prvdr_type_neurology'"
      ]
     },
     "execution_count": 8,
     "metadata": {},
     "output_type": "execute_result"
    },
    {
     "data": {
      "text/plain": [
       "'rndrng_prvdr_type_neuropsychiatry'"
      ]
     },
     "execution_count": 8,
     "metadata": {},
     "output_type": "execute_result"
    },
    {
     "data": {
      "text/plain": [
       "'rndrng_prvdr_type_neurosurgery'"
      ]
     },
     "execution_count": 8,
     "metadata": {},
     "output_type": "execute_result"
    },
    {
     "data": {
      "text/plain": [
       "'rndrng_prvdr_type_nuclear medicine'"
      ]
     },
     "execution_count": 8,
     "metadata": {},
     "output_type": "execute_result"
    },
    {
     "data": {
      "text/plain": [
       "'rndrng_prvdr_type_nurse practitioner'"
      ]
     },
     "execution_count": 8,
     "metadata": {},
     "output_type": "execute_result"
    },
    {
     "data": {
      "text/plain": [
       "'rndrng_prvdr_type_obstetrics/gynecology'"
      ]
     },
     "execution_count": 8,
     "metadata": {},
     "output_type": "execute_result"
    },
    {
     "data": {
      "text/plain": [
       "'rndrng_prvdr_type_occupational therapist'"
      ]
     },
     "execution_count": 8,
     "metadata": {},
     "output_type": "execute_result"
    },
    {
     "data": {
      "text/plain": [
       "'rndrng_prvdr_type_ophthalmology'"
      ]
     },
     "execution_count": 8,
     "metadata": {},
     "output_type": "execute_result"
    },
    {
     "data": {
      "text/plain": [
       "'rndrng_prvdr_type_optometry'"
      ]
     },
     "execution_count": 8,
     "metadata": {},
     "output_type": "execute_result"
    },
    {
     "data": {
      "text/plain": [
       "'rndrng_prvdr_type_oral surgery (dentists only)'"
      ]
     },
     "execution_count": 8,
     "metadata": {},
     "output_type": "execute_result"
    },
    {
     "data": {
      "text/plain": [
       "'rndrng_prvdr_type_orthopedic surgery'"
      ]
     },
     "execution_count": 8,
     "metadata": {},
     "output_type": "execute_result"
    },
    {
     "data": {
      "text/plain": [
       "'rndrng_prvdr_type_osteopathic manipulative medicine'"
      ]
     },
     "execution_count": 8,
     "metadata": {},
     "output_type": "execute_result"
    },
    {
     "data": {
      "text/plain": [
       "'rndrng_prvdr_type_otolaryngology'"
      ]
     },
     "execution_count": 8,
     "metadata": {},
     "output_type": "execute_result"
    },
    {
     "data": {
      "text/plain": [
       "'rndrng_prvdr_type_pain management'"
      ]
     },
     "execution_count": 8,
     "metadata": {},
     "output_type": "execute_result"
    },
    {
     "data": {
      "text/plain": [
       "'rndrng_prvdr_type_pathology'"
      ]
     },
     "execution_count": 8,
     "metadata": {},
     "output_type": "execute_result"
    },
    {
     "data": {
      "text/plain": [
       "'rndrng_prvdr_type_pediatric medicine'"
      ]
     },
     "execution_count": 8,
     "metadata": {},
     "output_type": "execute_result"
    },
    {
     "data": {
      "text/plain": [
       "'rndrng_prvdr_type_peripheral vascular disease'"
      ]
     },
     "execution_count": 8,
     "metadata": {},
     "output_type": "execute_result"
    },
    {
     "data": {
      "text/plain": [
       "'rndrng_prvdr_type_physical medicine and rehabilitation'"
      ]
     },
     "execution_count": 8,
     "metadata": {},
     "output_type": "execute_result"
    },
    {
     "data": {
      "text/plain": [
       "'rndrng_prvdr_type_physical therapist'"
      ]
     },
     "execution_count": 8,
     "metadata": {},
     "output_type": "execute_result"
    },
    {
     "data": {
      "text/plain": [
       "'rndrng_prvdr_type_physician assistant'"
      ]
     },
     "execution_count": 8,
     "metadata": {},
     "output_type": "execute_result"
    },
    {
     "data": {
      "text/plain": [
       "'rndrng_prvdr_type_plastic and reconstructive surgery'"
      ]
     },
     "execution_count": 8,
     "metadata": {},
     "output_type": "execute_result"
    },
    {
     "data": {
      "text/plain": [
       "'rndrng_prvdr_type_podiatry'"
      ]
     },
     "execution_count": 8,
     "metadata": {},
     "output_type": "execute_result"
    },
    {
     "data": {
      "text/plain": [
       "'rndrng_prvdr_type_portable x-ray'"
      ]
     },
     "execution_count": 8,
     "metadata": {},
     "output_type": "execute_result"
    },
    {
     "data": {
      "text/plain": [
       "'rndrng_prvdr_type_preventive medicine'"
      ]
     },
     "execution_count": 8,
     "metadata": {},
     "output_type": "execute_result"
    },
    {
     "data": {
      "text/plain": [
       "'rndrng_prvdr_type_psychiatry'"
      ]
     },
     "execution_count": 8,
     "metadata": {},
     "output_type": "execute_result"
    },
    {
     "data": {
      "text/plain": [
       "'rndrng_prvdr_type_psychologist (billing independently)'"
      ]
     },
     "execution_count": 8,
     "metadata": {},
     "output_type": "execute_result"
    },
    {
     "data": {
      "text/plain": [
       "'rndrng_prvdr_type_pulmonary disease'"
      ]
     },
     "execution_count": 8,
     "metadata": {},
     "output_type": "execute_result"
    },
    {
     "data": {
      "text/plain": [
       "'rndrng_prvdr_type_radiation oncology'"
      ]
     },
     "execution_count": 8,
     "metadata": {},
     "output_type": "execute_result"
    },
    {
     "data": {
      "text/plain": [
       "'rndrng_prvdr_type_registered dietician/nutrition professional'"
      ]
     },
     "execution_count": 8,
     "metadata": {},
     "output_type": "execute_result"
    },
    {
     "data": {
      "text/plain": [
       "'rndrng_prvdr_type_rheumatology'"
      ]
     },
     "execution_count": 8,
     "metadata": {},
     "output_type": "execute_result"
    },
    {
     "data": {
      "text/plain": [
       "'rndrng_prvdr_type_sleep medicine'"
      ]
     },
     "execution_count": 8,
     "metadata": {},
     "output_type": "execute_result"
    },
    {
     "data": {
      "text/plain": [
       "'rndrng_prvdr_type_slide preparation facility'"
      ]
     },
     "execution_count": 8,
     "metadata": {},
     "output_type": "execute_result"
    },
    {
     "data": {
      "text/plain": [
       "'rndrng_prvdr_type_speech language pathologist'"
      ]
     },
     "execution_count": 8,
     "metadata": {},
     "output_type": "execute_result"
    },
    {
     "data": {
      "text/plain": [
       "'rndrng_prvdr_type_sports medicine'"
      ]
     },
     "execution_count": 8,
     "metadata": {},
     "output_type": "execute_result"
    },
    {
     "data": {
      "text/plain": [
       "'rndrng_prvdr_type_surgical oncology'"
      ]
     },
     "execution_count": 8,
     "metadata": {},
     "output_type": "execute_result"
    },
    {
     "data": {
      "text/plain": [
       "'rndrng_prvdr_type_thoracic surgery'"
      ]
     },
     "execution_count": 8,
     "metadata": {},
     "output_type": "execute_result"
    },
    {
     "data": {
      "text/plain": [
       "'rndrng_prvdr_type_unknown physician specialty code'"
      ]
     },
     "execution_count": 8,
     "metadata": {},
     "output_type": "execute_result"
    },
    {
     "data": {
      "text/plain": [
       "'rndrng_prvdr_type_unknown supplier/provider'"
      ]
     },
     "execution_count": 8,
     "metadata": {},
     "output_type": "execute_result"
    },
    {
     "data": {
      "text/plain": [
       "'rndrng_prvdr_type_urology'"
      ]
     },
     "execution_count": 8,
     "metadata": {},
     "output_type": "execute_result"
    },
    {
     "data": {
      "text/plain": [
       "'rndrng_prvdr_type_vascular surgery'"
      ]
     },
     "execution_count": 8,
     "metadata": {},
     "output_type": "execute_result"
    },
    {
     "data": {
      "text/plain": [
       "'rndrng_prvdr_gndr_f'"
      ]
     },
     "execution_count": 8,
     "metadata": {},
     "output_type": "execute_result"
    },
    {
     "data": {
      "text/plain": [
       "'rndrng_prvdr_gndr_m'"
      ]
     },
     "execution_count": 8,
     "metadata": {},
     "output_type": "execute_result"
    },
    {
     "data": {
      "text/plain": [
       "'rndrng_prvdr_type_interventional cardiology'"
      ]
     },
     "execution_count": 8,
     "metadata": {},
     "output_type": "execute_result"
    },
    {
     "data": {
      "text/plain": [
       "'rndrng_prvdr_type_public health welfare agency'"
      ]
     },
     "execution_count": 8,
     "metadata": {},
     "output_type": "execute_result"
    },
    {
     "data": {
      "text/plain": [
       "'rndrng_prvdr_type_allergy/ immunology'"
      ]
     },
     "execution_count": 8,
     "metadata": {},
     "output_type": "execute_result"
    },
    {
     "data": {
      "text/plain": [
       "'rndrng_prvdr_type_ambulance service provider'"
      ]
     },
     "execution_count": 8,
     "metadata": {},
     "output_type": "execute_result"
    },
    {
     "data": {
      "text/plain": [
       "'rndrng_prvdr_type_anesthesiology assistant'"
      ]
     },
     "execution_count": 8,
     "metadata": {},
     "output_type": "execute_result"
    },
    {
     "data": {
      "text/plain": [
       "'rndrng_prvdr_type_audiologist'"
      ]
     },
     "execution_count": 8,
     "metadata": {},
     "output_type": "execute_result"
    },
    {
     "data": {
      "text/plain": [
       "'rndrng_prvdr_type_cardiovascular disease (cardiology)'"
      ]
     },
     "execution_count": 8,
     "metadata": {},
     "output_type": "execute_result"
    },
    {
     "data": {
      "text/plain": [
       "'rndrng_prvdr_type_certified registered nurse anesthetist (crna)'"
      ]
     },
     "execution_count": 8,
     "metadata": {},
     "output_type": "execute_result"
    },
    {
     "data": {
      "text/plain": [
       "'rndrng_prvdr_type_clinic or group practice'"
      ]
     },
     "execution_count": 8,
     "metadata": {},
     "output_type": "execute_result"
    },
    {
     "data": {
      "text/plain": [
       "'rndrng_prvdr_type_clinical cardiatric electrophysiology'"
      ]
     },
     "execution_count": 8,
     "metadata": {},
     "output_type": "execute_result"
    },
    {
     "data": {
      "text/plain": [
       "'rndrng_prvdr_type_colorectal surgery (proctology)'"
      ]
     },
     "execution_count": 8,
     "metadata": {},
     "output_type": "execute_result"
    },
    {
     "data": {
      "text/plain": [
       "'rndrng_prvdr_type_dentist'"
      ]
     },
     "execution_count": 8,
     "metadata": {},
     "output_type": "execute_result"
    },
    {
     "data": {
      "text/plain": [
       "'rndrng_prvdr_type_gynecological oncology'"
      ]
     },
     "execution_count": 8,
     "metadata": {},
     "output_type": "execute_result"
    },
    {
     "data": {
      "text/plain": [
       "'rndrng_prvdr_type_hematology-oncology'"
      ]
     },
     "execution_count": 8,
     "metadata": {},
     "output_type": "execute_result"
    },
    {
     "data": {
      "text/plain": [
       "'rndrng_prvdr_type_hospitalist'"
      ]
     },
     "execution_count": 8,
     "metadata": {},
     "output_type": "execute_result"
    },
    {
     "data": {
      "text/plain": [
       "'rndrng_prvdr_type_independent diagnostic testing facility (idtf)'"
      ]
     },
     "execution_count": 8,
     "metadata": {},
     "output_type": "execute_result"
    },
    {
     "data": {
      "text/plain": [
       "'rndrng_prvdr_type_mass immunizer roster biller'"
      ]
     },
     "execution_count": 8,
     "metadata": {},
     "output_type": "execute_result"
    },
    {
     "data": {
      "text/plain": [
       "'rndrng_prvdr_type_obstetrics & gynecology'"
      ]
     },
     "execution_count": 8,
     "metadata": {},
     "output_type": "execute_result"
    },
    {
     "data": {
      "text/plain": [
       "'rndrng_prvdr_type_occupational therapist in private practice'"
      ]
     },
     "execution_count": 8,
     "metadata": {},
     "output_type": "execute_result"
    },
    {
     "data": {
      "text/plain": [
       "'rndrng_prvdr_type_physical therapist in private practice'"
      ]
     },
     "execution_count": 8,
     "metadata": {},
     "output_type": "execute_result"
    },
    {
     "data": {
      "text/plain": [
       "'rndrng_prvdr_type_portable x-ray supplier'"
      ]
     },
     "execution_count": 8,
     "metadata": {},
     "output_type": "execute_result"
    },
    {
     "data": {
      "text/plain": [
       "'rndrng_prvdr_type_psychologist, clinical'"
      ]
     },
     "execution_count": 8,
     "metadata": {},
     "output_type": "execute_result"
    },
    {
     "data": {
      "text/plain": [
       "'rndrng_prvdr_type_registered dietitian or nutrition professional'"
      ]
     },
     "execution_count": 8,
     "metadata": {},
     "output_type": "execute_result"
    },
    {
     "data": {
      "text/plain": [
       "'rndrng_prvdr_type_undefined physician type'"
      ]
     },
     "execution_count": 8,
     "metadata": {},
     "output_type": "execute_result"
    },
    {
     "data": {
      "text/plain": [
       "'rndrng_prvdr_type_unknown supplier/provider specialty'"
      ]
     },
     "execution_count": 8,
     "metadata": {},
     "output_type": "execute_result"
    },
    {
     "data": {
      "text/plain": [
       "'rndrng_prvdr_type_advanced heart failure and transplant cardiology'"
      ]
     },
     "execution_count": 8,
     "metadata": {},
     "output_type": "execute_result"
    },
    {
     "data": {
      "text/plain": [
       "'rndrng_prvdr_type_clinical cardiac electrophysiology'"
      ]
     },
     "execution_count": 8,
     "metadata": {},
     "output_type": "execute_result"
    },
    {
     "data": {
      "text/plain": [
       "'rndrng_prvdr_type_medical toxicology'"
      ]
     },
     "execution_count": 8,
     "metadata": {},
     "output_type": "execute_result"
    },
    {
     "data": {
      "text/plain": [
       "'rndrng_prvdr_type_oral surgery (dentist only)'"
      ]
     },
     "execution_count": 8,
     "metadata": {},
     "output_type": "execute_result"
    },
    {
     "data": {
      "text/plain": [
       "'rndrng_prvdr_type_hematopoietic cell transplantation and cellular therapy'"
      ]
     },
     "execution_count": 8,
     "metadata": {},
     "output_type": "execute_result"
    },
    {
     "data": {
      "text/plain": [
       "'rndrng_prvdr_type_medical genetics and genomics'"
      ]
     },
     "execution_count": 8,
     "metadata": {},
     "output_type": "execute_result"
    },
    {
     "data": {
      "text/plain": [
       "'rndrng_prvdr_type_pharmacy'"
      ]
     },
     "execution_count": 8,
     "metadata": {},
     "output_type": "execute_result"
    },
    {
     "data": {
      "text/plain": [
       "'rndrng_prvdr_type_undersea and hyperbaric medicine'"
      ]
     },
     "execution_count": 8,
     "metadata": {},
     "output_type": "execute_result"
    },
    {
     "data": {
      "text/plain": [
       "'rndrng_prvdr_type_adult congenital heart disease'"
      ]
     },
     "execution_count": 8,
     "metadata": {},
     "output_type": "execute_result"
    },
    {
     "data": {
      "text/plain": [
       "'rndrng_prvdr_type_micrographic dermatologic surgery'"
      ]
     },
     "execution_count": 8,
     "metadata": {},
     "output_type": "execute_result"
    }
   ],
   "source": [
    "for i in df_final.columns:\n",
    "    i"
   ]
  },
  {
   "cell_type": "code",
   "execution_count": 9,
   "id": "6d442514-c2bd-4ab5-973e-d54f5a4e7285",
   "metadata": {},
   "outputs": [],
   "source": [
    "\n",
    "# Define the mapping of columns to their aggregation functions\n",
    "agg_funcs = {\n",
    "    # List all specific columns with their corresponding aggregation functions\n",
    "    'fraud': 'max',\n",
    "    'tot_benes_mean': 'mean',\n",
    "    'tot_benes_sum': 'sum',\n",
    "    'tot_benes_median': 'median',\n",
    "    'tot_benes_std': 'std',\n",
    "    'tot_benes_min': 'min',\n",
    "    'tot_benes_max': 'max',\n",
    "    'tot_srvcs_mean': 'mean',\n",
    "    'tot_srvcs_sum': 'sum',\n",
    "    'tot_srvcs_median': 'median',\n",
    "    'tot_srvcs_std': 'std',\n",
    "    'tot_srvcs_min': 'min',\n",
    "    'tot_srvcs_max': 'max',\n",
    "    'tot_bene_day_srvcs_mean': 'mean',\n",
    "    'tot_bene_day_srvcs_sum': 'sum',\n",
    "    'tot_bene_day_srvcs_median': 'median',\n",
    "    'tot_bene_day_srvcs_std': 'std',\n",
    "    'tot_bene_day_srvcs_min': 'min',\n",
    "    'tot_bene_day_srvcs_max': 'max',\n",
    "    'avg_sbmtd_chrg_mean': 'mean',\n",
    "    'avg_sbmtd_chrg_sum': 'sum',\n",
    "    'avg_sbmtd_chrg_median': 'median',\n",
    "    'avg_sbmtd_chrg_std': 'std',\n",
    "    'avg_sbmtd_chrg_min': 'min',\n",
    "    'avg_sbmtd_chrg_max': 'max',\n",
    "    'avg_mdcr_pymt_amt_mean': 'mean',\n",
    "    'avg_mdcr_pymt_amt_sum': 'sum',\n",
    "    'avg_mdcr_pymt_amt_median': 'median',\n",
    "    'avg_mdcr_pymt_amt_std': 'std',\n",
    "    'avg_mdcr_pymt_amt_min': 'min',\n",
    "    'avg_mdcr_pymt_amt_max': 'max'\n",
    "}\n",
    "\n",
    "# Aggregate the specified columns by Rndrng_NPI\n",
    "df_aggregated_first = df_final.groupby('rndrng_npi').agg(agg_funcs).reset_index()\n"
   ]
  },
  {
   "cell_type": "code",
   "execution_count": 10,
   "id": "45b6436c-1e82-4800-af5d-a20f07571efa",
   "metadata": {},
   "outputs": [],
   "source": [
    "# List all columns to aggregate with max, excluding the specified columns and Rndrng_NPI\n",
    "remaining_columns = [col for col in df_final.columns if col not in agg_funcs.keys() and col != 'rndrng_npi']\n",
    "\n",
    "# Define the aggregation dictionary for remaining columns\n",
    "max_funcs = {col: 'max' for col in remaining_columns}\n",
    "\n",
    "# Combine both aggregation dictionaries\n",
    "combined_funcs = {**agg_funcs, **max_funcs}\n",
    "\n",
    "# Perform the complete aggregation\n",
    "df_aggregated_final = df_final.groupby('rndrng_npi').agg(combined_funcs).reset_index()\n"
   ]
  },
  {
   "cell_type": "code",
   "execution_count": 11,
   "id": "51c43e97-9e81-4ab7-b824-c1357be6cbe2",
   "metadata": {},
   "outputs": [
    {
     "data": {
      "text/plain": [
       "(1494874, 153)"
      ]
     },
     "execution_count": 11,
     "metadata": {},
     "output_type": "execute_result"
    },
    {
     "data": {
      "text/html": [
       "<div>\n",
       "<style scoped>\n",
       "    .dataframe tbody tr th:only-of-type {\n",
       "        vertical-align: middle;\n",
       "    }\n",
       "\n",
       "    .dataframe tbody tr th {\n",
       "        vertical-align: top;\n",
       "    }\n",
       "\n",
       "    .dataframe thead th {\n",
       "        text-align: right;\n",
       "    }\n",
       "</style>\n",
       "<table border=\"1\" class=\"dataframe\">\n",
       "  <thead>\n",
       "    <tr style=\"text-align: right;\">\n",
       "      <th></th>\n",
       "      <th>rndrng_npi</th>\n",
       "      <th>fraud</th>\n",
       "      <th>tot_benes_mean</th>\n",
       "      <th>tot_benes_sum</th>\n",
       "      <th>tot_benes_median</th>\n",
       "      <th>tot_benes_std</th>\n",
       "      <th>tot_benes_min</th>\n",
       "      <th>tot_benes_max</th>\n",
       "      <th>tot_srvcs_mean</th>\n",
       "      <th>tot_srvcs_sum</th>\n",
       "      <th>...</th>\n",
       "      <th>rndrng_prvdr_type_advanced heart failure and transplant cardiology</th>\n",
       "      <th>rndrng_prvdr_type_clinical cardiac electrophysiology</th>\n",
       "      <th>rndrng_prvdr_type_medical toxicology</th>\n",
       "      <th>rndrng_prvdr_type_oral surgery (dentist only)</th>\n",
       "      <th>rndrng_prvdr_type_hematopoietic cell transplantation and cellular therapy</th>\n",
       "      <th>rndrng_prvdr_type_medical genetics and genomics</th>\n",
       "      <th>rndrng_prvdr_type_pharmacy</th>\n",
       "      <th>rndrng_prvdr_type_undersea and hyperbaric medicine</th>\n",
       "      <th>rndrng_prvdr_type_adult congenital heart disease</th>\n",
       "      <th>rndrng_prvdr_type_micrographic dermatologic surgery</th>\n",
       "    </tr>\n",
       "  </thead>\n",
       "  <tbody>\n",
       "    <tr>\n",
       "      <th>0</th>\n",
       "      <td>1003000126</td>\n",
       "      <td>0</td>\n",
       "      <td>0.013216</td>\n",
       "      <td>0.016797</td>\n",
       "      <td>0.006213</td>\n",
       "      <td>0.009942</td>\n",
       "      <td>0.0</td>\n",
       "      <td>0.011434</td>\n",
       "      <td>0.001686</td>\n",
       "      <td>0.006790</td>\n",
       "      <td>...</td>\n",
       "      <td>0.0</td>\n",
       "      <td>0.0</td>\n",
       "      <td>0.0</td>\n",
       "      <td>0.0</td>\n",
       "      <td>0.0</td>\n",
       "      <td>0.0</td>\n",
       "      <td>0.0</td>\n",
       "      <td>0.0</td>\n",
       "      <td>0.0</td>\n",
       "      <td>0.0</td>\n",
       "    </tr>\n",
       "    <tr>\n",
       "      <th>1</th>\n",
       "      <td>1003000134</td>\n",
       "      <td>0</td>\n",
       "      <td>0.057019</td>\n",
       "      <td>0.071299</td>\n",
       "      <td>0.012519</td>\n",
       "      <td>0.074647</td>\n",
       "      <td>0.0</td>\n",
       "      <td>0.079978</td>\n",
       "      <td>0.007717</td>\n",
       "      <td>0.028382</td>\n",
       "      <td>...</td>\n",
       "      <td>0.0</td>\n",
       "      <td>0.0</td>\n",
       "      <td>0.0</td>\n",
       "      <td>0.0</td>\n",
       "      <td>0.0</td>\n",
       "      <td>0.0</td>\n",
       "      <td>0.0</td>\n",
       "      <td>0.0</td>\n",
       "      <td>0.0</td>\n",
       "      <td>0.0</td>\n",
       "    </tr>\n",
       "    <tr>\n",
       "      <th>2</th>\n",
       "      <td>1003000142</td>\n",
       "      <td>0</td>\n",
       "      <td>0.003423</td>\n",
       "      <td>0.007584</td>\n",
       "      <td>0.001639</td>\n",
       "      <td>0.001618</td>\n",
       "      <td>0.0</td>\n",
       "      <td>0.001622</td>\n",
       "      <td>0.000539</td>\n",
       "      <td>0.002891</td>\n",
       "      <td>...</td>\n",
       "      <td>0.0</td>\n",
       "      <td>0.0</td>\n",
       "      <td>0.0</td>\n",
       "      <td>0.0</td>\n",
       "      <td>0.0</td>\n",
       "      <td>0.0</td>\n",
       "      <td>0.0</td>\n",
       "      <td>0.0</td>\n",
       "      <td>0.0</td>\n",
       "      <td>0.0</td>\n",
       "    </tr>\n",
       "    <tr>\n",
       "      <th>4</th>\n",
       "      <td>1003000423</td>\n",
       "      <td>0</td>\n",
       "      <td>0.001443</td>\n",
       "      <td>0.000999</td>\n",
       "      <td>0.000992</td>\n",
       "      <td>0.000317</td>\n",
       "      <td>0.0</td>\n",
       "      <td>0.000465</td>\n",
       "      <td>0.000149</td>\n",
       "      <td>0.000292</td>\n",
       "      <td>...</td>\n",
       "      <td>0.0</td>\n",
       "      <td>0.0</td>\n",
       "      <td>0.0</td>\n",
       "      <td>0.0</td>\n",
       "      <td>0.0</td>\n",
       "      <td>0.0</td>\n",
       "      <td>0.0</td>\n",
       "      <td>0.0</td>\n",
       "      <td>0.0</td>\n",
       "      <td>0.0</td>\n",
       "    </tr>\n",
       "    <tr>\n",
       "      <th>5</th>\n",
       "      <td>1003000480</td>\n",
       "      <td>0</td>\n",
       "      <td>0.000957</td>\n",
       "      <td>0.001112</td>\n",
       "      <td>0.000701</td>\n",
       "      <td>0.000253</td>\n",
       "      <td>0.0</td>\n",
       "      <td>0.000313</td>\n",
       "      <td>0.000109</td>\n",
       "      <td>0.000324</td>\n",
       "      <td>...</td>\n",
       "      <td>0.0</td>\n",
       "      <td>0.0</td>\n",
       "      <td>0.0</td>\n",
       "      <td>0.0</td>\n",
       "      <td>0.0</td>\n",
       "      <td>0.0</td>\n",
       "      <td>0.0</td>\n",
       "      <td>0.0</td>\n",
       "      <td>0.0</td>\n",
       "      <td>0.0</td>\n",
       "    </tr>\n",
       "    <tr>\n",
       "      <th>...</th>\n",
       "      <td>...</td>\n",
       "      <td>...</td>\n",
       "      <td>...</td>\n",
       "      <td>...</td>\n",
       "      <td>...</td>\n",
       "      <td>...</td>\n",
       "      <td>...</td>\n",
       "      <td>...</td>\n",
       "      <td>...</td>\n",
       "      <td>...</td>\n",
       "      <td>...</td>\n",
       "      <td>...</td>\n",
       "      <td>...</td>\n",
       "      <td>...</td>\n",
       "      <td>...</td>\n",
       "      <td>...</td>\n",
       "      <td>...</td>\n",
       "      <td>...</td>\n",
       "      <td>...</td>\n",
       "      <td>...</td>\n",
       "      <td>...</td>\n",
       "    </tr>\n",
       "    <tr>\n",
       "      <th>1494868</th>\n",
       "      <td>1992999551</td>\n",
       "      <td>0</td>\n",
       "      <td>0.005345</td>\n",
       "      <td>0.011211</td>\n",
       "      <td>0.002327</td>\n",
       "      <td>0.001693</td>\n",
       "      <td>0.0</td>\n",
       "      <td>0.002801</td>\n",
       "      <td>0.000657</td>\n",
       "      <td>0.003617</td>\n",
       "      <td>...</td>\n",
       "      <td>0.0</td>\n",
       "      <td>0.0</td>\n",
       "      <td>0.0</td>\n",
       "      <td>0.0</td>\n",
       "      <td>0.0</td>\n",
       "      <td>0.0</td>\n",
       "      <td>0.0</td>\n",
       "      <td>0.0</td>\n",
       "      <td>0.0</td>\n",
       "      <td>0.0</td>\n",
       "    </tr>\n",
       "    <tr>\n",
       "      <th>1494869</th>\n",
       "      <td>1992999569</td>\n",
       "      <td>0</td>\n",
       "      <td>0.001411</td>\n",
       "      <td>0.000929</td>\n",
       "      <td>0.000553</td>\n",
       "      <td>0.001884</td>\n",
       "      <td>0.0</td>\n",
       "      <td>0.001852</td>\n",
       "      <td>0.000159</td>\n",
       "      <td>0.000168</td>\n",
       "      <td>...</td>\n",
       "      <td>0.0</td>\n",
       "      <td>0.0</td>\n",
       "      <td>0.0</td>\n",
       "      <td>0.0</td>\n",
       "      <td>0.0</td>\n",
       "      <td>0.0</td>\n",
       "      <td>0.0</td>\n",
       "      <td>0.0</td>\n",
       "      <td>0.0</td>\n",
       "      <td>0.0</td>\n",
       "    </tr>\n",
       "    <tr>\n",
       "      <th>1494870</th>\n",
       "      <td>1992999585</td>\n",
       "      <td>0</td>\n",
       "      <td>0.000613</td>\n",
       "      <td>0.000215</td>\n",
       "      <td>0.000565</td>\n",
       "      <td>0.000863</td>\n",
       "      <td>0.0</td>\n",
       "      <td>0.000347</td>\n",
       "      <td>0.000643</td>\n",
       "      <td>0.000262</td>\n",
       "      <td>...</td>\n",
       "      <td>0.0</td>\n",
       "      <td>0.0</td>\n",
       "      <td>0.0</td>\n",
       "      <td>0.0</td>\n",
       "      <td>0.0</td>\n",
       "      <td>0.0</td>\n",
       "      <td>0.0</td>\n",
       "      <td>0.0</td>\n",
       "      <td>0.0</td>\n",
       "      <td>0.0</td>\n",
       "    </tr>\n",
       "    <tr>\n",
       "      <th>1494872</th>\n",
       "      <td>1992999825</td>\n",
       "      <td>0</td>\n",
       "      <td>0.005552</td>\n",
       "      <td>0.010501</td>\n",
       "      <td>0.003624</td>\n",
       "      <td>0.002697</td>\n",
       "      <td>0.0</td>\n",
       "      <td>0.003069</td>\n",
       "      <td>0.000539</td>\n",
       "      <td>0.002893</td>\n",
       "      <td>...</td>\n",
       "      <td>0.0</td>\n",
       "      <td>0.0</td>\n",
       "      <td>0.0</td>\n",
       "      <td>0.0</td>\n",
       "      <td>0.0</td>\n",
       "      <td>0.0</td>\n",
       "      <td>0.0</td>\n",
       "      <td>0.0</td>\n",
       "      <td>0.0</td>\n",
       "      <td>0.0</td>\n",
       "    </tr>\n",
       "    <tr>\n",
       "      <th>1494873</th>\n",
       "      <td>1992999874</td>\n",
       "      <td>0</td>\n",
       "      <td>0.008451</td>\n",
       "      <td>0.006960</td>\n",
       "      <td>0.010840</td>\n",
       "      <td>0.005422</td>\n",
       "      <td>0.0</td>\n",
       "      <td>0.003909</td>\n",
       "      <td>0.001378</td>\n",
       "      <td>0.002850</td>\n",
       "      <td>...</td>\n",
       "      <td>0.0</td>\n",
       "      <td>0.0</td>\n",
       "      <td>0.0</td>\n",
       "      <td>0.0</td>\n",
       "      <td>0.0</td>\n",
       "      <td>0.0</td>\n",
       "      <td>0.0</td>\n",
       "      <td>0.0</td>\n",
       "      <td>0.0</td>\n",
       "      <td>0.0</td>\n",
       "    </tr>\n",
       "  </tbody>\n",
       "</table>\n",
       "<p>1492937 rows × 153 columns</p>\n",
       "</div>"
      ],
      "text/plain": [
       "         rndrng_npi  fraud  tot_benes_mean  tot_benes_sum  tot_benes_median  \\\n",
       "0        1003000126      0        0.013216       0.016797          0.006213   \n",
       "1        1003000134      0        0.057019       0.071299          0.012519   \n",
       "2        1003000142      0        0.003423       0.007584          0.001639   \n",
       "4        1003000423      0        0.001443       0.000999          0.000992   \n",
       "5        1003000480      0        0.000957       0.001112          0.000701   \n",
       "...             ...    ...             ...            ...               ...   \n",
       "1494868  1992999551      0        0.005345       0.011211          0.002327   \n",
       "1494869  1992999569      0        0.001411       0.000929          0.000553   \n",
       "1494870  1992999585      0        0.000613       0.000215          0.000565   \n",
       "1494872  1992999825      0        0.005552       0.010501          0.003624   \n",
       "1494873  1992999874      0        0.008451       0.006960          0.010840   \n",
       "\n",
       "         tot_benes_std  tot_benes_min  tot_benes_max  tot_srvcs_mean  \\\n",
       "0             0.009942            0.0       0.011434        0.001686   \n",
       "1             0.074647            0.0       0.079978        0.007717   \n",
       "2             0.001618            0.0       0.001622        0.000539   \n",
       "4             0.000317            0.0       0.000465        0.000149   \n",
       "5             0.000253            0.0       0.000313        0.000109   \n",
       "...                ...            ...            ...             ...   \n",
       "1494868       0.001693            0.0       0.002801        0.000657   \n",
       "1494869       0.001884            0.0       0.001852        0.000159   \n",
       "1494870       0.000863            0.0       0.000347        0.000643   \n",
       "1494872       0.002697            0.0       0.003069        0.000539   \n",
       "1494873       0.005422            0.0       0.003909        0.001378   \n",
       "\n",
       "         tot_srvcs_sum  ...  \\\n",
       "0             0.006790  ...   \n",
       "1             0.028382  ...   \n",
       "2             0.002891  ...   \n",
       "4             0.000292  ...   \n",
       "5             0.000324  ...   \n",
       "...                ...  ...   \n",
       "1494868       0.003617  ...   \n",
       "1494869       0.000168  ...   \n",
       "1494870       0.000262  ...   \n",
       "1494872       0.002893  ...   \n",
       "1494873       0.002850  ...   \n",
       "\n",
       "         rndrng_prvdr_type_advanced heart failure and transplant cardiology  \\\n",
       "0                                                      0.0                    \n",
       "1                                                      0.0                    \n",
       "2                                                      0.0                    \n",
       "4                                                      0.0                    \n",
       "5                                                      0.0                    \n",
       "...                                                    ...                    \n",
       "1494868                                                0.0                    \n",
       "1494869                                                0.0                    \n",
       "1494870                                                0.0                    \n",
       "1494872                                                0.0                    \n",
       "1494873                                                0.0                    \n",
       "\n",
       "         rndrng_prvdr_type_clinical cardiac electrophysiology  \\\n",
       "0                                                      0.0      \n",
       "1                                                      0.0      \n",
       "2                                                      0.0      \n",
       "4                                                      0.0      \n",
       "5                                                      0.0      \n",
       "...                                                    ...      \n",
       "1494868                                                0.0      \n",
       "1494869                                                0.0      \n",
       "1494870                                                0.0      \n",
       "1494872                                                0.0      \n",
       "1494873                                                0.0      \n",
       "\n",
       "         rndrng_prvdr_type_medical toxicology  \\\n",
       "0                                         0.0   \n",
       "1                                         0.0   \n",
       "2                                         0.0   \n",
       "4                                         0.0   \n",
       "5                                         0.0   \n",
       "...                                       ...   \n",
       "1494868                                   0.0   \n",
       "1494869                                   0.0   \n",
       "1494870                                   0.0   \n",
       "1494872                                   0.0   \n",
       "1494873                                   0.0   \n",
       "\n",
       "         rndrng_prvdr_type_oral surgery (dentist only)  \\\n",
       "0                                                  0.0   \n",
       "1                                                  0.0   \n",
       "2                                                  0.0   \n",
       "4                                                  0.0   \n",
       "5                                                  0.0   \n",
       "...                                                ...   \n",
       "1494868                                            0.0   \n",
       "1494869                                            0.0   \n",
       "1494870                                            0.0   \n",
       "1494872                                            0.0   \n",
       "1494873                                            0.0   \n",
       "\n",
       "         rndrng_prvdr_type_hematopoietic cell transplantation and cellular therapy  \\\n",
       "0                                                      0.0                           \n",
       "1                                                      0.0                           \n",
       "2                                                      0.0                           \n",
       "4                                                      0.0                           \n",
       "5                                                      0.0                           \n",
       "...                                                    ...                           \n",
       "1494868                                                0.0                           \n",
       "1494869                                                0.0                           \n",
       "1494870                                                0.0                           \n",
       "1494872                                                0.0                           \n",
       "1494873                                                0.0                           \n",
       "\n",
       "         rndrng_prvdr_type_medical genetics and genomics  \\\n",
       "0                                                    0.0   \n",
       "1                                                    0.0   \n",
       "2                                                    0.0   \n",
       "4                                                    0.0   \n",
       "5                                                    0.0   \n",
       "...                                                  ...   \n",
       "1494868                                              0.0   \n",
       "1494869                                              0.0   \n",
       "1494870                                              0.0   \n",
       "1494872                                              0.0   \n",
       "1494873                                              0.0   \n",
       "\n",
       "         rndrng_prvdr_type_pharmacy  \\\n",
       "0                               0.0   \n",
       "1                               0.0   \n",
       "2                               0.0   \n",
       "4                               0.0   \n",
       "5                               0.0   \n",
       "...                             ...   \n",
       "1494868                         0.0   \n",
       "1494869                         0.0   \n",
       "1494870                         0.0   \n",
       "1494872                         0.0   \n",
       "1494873                         0.0   \n",
       "\n",
       "         rndrng_prvdr_type_undersea and hyperbaric medicine  \\\n",
       "0                                                      0.0    \n",
       "1                                                      0.0    \n",
       "2                                                      0.0    \n",
       "4                                                      0.0    \n",
       "5                                                      0.0    \n",
       "...                                                    ...    \n",
       "1494868                                                0.0    \n",
       "1494869                                                0.0    \n",
       "1494870                                                0.0    \n",
       "1494872                                                0.0    \n",
       "1494873                                                0.0    \n",
       "\n",
       "         rndrng_prvdr_type_adult congenital heart disease  \\\n",
       "0                                                     0.0   \n",
       "1                                                     0.0   \n",
       "2                                                     0.0   \n",
       "4                                                     0.0   \n",
       "5                                                     0.0   \n",
       "...                                                   ...   \n",
       "1494868                                               0.0   \n",
       "1494869                                               0.0   \n",
       "1494870                                               0.0   \n",
       "1494872                                               0.0   \n",
       "1494873                                               0.0   \n",
       "\n",
       "         rndrng_prvdr_type_micrographic dermatologic surgery  \n",
       "0                                                      0.0    \n",
       "1                                                      0.0    \n",
       "2                                                      0.0    \n",
       "4                                                      0.0    \n",
       "5                                                      0.0    \n",
       "...                                                    ...    \n",
       "1494868                                                0.0    \n",
       "1494869                                                0.0    \n",
       "1494870                                                0.0    \n",
       "1494872                                                0.0    \n",
       "1494873                                                0.0    \n",
       "\n",
       "[1492937 rows x 153 columns]"
      ]
     },
     "execution_count": 11,
     "metadata": {},
     "output_type": "execute_result"
    },
    {
     "data": {
      "text/html": [
       "<div>\n",
       "<style scoped>\n",
       "    .dataframe tbody tr th:only-of-type {\n",
       "        vertical-align: middle;\n",
       "    }\n",
       "\n",
       "    .dataframe tbody tr th {\n",
       "        vertical-align: top;\n",
       "    }\n",
       "\n",
       "    .dataframe thead th {\n",
       "        text-align: right;\n",
       "    }\n",
       "</style>\n",
       "<table border=\"1\" class=\"dataframe\">\n",
       "  <thead>\n",
       "    <tr style=\"text-align: right;\">\n",
       "      <th></th>\n",
       "      <th>rndrng_npi</th>\n",
       "      <th>fraud</th>\n",
       "      <th>tot_benes_mean</th>\n",
       "      <th>tot_benes_sum</th>\n",
       "      <th>tot_benes_median</th>\n",
       "      <th>tot_benes_std</th>\n",
       "      <th>tot_benes_min</th>\n",
       "      <th>tot_benes_max</th>\n",
       "      <th>tot_srvcs_mean</th>\n",
       "      <th>tot_srvcs_sum</th>\n",
       "      <th>...</th>\n",
       "      <th>rndrng_prvdr_type_advanced heart failure and transplant cardiology</th>\n",
       "      <th>rndrng_prvdr_type_clinical cardiac electrophysiology</th>\n",
       "      <th>rndrng_prvdr_type_medical toxicology</th>\n",
       "      <th>rndrng_prvdr_type_oral surgery (dentist only)</th>\n",
       "      <th>rndrng_prvdr_type_hematopoietic cell transplantation and cellular therapy</th>\n",
       "      <th>rndrng_prvdr_type_medical genetics and genomics</th>\n",
       "      <th>rndrng_prvdr_type_pharmacy</th>\n",
       "      <th>rndrng_prvdr_type_undersea and hyperbaric medicine</th>\n",
       "      <th>rndrng_prvdr_type_adult congenital heart disease</th>\n",
       "      <th>rndrng_prvdr_type_micrographic dermatologic surgery</th>\n",
       "    </tr>\n",
       "  </thead>\n",
       "  <tbody>\n",
       "    <tr>\n",
       "      <th>3</th>\n",
       "      <td>1003000407</td>\n",
       "      <td>1</td>\n",
       "      <td>0.005565</td>\n",
       "      <td>0.008145</td>\n",
       "      <td>0.003619</td>\n",
       "      <td>0.002456</td>\n",
       "      <td>0.000000</td>\n",
       "      <td>0.003382</td>\n",
       "      <td>0.000752</td>\n",
       "      <td>0.003203</td>\n",
       "      <td>...</td>\n",
       "      <td>0.0</td>\n",
       "      <td>0.0</td>\n",
       "      <td>0.0</td>\n",
       "      <td>0.0</td>\n",
       "      <td>0.0</td>\n",
       "      <td>0.0</td>\n",
       "      <td>0.0</td>\n",
       "      <td>0.0</td>\n",
       "      <td>0.0</td>\n",
       "      <td>0.0</td>\n",
       "    </tr>\n",
       "    <tr>\n",
       "      <th>86</th>\n",
       "      <td>1003005315</td>\n",
       "      <td>1</td>\n",
       "      <td>0.002044</td>\n",
       "      <td>0.002229</td>\n",
       "      <td>0.000845</td>\n",
       "      <td>0.001198</td>\n",
       "      <td>0.000000</td>\n",
       "      <td>0.001667</td>\n",
       "      <td>0.000270</td>\n",
       "      <td>0.000770</td>\n",
       "      <td>...</td>\n",
       "      <td>0.0</td>\n",
       "      <td>0.0</td>\n",
       "      <td>0.0</td>\n",
       "      <td>0.0</td>\n",
       "      <td>0.0</td>\n",
       "      <td>0.0</td>\n",
       "      <td>0.0</td>\n",
       "      <td>0.0</td>\n",
       "      <td>0.0</td>\n",
       "      <td>0.0</td>\n",
       "    </tr>\n",
       "    <tr>\n",
       "      <th>821</th>\n",
       "      <td>1003042441</td>\n",
       "      <td>1</td>\n",
       "      <td>0.009282</td>\n",
       "      <td>0.000357</td>\n",
       "      <td>0.009092</td>\n",
       "      <td>0.001353</td>\n",
       "      <td>0.003744</td>\n",
       "      <td>0.001713</td>\n",
       "      <td>0.000988</td>\n",
       "      <td>0.000166</td>\n",
       "      <td>...</td>\n",
       "      <td>0.0</td>\n",
       "      <td>0.0</td>\n",
       "      <td>0.0</td>\n",
       "      <td>0.0</td>\n",
       "      <td>0.0</td>\n",
       "      <td>0.0</td>\n",
       "      <td>0.0</td>\n",
       "      <td>0.0</td>\n",
       "      <td>0.0</td>\n",
       "      <td>0.0</td>\n",
       "    </tr>\n",
       "    <tr>\n",
       "      <th>1348</th>\n",
       "      <td>1003066838</td>\n",
       "      <td>1</td>\n",
       "      <td>0.003326</td>\n",
       "      <td>0.002740</td>\n",
       "      <td>0.002459</td>\n",
       "      <td>0.000700</td>\n",
       "      <td>0.000000</td>\n",
       "      <td>0.001188</td>\n",
       "      <td>0.000314</td>\n",
       "      <td>0.001156</td>\n",
       "      <td>...</td>\n",
       "      <td>0.0</td>\n",
       "      <td>0.0</td>\n",
       "      <td>0.0</td>\n",
       "      <td>0.0</td>\n",
       "      <td>0.0</td>\n",
       "      <td>0.0</td>\n",
       "      <td>0.0</td>\n",
       "      <td>0.0</td>\n",
       "      <td>0.0</td>\n",
       "      <td>0.0</td>\n",
       "    </tr>\n",
       "    <tr>\n",
       "      <th>1987</th>\n",
       "      <td>1003095381</td>\n",
       "      <td>1</td>\n",
       "      <td>0.007679</td>\n",
       "      <td>0.004491</td>\n",
       "      <td>0.002779</td>\n",
       "      <td>0.001994</td>\n",
       "      <td>0.000000</td>\n",
       "      <td>0.005043</td>\n",
       "      <td>0.001454</td>\n",
       "      <td>0.002019</td>\n",
       "      <td>...</td>\n",
       "      <td>0.0</td>\n",
       "      <td>0.0</td>\n",
       "      <td>0.0</td>\n",
       "      <td>0.0</td>\n",
       "      <td>0.0</td>\n",
       "      <td>0.0</td>\n",
       "      <td>0.0</td>\n",
       "      <td>0.0</td>\n",
       "      <td>0.0</td>\n",
       "      <td>0.0</td>\n",
       "    </tr>\n",
       "    <tr>\n",
       "      <th>...</th>\n",
       "      <td>...</td>\n",
       "      <td>...</td>\n",
       "      <td>...</td>\n",
       "      <td>...</td>\n",
       "      <td>...</td>\n",
       "      <td>...</td>\n",
       "      <td>...</td>\n",
       "      <td>...</td>\n",
       "      <td>...</td>\n",
       "      <td>...</td>\n",
       "      <td>...</td>\n",
       "      <td>...</td>\n",
       "      <td>...</td>\n",
       "      <td>...</td>\n",
       "      <td>...</td>\n",
       "      <td>...</td>\n",
       "      <td>...</td>\n",
       "      <td>...</td>\n",
       "      <td>...</td>\n",
       "      <td>...</td>\n",
       "      <td>...</td>\n",
       "    </tr>\n",
       "    <tr>\n",
       "      <th>1490924</th>\n",
       "      <td>1992814990</td>\n",
       "      <td>1</td>\n",
       "      <td>0.001755</td>\n",
       "      <td>0.001008</td>\n",
       "      <td>0.000820</td>\n",
       "      <td>0.001949</td>\n",
       "      <td>0.000000</td>\n",
       "      <td>0.001751</td>\n",
       "      <td>0.000601</td>\n",
       "      <td>0.000912</td>\n",
       "      <td>...</td>\n",
       "      <td>0.0</td>\n",
       "      <td>0.0</td>\n",
       "      <td>0.0</td>\n",
       "      <td>0.0</td>\n",
       "      <td>0.0</td>\n",
       "      <td>0.0</td>\n",
       "      <td>0.0</td>\n",
       "      <td>0.0</td>\n",
       "      <td>0.0</td>\n",
       "      <td>0.0</td>\n",
       "    </tr>\n",
       "    <tr>\n",
       "      <th>1491606</th>\n",
       "      <td>1992851836</td>\n",
       "      <td>1</td>\n",
       "      <td>0.002378</td>\n",
       "      <td>0.000376</td>\n",
       "      <td>0.002767</td>\n",
       "      <td>0.000242</td>\n",
       "      <td>0.000651</td>\n",
       "      <td>0.000508</td>\n",
       "      <td>0.002390</td>\n",
       "      <td>0.000882</td>\n",
       "      <td>...</td>\n",
       "      <td>0.0</td>\n",
       "      <td>0.0</td>\n",
       "      <td>0.0</td>\n",
       "      <td>0.0</td>\n",
       "      <td>0.0</td>\n",
       "      <td>0.0</td>\n",
       "      <td>0.0</td>\n",
       "      <td>0.0</td>\n",
       "      <td>0.0</td>\n",
       "      <td>0.0</td>\n",
       "    </tr>\n",
       "    <tr>\n",
       "      <th>1491835</th>\n",
       "      <td>1992860977</td>\n",
       "      <td>1</td>\n",
       "      <td>0.003264</td>\n",
       "      <td>0.002022</td>\n",
       "      <td>0.003256</td>\n",
       "      <td>0.002458</td>\n",
       "      <td>0.000111</td>\n",
       "      <td>0.002069</td>\n",
       "      <td>0.000670</td>\n",
       "      <td>0.000951</td>\n",
       "      <td>...</td>\n",
       "      <td>0.0</td>\n",
       "      <td>0.0</td>\n",
       "      <td>0.0</td>\n",
       "      <td>0.0</td>\n",
       "      <td>0.0</td>\n",
       "      <td>0.0</td>\n",
       "      <td>0.0</td>\n",
       "      <td>0.0</td>\n",
       "      <td>0.0</td>\n",
       "      <td>0.0</td>\n",
       "    </tr>\n",
       "    <tr>\n",
       "      <th>1492149</th>\n",
       "      <td>1992873772</td>\n",
       "      <td>1</td>\n",
       "      <td>0.000965</td>\n",
       "      <td>0.000774</td>\n",
       "      <td>0.000683</td>\n",
       "      <td>0.001194</td>\n",
       "      <td>0.000000</td>\n",
       "      <td>0.001111</td>\n",
       "      <td>0.000280</td>\n",
       "      <td>0.000438</td>\n",
       "      <td>...</td>\n",
       "      <td>0.0</td>\n",
       "      <td>0.0</td>\n",
       "      <td>0.0</td>\n",
       "      <td>0.0</td>\n",
       "      <td>0.0</td>\n",
       "      <td>0.0</td>\n",
       "      <td>0.0</td>\n",
       "      <td>0.0</td>\n",
       "      <td>0.0</td>\n",
       "      <td>0.0</td>\n",
       "    </tr>\n",
       "    <tr>\n",
       "      <th>1494871</th>\n",
       "      <td>1992999759</td>\n",
       "      <td>1</td>\n",
       "      <td>0.002332</td>\n",
       "      <td>0.000772</td>\n",
       "      <td>0.001138</td>\n",
       "      <td>0.001954</td>\n",
       "      <td>0.000117</td>\n",
       "      <td>0.001668</td>\n",
       "      <td>0.000156</td>\n",
       "      <td>0.000180</td>\n",
       "      <td>...</td>\n",
       "      <td>0.0</td>\n",
       "      <td>0.0</td>\n",
       "      <td>0.0</td>\n",
       "      <td>0.0</td>\n",
       "      <td>0.0</td>\n",
       "      <td>0.0</td>\n",
       "      <td>0.0</td>\n",
       "      <td>0.0</td>\n",
       "      <td>0.0</td>\n",
       "      <td>0.0</td>\n",
       "    </tr>\n",
       "  </tbody>\n",
       "</table>\n",
       "<p>1937 rows × 153 columns</p>\n",
       "</div>"
      ],
      "text/plain": [
       "         rndrng_npi  fraud  tot_benes_mean  tot_benes_sum  tot_benes_median  \\\n",
       "3        1003000407      1        0.005565       0.008145          0.003619   \n",
       "86       1003005315      1        0.002044       0.002229          0.000845   \n",
       "821      1003042441      1        0.009282       0.000357          0.009092   \n",
       "1348     1003066838      1        0.003326       0.002740          0.002459   \n",
       "1987     1003095381      1        0.007679       0.004491          0.002779   \n",
       "...             ...    ...             ...            ...               ...   \n",
       "1490924  1992814990      1        0.001755       0.001008          0.000820   \n",
       "1491606  1992851836      1        0.002378       0.000376          0.002767   \n",
       "1491835  1992860977      1        0.003264       0.002022          0.003256   \n",
       "1492149  1992873772      1        0.000965       0.000774          0.000683   \n",
       "1494871  1992999759      1        0.002332       0.000772          0.001138   \n",
       "\n",
       "         tot_benes_std  tot_benes_min  tot_benes_max  tot_srvcs_mean  \\\n",
       "3             0.002456       0.000000       0.003382        0.000752   \n",
       "86            0.001198       0.000000       0.001667        0.000270   \n",
       "821           0.001353       0.003744       0.001713        0.000988   \n",
       "1348          0.000700       0.000000       0.001188        0.000314   \n",
       "1987          0.001994       0.000000       0.005043        0.001454   \n",
       "...                ...            ...            ...             ...   \n",
       "1490924       0.001949       0.000000       0.001751        0.000601   \n",
       "1491606       0.000242       0.000651       0.000508        0.002390   \n",
       "1491835       0.002458       0.000111       0.002069        0.000670   \n",
       "1492149       0.001194       0.000000       0.001111        0.000280   \n",
       "1494871       0.001954       0.000117       0.001668        0.000156   \n",
       "\n",
       "         tot_srvcs_sum  ...  \\\n",
       "3             0.003203  ...   \n",
       "86            0.000770  ...   \n",
       "821           0.000166  ...   \n",
       "1348          0.001156  ...   \n",
       "1987          0.002019  ...   \n",
       "...                ...  ...   \n",
       "1490924       0.000912  ...   \n",
       "1491606       0.000882  ...   \n",
       "1491835       0.000951  ...   \n",
       "1492149       0.000438  ...   \n",
       "1494871       0.000180  ...   \n",
       "\n",
       "         rndrng_prvdr_type_advanced heart failure and transplant cardiology  \\\n",
       "3                                                      0.0                    \n",
       "86                                                     0.0                    \n",
       "821                                                    0.0                    \n",
       "1348                                                   0.0                    \n",
       "1987                                                   0.0                    \n",
       "...                                                    ...                    \n",
       "1490924                                                0.0                    \n",
       "1491606                                                0.0                    \n",
       "1491835                                                0.0                    \n",
       "1492149                                                0.0                    \n",
       "1494871                                                0.0                    \n",
       "\n",
       "         rndrng_prvdr_type_clinical cardiac electrophysiology  \\\n",
       "3                                                      0.0      \n",
       "86                                                     0.0      \n",
       "821                                                    0.0      \n",
       "1348                                                   0.0      \n",
       "1987                                                   0.0      \n",
       "...                                                    ...      \n",
       "1490924                                                0.0      \n",
       "1491606                                                0.0      \n",
       "1491835                                                0.0      \n",
       "1492149                                                0.0      \n",
       "1494871                                                0.0      \n",
       "\n",
       "         rndrng_prvdr_type_medical toxicology  \\\n",
       "3                                         0.0   \n",
       "86                                        0.0   \n",
       "821                                       0.0   \n",
       "1348                                      0.0   \n",
       "1987                                      0.0   \n",
       "...                                       ...   \n",
       "1490924                                   0.0   \n",
       "1491606                                   0.0   \n",
       "1491835                                   0.0   \n",
       "1492149                                   0.0   \n",
       "1494871                                   0.0   \n",
       "\n",
       "         rndrng_prvdr_type_oral surgery (dentist only)  \\\n",
       "3                                                  0.0   \n",
       "86                                                 0.0   \n",
       "821                                                0.0   \n",
       "1348                                               0.0   \n",
       "1987                                               0.0   \n",
       "...                                                ...   \n",
       "1490924                                            0.0   \n",
       "1491606                                            0.0   \n",
       "1491835                                            0.0   \n",
       "1492149                                            0.0   \n",
       "1494871                                            0.0   \n",
       "\n",
       "         rndrng_prvdr_type_hematopoietic cell transplantation and cellular therapy  \\\n",
       "3                                                      0.0                           \n",
       "86                                                     0.0                           \n",
       "821                                                    0.0                           \n",
       "1348                                                   0.0                           \n",
       "1987                                                   0.0                           \n",
       "...                                                    ...                           \n",
       "1490924                                                0.0                           \n",
       "1491606                                                0.0                           \n",
       "1491835                                                0.0                           \n",
       "1492149                                                0.0                           \n",
       "1494871                                                0.0                           \n",
       "\n",
       "         rndrng_prvdr_type_medical genetics and genomics  \\\n",
       "3                                                    0.0   \n",
       "86                                                   0.0   \n",
       "821                                                  0.0   \n",
       "1348                                                 0.0   \n",
       "1987                                                 0.0   \n",
       "...                                                  ...   \n",
       "1490924                                              0.0   \n",
       "1491606                                              0.0   \n",
       "1491835                                              0.0   \n",
       "1492149                                              0.0   \n",
       "1494871                                              0.0   \n",
       "\n",
       "         rndrng_prvdr_type_pharmacy  \\\n",
       "3                               0.0   \n",
       "86                              0.0   \n",
       "821                             0.0   \n",
       "1348                            0.0   \n",
       "1987                            0.0   \n",
       "...                             ...   \n",
       "1490924                         0.0   \n",
       "1491606                         0.0   \n",
       "1491835                         0.0   \n",
       "1492149                         0.0   \n",
       "1494871                         0.0   \n",
       "\n",
       "         rndrng_prvdr_type_undersea and hyperbaric medicine  \\\n",
       "3                                                      0.0    \n",
       "86                                                     0.0    \n",
       "821                                                    0.0    \n",
       "1348                                                   0.0    \n",
       "1987                                                   0.0    \n",
       "...                                                    ...    \n",
       "1490924                                                0.0    \n",
       "1491606                                                0.0    \n",
       "1491835                                                0.0    \n",
       "1492149                                                0.0    \n",
       "1494871                                                0.0    \n",
       "\n",
       "         rndrng_prvdr_type_adult congenital heart disease  \\\n",
       "3                                                     0.0   \n",
       "86                                                    0.0   \n",
       "821                                                   0.0   \n",
       "1348                                                  0.0   \n",
       "1987                                                  0.0   \n",
       "...                                                   ...   \n",
       "1490924                                               0.0   \n",
       "1491606                                               0.0   \n",
       "1491835                                               0.0   \n",
       "1492149                                               0.0   \n",
       "1494871                                               0.0   \n",
       "\n",
       "         rndrng_prvdr_type_micrographic dermatologic surgery  \n",
       "3                                                      0.0    \n",
       "86                                                     0.0    \n",
       "821                                                    0.0    \n",
       "1348                                                   0.0    \n",
       "1987                                                   0.0    \n",
       "...                                                    ...    \n",
       "1490924                                                0.0    \n",
       "1491606                                                0.0    \n",
       "1491835                                                0.0    \n",
       "1492149                                                0.0    \n",
       "1494871                                                0.0    \n",
       "\n",
       "[1937 rows x 153 columns]"
      ]
     },
     "execution_count": 11,
     "metadata": {},
     "output_type": "execute_result"
    }
   ],
   "source": [
    "df_aggregated_final.shape\n",
    "df_aggregated_final[df_aggregated_final['fraud']==0]\n",
    "df_aggregated_final[df_aggregated_final['fraud']==1]"
   ]
  },
  {
   "cell_type": "code",
   "execution_count": 12,
   "id": "7d7ce6ee-574f-49b9-ad37-35051efa972c",
   "metadata": {},
   "outputs": [],
   "source": [
    "df_final.to_csv(\"data_set_result_yearly.csv\", index=False)\n",
    "df_aggregated_final.to_csv(\"data_set_result_aggregated_by_npi.csv\", index=False)"
   ]
  }
 ],
 "metadata": {
  "kernelspec": {
   "display_name": "Python 3 (ipykernel)",
   "language": "python",
   "name": "python3"
  },
  "language_info": {
   "codemirror_mode": {
    "name": "ipython",
    "version": 3
   },
   "file_extension": ".py",
   "mimetype": "text/x-python",
   "name": "python",
   "nbconvert_exporter": "python",
   "pygments_lexer": "ipython3",
   "version": "3.11.7"
  }
 },
 "nbformat": 4,
 "nbformat_minor": 5
}
