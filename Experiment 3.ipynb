{
 "cells": [
  {
   "cell_type": "code",
   "execution_count": 197,
   "id": "b704fc8b-a294-48c7-9f83-a3e2a5728698",
   "metadata": {},
   "outputs": [
    {
     "name": "stdout",
     "output_type": "stream",
     "text": [
      "+-------------------+--------+--------+--------+----------+\n",
      "| Data              |    AUC |    TPR |    TNR |   G-Mean |\n",
      "+===================+========+========+========+==========+\n",
      "| Main              | 0.7291 | 0.7052 | 0.7398 |   0.7223 |\n",
      "+-------------------+--------+--------+--------+----------+\n",
      "| Main + features 1 | 0.7357 | 0.7531 | 0.604  |   0.6744 |\n",
      "+-------------------+--------+--------+--------+----------+\n",
      "| Main + features 2 | 0.7898 | 0.7884 | 0.6459 |   0.7136 |\n",
      "+-------------------+--------+--------+--------+----------+\n",
      "| All               | 0.7893 | 0.7405 | 0.6968 |   0.7183 |\n",
      "+-------------------+--------+--------+--------+----------+\n"
     ]
    }
   ],
   "source": [
    "import pandas as pd\n",
    "from tabulate import tabulate\n",
    "\n",
    "# Create a DataFrame with the initial specified data\n",
    "data_1 = {\n",
    "    'Data': ['Main'], 'AUC': [0.7291], 'TPR': [0.7052], 'TNR': [0.7398], 'G-Mean' : [0.7223]\n",
    "}\n",
    "\n",
    "data_2 = {\n",
    "    'Data': ['Main + features 1'], 'AUC': [0.7357], 'TPR': [0.7531], 'TNR': [0.6040], 'G-Mean' : [0.6744]\n",
    "}\n",
    "# Additional metrics to be added\n",
    "data_3 = {\n",
    "    'Data': ['Main + features 2'], 'AUC': [0.7898], 'TPR': [0.7884], 'TNR': [0.6459], 'G-Mean' : [0.7136]\n",
    "}\n",
    "data_4 = {\n",
    "    'Data': ['All'], 'AUC': [ 0.7893], 'TPR': [0.7405], 'TNR': [0.6968], 'G-Mean' : [0.7183]\n",
    "}\n",
    "\n",
    "df = pd.DataFrame(data_1)\n",
    "# Update DataFrame with new data\n",
    "df = pd.concat([df, pd.DataFrame(data_2), pd.DataFrame(data_3), pd.DataFrame(data_4)]).reset_index(drop=True)\n",
    "\n",
    "# Format numbers with commas for thousands and percentages/decimals appropriately\n",
    "for col in ['AUC', 'TPR', 'TNR']:\n",
    "    df[col] = df[col].apply(lambda x: f\"{x:.4f}\")\n",
    "\n",
    "# Print the DataFrame using tabulate\n",
    "print(tabulate(df, headers='keys', tablefmt='grid', showindex=False))\n"
   ]
  },
  {
   "cell_type": "code",
   "execution_count": 76,
   "id": "eca5552f-bd79-4cd9-ab6d-bcace442ec86",
   "metadata": {},
   "outputs": [],
   "source": [
    "from sklearn.preprocessing import MinMaxScaler\n",
    "import pandas as pd\n",
    "import numpy as np\n",
    "import matplotlib.pyplot as plt\n",
    "import seaborn as sns\n",
    "from sklearn.model_selection import train_test_split\n",
    "from sklearn.preprocessing import StandardScaler\n",
    "from keras.models import Sequential\n",
    "from keras.layers import Dense, Dropout\n",
    "from sklearn.metrics import roc_auc_score, classification_report, confusion_matrix\n",
    "from IPython.core.interactiveshell import InteractiveShell\n",
    "InteractiveShell.ast_node_interactivity = \"all\"\n",
    "\n",
    "def count_zero(df, column):\n",
    "    print(df[df[column] == 0].shape, df[df[column] != 0].shape)\n"
   ]
  },
  {
   "cell_type": "code",
   "execution_count": 77,
   "id": "3f3268c4-e372-42be-998e-8aa2c137acbd",
   "metadata": {},
   "outputs": [
    {
     "data": {
      "text/html": [
       "<div>\n",
       "<style scoped>\n",
       "    .dataframe tbody tr th:only-of-type {\n",
       "        vertical-align: middle;\n",
       "    }\n",
       "\n",
       "    .dataframe tbody tr th {\n",
       "        vertical-align: top;\n",
       "    }\n",
       "\n",
       "    .dataframe thead th {\n",
       "        text-align: right;\n",
       "    }\n",
       "</style>\n",
       "<table border=\"1\" class=\"dataframe\">\n",
       "  <thead>\n",
       "    <tr style=\"text-align: right;\">\n",
       "      <th></th>\n",
       "      <th>NPI</th>\n",
       "      <th>fraud</th>\n",
       "    </tr>\n",
       "  </thead>\n",
       "  <tbody>\n",
       "    <tr>\n",
       "      <th>2</th>\n",
       "      <td>1972902351</td>\n",
       "      <td>1</td>\n",
       "    </tr>\n",
       "    <tr>\n",
       "      <th>6</th>\n",
       "      <td>1922348218</td>\n",
       "      <td>1</td>\n",
       "    </tr>\n",
       "    <tr>\n",
       "      <th>26</th>\n",
       "      <td>1942476080</td>\n",
       "      <td>1</td>\n",
       "    </tr>\n",
       "    <tr>\n",
       "      <th>30</th>\n",
       "      <td>1275600959</td>\n",
       "      <td>1</td>\n",
       "    </tr>\n",
       "    <tr>\n",
       "      <th>33</th>\n",
       "      <td>1891731758</td>\n",
       "      <td>1</td>\n",
       "    </tr>\n",
       "    <tr>\n",
       "      <th>...</th>\n",
       "      <td>...</td>\n",
       "      <td>...</td>\n",
       "    </tr>\n",
       "    <tr>\n",
       "      <th>79339</th>\n",
       "      <td>1578637385</td>\n",
       "      <td>1</td>\n",
       "    </tr>\n",
       "    <tr>\n",
       "      <th>79344</th>\n",
       "      <td>1174561708</td>\n",
       "      <td>1</td>\n",
       "    </tr>\n",
       "    <tr>\n",
       "      <th>79347</th>\n",
       "      <td>1538703194</td>\n",
       "      <td>1</td>\n",
       "    </tr>\n",
       "    <tr>\n",
       "      <th>79348</th>\n",
       "      <td>1881770485</td>\n",
       "      <td>1</td>\n",
       "    </tr>\n",
       "    <tr>\n",
       "      <th>79358</th>\n",
       "      <td>1831242650</td>\n",
       "      <td>1</td>\n",
       "    </tr>\n",
       "  </tbody>\n",
       "</table>\n",
       "<p>7264 rows × 2 columns</p>\n",
       "</div>"
      ],
      "text/plain": [
       "              NPI  fraud\n",
       "2      1972902351      1\n",
       "6      1922348218      1\n",
       "26     1942476080      1\n",
       "30     1275600959      1\n",
       "33     1891731758      1\n",
       "...           ...    ...\n",
       "79339  1578637385      1\n",
       "79344  1174561708      1\n",
       "79347  1538703194      1\n",
       "79348  1881770485      1\n",
       "79358  1831242650      1\n",
       "\n",
       "[7264 rows x 2 columns]"
      ]
     },
     "execution_count": 77,
     "metadata": {},
     "output_type": "execute_result"
    }
   ],
   "source": [
    "df_leie = pd.read_csv('LEIE_2024.csv', low_memory=False, usecols = ['NPI'])\n",
    "df_leie['fraud'] = 1\n",
    "df_leie = df_leie[df_leie['NPI'] != 0]\n",
    "df_leie"
   ]
  },
  {
   "cell_type": "code",
   "execution_count": 168,
   "id": "b6936cfd-86a2-4e6d-b2ef-69e01774c62b",
   "metadata": {},
   "outputs": [],
   "source": [
    "features_main = [\n",
    "        'Rndrng_NPI', 'Rndrng_Prvdr_Gndr', 'Rndrng_Prvdr_Type', 'Tot_Sbmtd_Chrg', 'Tot_Mdcr_Pymt_Amt', \n",
    "        'Bene_Avg_Age', 'Bene_Avg_Risk_Scre'\n",
    "]\n",
    "features_ben_1 = [\n",
    "        'Bene_Age_LT_65_Cnt', 'Bene_Age_65_74_Cnt', 'Bene_Age_75_84_Cnt', 'Bene_Age_GT_84_Cnt',\n",
    "        'Bene_Feml_Cnt', 'Bene_Male_Cnt', 'Bene_Race_Wht_Cnt', 'Bene_Race_Black_Cnt', 'Bene_Race_API_Cnt', \n",
    "        'Bene_Race_Hspnc_Cnt', 'Bene_Race_NatInd_Cnt', 'Bene_Race_Othr_Cnt',\n",
    "]\n",
    "features_ben_2 = [ \n",
    "        'Bene_CC_AF_Pct', 'Bene_CC_Alzhmr_Pct', 'Bene_CC_Asthma_Pct',\n",
    "       'Bene_CC_Cncr_Pct', 'Bene_CC_CHF_Pct', 'Bene_CC_CKD_Pct',\n",
    "       'Bene_CC_COPD_Pct', 'Bene_CC_Dprssn_Pct', 'Bene_CC_Dbts_Pct',\n",
    "       'Bene_CC_Hyplpdma_Pct', 'Bene_CC_Hyprtnsn_Pct', 'Bene_CC_IHD_Pct',\n",
    "       'Bene_CC_Opo_Pct', 'Bene_CC_RAOA_Pct', 'Bene_CC_Sz_Pct',\n",
    "       'Bene_CC_Strok_Pct'\n",
    "]\n",
    "features_all = features_main + features_ben_1 + features_ben_2 "
   ]
  },
  {
   "cell_type": "code",
   "execution_count": 169,
   "id": "e97c04f8-258b-48c6-9a46-3f61d5619420",
   "metadata": {},
   "outputs": [
    {
     "name": "stderr",
     "output_type": "stream",
     "text": [
      "C:\\Users\\temir\\AppData\\Local\\Temp\\ipykernel_40668\\1854167855.py:18: FutureWarning: The behavior of DataFrame concatenation with empty or all-NA entries is deprecated. In a future version, this will no longer exclude empty or all-NA columns when determining the result dtypes. To retain the old behavior, exclude the relevant entries before the concat operation.\n",
      "  df_prov = pd.concat([df_prov, df_current], ignore_index=True)\n"
     ]
    },
    {
     "name": "stdout",
     "output_type": "stream",
     "text": [
      "   Rndrng_NPI Rndrng_Prvdr_Gndr        Rndrng_Prvdr_Type  Tot_Sbmtd_Chrg  \\\n",
      "0  1003000126                 M        Internal Medicine       515976.55   \n",
      "1  1003000134                 M                Pathology      1136431.94   \n",
      "2  1003000142                 M           Anesthesiology       295950.73   \n",
      "3  1003000423                 F  Obstetrics & Gynecology        21300.00   \n",
      "4  1003000480                 M          General Surgery       180891.00   \n",
      "\n",
      "   Tot_Mdcr_Pymt_Amt Bene_Avg_Age  Bene_Avg_Risk_Scre  Bene_Age_LT_65_Cnt  \\\n",
      "0          231289.23           78              1.8026                42.0   \n",
      "1          203094.28           76              1.0785                88.0   \n",
      "2           93430.64           68              1.4920                77.0   \n",
      "3            6735.97           66              0.6362                 NaN   \n",
      "4           28071.92           65              1.8233                39.0   \n",
      "\n",
      "   Bene_Age_65_74_Cnt  Bene_Age_75_84_Cnt  ...  Bene_CC_COPD_Pct  \\\n",
      "0               197.0               247.0  ...              0.24   \n",
      "1              1396.0              1198.0  ...              0.06   \n",
      "2                98.0                52.0  ...              0.21   \n",
      "3                47.0                 NaN  ...               NaN   \n",
      "4                55.0                 NaN  ...              0.13   \n",
      "\n",
      "   Bene_CC_Dprssn_Pct  Bene_CC_Dbts_Pct  Bene_CC_Hyplpdma_Pct  \\\n",
      "0                0.37              0.44                  0.75   \n",
      "1                0.15              0.20                  0.52   \n",
      "2                0.39              0.38                  0.58   \n",
      "3                0.28              0.17                  0.55   \n",
      "4                0.32              0.40                  0.48   \n",
      "\n",
      "   Bene_CC_Hyprtnsn_Pct  Bene_CC_IHD_Pct  Bene_CC_Opo_Pct  Bene_CC_RAOA_Pct  \\\n",
      "0                  0.75             0.62             0.11              0.58   \n",
      "1                  0.51             0.24             0.11              0.38   \n",
      "2                  0.70             0.33             0.09              0.75   \n",
      "3                  0.46             0.16             0.17              0.38   \n",
      "4                  0.65             0.31             0.12              0.59   \n",
      "\n",
      "   Bene_CC_Sz_Pct  Bene_CC_Strok_Pct  \n",
      "0            0.06               0.14  \n",
      "1            0.01               0.03  \n",
      "2             NaN               0.06  \n",
      "3             NaN                NaN  \n",
      "4             NaN                NaN  \n",
      "\n",
      "[5 rows x 35 columns]\n",
      "Total unique NPIs in the final DataFrame: 1640062\n"
     ]
    }
   ],
   "source": [
    "# df_prov = pd.read_csv('Medicare_Physician_Other_Practitioners_by_Provider_2013.csv', low_memory=False, usecols=features_all)\n",
    "\n",
    "df_prov = pd.DataFrame(columns=features_all)\n",
    "\n",
    "# List of years for which you have data\n",
    "years = list(range(2021, 2012, -1)) #from 2021 to 2013\n",
    "\n",
    "# Iterate through each year, loading the data and appending new NPIs\n",
    "for year in years:\n",
    "    file_path = f'Medicare_Physician_Other_Practitioners_by_Provider_{year}.csv'\n",
    "    # Load data from the current year\n",
    "    df_current = pd.read_csv(file_path, usecols=features_all, low_memory=False, encoding='ISO-8859-1')\n",
    "    \n",
    "    # Drop any rows in df_current that have NPIs already in df_prov\n",
    "    df_current = df_current[~df_current['Rndrng_NPI'].isin(df_prov['Rndrng_NPI'])]\n",
    "    \n",
    "    # Append the new data to df_prov\n",
    "    df_prov = pd.concat([df_prov, df_current], ignore_index=True)\n",
    "\n",
    "# Check the result\n",
    "print(df_prov.head())\n",
    "print(f\"Total unique NPIs in the final DataFrame: {df_prov['Rndrng_NPI'].nunique()}\")"
   ]
  },
  {
   "cell_type": "code",
   "execution_count": 170,
   "id": "67c00542-0c3d-49e9-903e-0b693041e5ad",
   "metadata": {},
   "outputs": [
    {
     "data": {
      "text/plain": [
       "Index(['NPI', 'Rndrng_Prvdr_Gndr', 'Rndrng_Prvdr_Type', 'Tot_Sbmtd_Chrg',\n",
       "       'Tot_Mdcr_Pymt_Amt', 'Bene_Avg_Age', 'Bene_Avg_Risk_Scre',\n",
       "       'Bene_Age_LT_65_Cnt', 'Bene_Age_65_74_Cnt', 'Bene_Age_75_84_Cnt',\n",
       "       'Bene_Age_GT_84_Cnt', 'Bene_Feml_Cnt', 'Bene_Male_Cnt',\n",
       "       'Bene_Race_Wht_Cnt', 'Bene_Race_Black_Cnt', 'Bene_Race_API_Cnt',\n",
       "       'Bene_Race_Hspnc_Cnt', 'Bene_Race_NatInd_Cnt', 'Bene_Race_Othr_Cnt',\n",
       "       'Bene_CC_AF_Pct', 'Bene_CC_Alzhmr_Pct', 'Bene_CC_Asthma_Pct',\n",
       "       'Bene_CC_Cncr_Pct', 'Bene_CC_CHF_Pct', 'Bene_CC_CKD_Pct',\n",
       "       'Bene_CC_COPD_Pct', 'Bene_CC_Dprssn_Pct', 'Bene_CC_Dbts_Pct',\n",
       "       'Bene_CC_Hyplpdma_Pct', 'Bene_CC_Hyprtnsn_Pct', 'Bene_CC_IHD_Pct',\n",
       "       'Bene_CC_Opo_Pct', 'Bene_CC_RAOA_Pct', 'Bene_CC_Sz_Pct',\n",
       "       'Bene_CC_Strok_Pct'],\n",
       "      dtype='object')"
      ]
     },
     "execution_count": 170,
     "metadata": {},
     "output_type": "execute_result"
    },
    {
     "data": {
      "text/plain": [
       "NPI                      object\n",
       "Rndrng_Prvdr_Gndr        object\n",
       "Rndrng_Prvdr_Type        object\n",
       "Tot_Sbmtd_Chrg          float64\n",
       "Tot_Mdcr_Pymt_Amt       float64\n",
       "Bene_Avg_Age             object\n",
       "Bene_Avg_Risk_Scre      float64\n",
       "Bene_Age_LT_65_Cnt      float64\n",
       "Bene_Age_65_74_Cnt      float64\n",
       "Bene_Age_75_84_Cnt      float64\n",
       "Bene_Age_GT_84_Cnt      float64\n",
       "Bene_Feml_Cnt           float64\n",
       "Bene_Male_Cnt           float64\n",
       "Bene_Race_Wht_Cnt       float64\n",
       "Bene_Race_Black_Cnt     float64\n",
       "Bene_Race_API_Cnt       float64\n",
       "Bene_Race_Hspnc_Cnt     float64\n",
       "Bene_Race_NatInd_Cnt    float64\n",
       "Bene_Race_Othr_Cnt      float64\n",
       "Bene_CC_AF_Pct          float64\n",
       "Bene_CC_Alzhmr_Pct      float64\n",
       "Bene_CC_Asthma_Pct      float64\n",
       "Bene_CC_Cncr_Pct        float64\n",
       "Bene_CC_CHF_Pct         float64\n",
       "Bene_CC_CKD_Pct         float64\n",
       "Bene_CC_COPD_Pct        float64\n",
       "Bene_CC_Dprssn_Pct      float64\n",
       "Bene_CC_Dbts_Pct        float64\n",
       "Bene_CC_Hyplpdma_Pct    float64\n",
       "Bene_CC_Hyprtnsn_Pct    float64\n",
       "Bene_CC_IHD_Pct         float64\n",
       "Bene_CC_Opo_Pct         float64\n",
       "Bene_CC_RAOA_Pct        float64\n",
       "Bene_CC_Sz_Pct          float64\n",
       "Bene_CC_Strok_Pct       float64\n",
       "dtype: object"
      ]
     },
     "execution_count": 170,
     "metadata": {},
     "output_type": "execute_result"
    },
    {
     "data": {
      "text/plain": [
       "'NPI'"
      ]
     },
     "execution_count": 170,
     "metadata": {},
     "output_type": "execute_result"
    },
    {
     "data": {
      "text/plain": [
       "'Rndrng_Prvdr_Gndr'"
      ]
     },
     "execution_count": 170,
     "metadata": {},
     "output_type": "execute_result"
    },
    {
     "data": {
      "text/plain": [
       "'Rndrng_Prvdr_Type'"
      ]
     },
     "execution_count": 170,
     "metadata": {},
     "output_type": "execute_result"
    },
    {
     "data": {
      "text/plain": [
       "'Tot_Sbmtd_Chrg'"
      ]
     },
     "execution_count": 170,
     "metadata": {},
     "output_type": "execute_result"
    },
    {
     "data": {
      "text/plain": [
       "'Tot_Mdcr_Pymt_Amt'"
      ]
     },
     "execution_count": 170,
     "metadata": {},
     "output_type": "execute_result"
    },
    {
     "data": {
      "text/plain": [
       "'Bene_Avg_Age'"
      ]
     },
     "execution_count": 170,
     "metadata": {},
     "output_type": "execute_result"
    },
    {
     "data": {
      "text/plain": [
       "'Bene_Avg_Risk_Scre'"
      ]
     },
     "execution_count": 170,
     "metadata": {},
     "output_type": "execute_result"
    },
    {
     "data": {
      "text/plain": [
       "'Bene_Age_LT_65_Cnt'"
      ]
     },
     "execution_count": 170,
     "metadata": {},
     "output_type": "execute_result"
    },
    {
     "data": {
      "text/plain": [
       "'Bene_Age_65_74_Cnt'"
      ]
     },
     "execution_count": 170,
     "metadata": {},
     "output_type": "execute_result"
    },
    {
     "data": {
      "text/plain": [
       "'Bene_Age_75_84_Cnt'"
      ]
     },
     "execution_count": 170,
     "metadata": {},
     "output_type": "execute_result"
    },
    {
     "data": {
      "text/plain": [
       "'Bene_Age_GT_84_Cnt'"
      ]
     },
     "execution_count": 170,
     "metadata": {},
     "output_type": "execute_result"
    },
    {
     "data": {
      "text/plain": [
       "'Bene_Feml_Cnt'"
      ]
     },
     "execution_count": 170,
     "metadata": {},
     "output_type": "execute_result"
    },
    {
     "data": {
      "text/plain": [
       "'Bene_Male_Cnt'"
      ]
     },
     "execution_count": 170,
     "metadata": {},
     "output_type": "execute_result"
    },
    {
     "data": {
      "text/plain": [
       "'Bene_Race_Wht_Cnt'"
      ]
     },
     "execution_count": 170,
     "metadata": {},
     "output_type": "execute_result"
    },
    {
     "data": {
      "text/plain": [
       "'Bene_Race_Black_Cnt'"
      ]
     },
     "execution_count": 170,
     "metadata": {},
     "output_type": "execute_result"
    },
    {
     "data": {
      "text/plain": [
       "'Bene_Race_API_Cnt'"
      ]
     },
     "execution_count": 170,
     "metadata": {},
     "output_type": "execute_result"
    },
    {
     "data": {
      "text/plain": [
       "'Bene_Race_Hspnc_Cnt'"
      ]
     },
     "execution_count": 170,
     "metadata": {},
     "output_type": "execute_result"
    },
    {
     "data": {
      "text/plain": [
       "'Bene_Race_NatInd_Cnt'"
      ]
     },
     "execution_count": 170,
     "metadata": {},
     "output_type": "execute_result"
    },
    {
     "data": {
      "text/plain": [
       "'Bene_Race_Othr_Cnt'"
      ]
     },
     "execution_count": 170,
     "metadata": {},
     "output_type": "execute_result"
    },
    {
     "data": {
      "text/plain": [
       "'Bene_CC_AF_Pct'"
      ]
     },
     "execution_count": 170,
     "metadata": {},
     "output_type": "execute_result"
    },
    {
     "data": {
      "text/plain": [
       "'Bene_CC_Alzhmr_Pct'"
      ]
     },
     "execution_count": 170,
     "metadata": {},
     "output_type": "execute_result"
    },
    {
     "data": {
      "text/plain": [
       "'Bene_CC_Asthma_Pct'"
      ]
     },
     "execution_count": 170,
     "metadata": {},
     "output_type": "execute_result"
    },
    {
     "data": {
      "text/plain": [
       "'Bene_CC_Cncr_Pct'"
      ]
     },
     "execution_count": 170,
     "metadata": {},
     "output_type": "execute_result"
    },
    {
     "data": {
      "text/plain": [
       "'Bene_CC_CHF_Pct'"
      ]
     },
     "execution_count": 170,
     "metadata": {},
     "output_type": "execute_result"
    },
    {
     "data": {
      "text/plain": [
       "'Bene_CC_CKD_Pct'"
      ]
     },
     "execution_count": 170,
     "metadata": {},
     "output_type": "execute_result"
    },
    {
     "data": {
      "text/plain": [
       "'Bene_CC_COPD_Pct'"
      ]
     },
     "execution_count": 170,
     "metadata": {},
     "output_type": "execute_result"
    },
    {
     "data": {
      "text/plain": [
       "'Bene_CC_Dprssn_Pct'"
      ]
     },
     "execution_count": 170,
     "metadata": {},
     "output_type": "execute_result"
    },
    {
     "data": {
      "text/plain": [
       "'Bene_CC_Dbts_Pct'"
      ]
     },
     "execution_count": 170,
     "metadata": {},
     "output_type": "execute_result"
    },
    {
     "data": {
      "text/plain": [
       "'Bene_CC_Hyplpdma_Pct'"
      ]
     },
     "execution_count": 170,
     "metadata": {},
     "output_type": "execute_result"
    },
    {
     "data": {
      "text/plain": [
       "'Bene_CC_Hyprtnsn_Pct'"
      ]
     },
     "execution_count": 170,
     "metadata": {},
     "output_type": "execute_result"
    },
    {
     "data": {
      "text/plain": [
       "'Bene_CC_IHD_Pct'"
      ]
     },
     "execution_count": 170,
     "metadata": {},
     "output_type": "execute_result"
    },
    {
     "data": {
      "text/plain": [
       "'Bene_CC_Opo_Pct'"
      ]
     },
     "execution_count": 170,
     "metadata": {},
     "output_type": "execute_result"
    },
    {
     "data": {
      "text/plain": [
       "'Bene_CC_RAOA_Pct'"
      ]
     },
     "execution_count": 170,
     "metadata": {},
     "output_type": "execute_result"
    },
    {
     "data": {
      "text/plain": [
       "'Bene_CC_Sz_Pct'"
      ]
     },
     "execution_count": 170,
     "metadata": {},
     "output_type": "execute_result"
    },
    {
     "data": {
      "text/plain": [
       "'Bene_CC_Strok_Pct'"
      ]
     },
     "execution_count": 170,
     "metadata": {},
     "output_type": "execute_result"
    }
   ],
   "source": [
    "df_prov.rename(columns={'Rndrng_NPI': 'NPI'}, inplace=True)\n",
    "df_prov.columns\n",
    "df_prov.dtypes\n",
    "for i in df_prov.columns:\n",
    "    i"
   ]
  },
  {
   "cell_type": "code",
   "execution_count": 171,
   "id": "1d7eb963-5626-49b6-8d8c-67ddb4fdd694",
   "metadata": {},
   "outputs": [],
   "source": [
    "unique_npi_leie = set(df_leie['NPI'])\n",
    "df_prov['fraud'] = 0\n",
    "df_prov['fraud'] = df_prov['NPI'].isin(unique_npi_leie).astype(int)\n"
   ]
  },
  {
   "cell_type": "code",
   "execution_count": 172,
   "id": "4aebd31c-46fa-4076-b830-83fd5c1eb6c3",
   "metadata": {},
   "outputs": [
    {
     "data": {
      "text/html": [
       "<div>\n",
       "<style scoped>\n",
       "    .dataframe tbody tr th:only-of-type {\n",
       "        vertical-align: middle;\n",
       "    }\n",
       "\n",
       "    .dataframe tbody tr th {\n",
       "        vertical-align: top;\n",
       "    }\n",
       "\n",
       "    .dataframe thead th {\n",
       "        text-align: right;\n",
       "    }\n",
       "</style>\n",
       "<table border=\"1\" class=\"dataframe\">\n",
       "  <thead>\n",
       "    <tr style=\"text-align: right;\">\n",
       "      <th></th>\n",
       "      <th>NPI</th>\n",
       "      <th>Rndrng_Prvdr_Gndr</th>\n",
       "      <th>Rndrng_Prvdr_Type</th>\n",
       "      <th>Tot_Sbmtd_Chrg</th>\n",
       "      <th>Tot_Mdcr_Pymt_Amt</th>\n",
       "      <th>Bene_Avg_Age</th>\n",
       "      <th>Bene_Avg_Risk_Scre</th>\n",
       "      <th>Bene_Age_LT_65_Cnt</th>\n",
       "      <th>Bene_Age_65_74_Cnt</th>\n",
       "      <th>Bene_Age_75_84_Cnt</th>\n",
       "      <th>...</th>\n",
       "      <th>Bene_CC_Dprssn_Pct</th>\n",
       "      <th>Bene_CC_Dbts_Pct</th>\n",
       "      <th>Bene_CC_Hyplpdma_Pct</th>\n",
       "      <th>Bene_CC_Hyprtnsn_Pct</th>\n",
       "      <th>Bene_CC_IHD_Pct</th>\n",
       "      <th>Bene_CC_Opo_Pct</th>\n",
       "      <th>Bene_CC_RAOA_Pct</th>\n",
       "      <th>Bene_CC_Sz_Pct</th>\n",
       "      <th>Bene_CC_Strok_Pct</th>\n",
       "      <th>fraud</th>\n",
       "    </tr>\n",
       "  </thead>\n",
       "  <tbody>\n",
       "    <tr>\n",
       "      <th>0</th>\n",
       "      <td>1003000126</td>\n",
       "      <td>M</td>\n",
       "      <td>Internal Medicine</td>\n",
       "      <td>515976.55</td>\n",
       "      <td>231289.23</td>\n",
       "      <td>78</td>\n",
       "      <td>1.8026</td>\n",
       "      <td>42.0</td>\n",
       "      <td>197.0</td>\n",
       "      <td>247.0</td>\n",
       "      <td>...</td>\n",
       "      <td>0.37</td>\n",
       "      <td>0.44</td>\n",
       "      <td>0.75</td>\n",
       "      <td>0.75</td>\n",
       "      <td>0.62</td>\n",
       "      <td>0.11</td>\n",
       "      <td>0.58</td>\n",
       "      <td>0.06</td>\n",
       "      <td>0.14</td>\n",
       "      <td>0</td>\n",
       "    </tr>\n",
       "    <tr>\n",
       "      <th>1</th>\n",
       "      <td>1003000134</td>\n",
       "      <td>M</td>\n",
       "      <td>Pathology</td>\n",
       "      <td>1136431.94</td>\n",
       "      <td>203094.28</td>\n",
       "      <td>76</td>\n",
       "      <td>1.0785</td>\n",
       "      <td>88.0</td>\n",
       "      <td>1396.0</td>\n",
       "      <td>1198.0</td>\n",
       "      <td>...</td>\n",
       "      <td>0.15</td>\n",
       "      <td>0.20</td>\n",
       "      <td>0.52</td>\n",
       "      <td>0.51</td>\n",
       "      <td>0.24</td>\n",
       "      <td>0.11</td>\n",
       "      <td>0.38</td>\n",
       "      <td>0.01</td>\n",
       "      <td>0.03</td>\n",
       "      <td>0</td>\n",
       "    </tr>\n",
       "    <tr>\n",
       "      <th>2</th>\n",
       "      <td>1003000142</td>\n",
       "      <td>M</td>\n",
       "      <td>Anesthesiology</td>\n",
       "      <td>295950.73</td>\n",
       "      <td>93430.64</td>\n",
       "      <td>68</td>\n",
       "      <td>1.4920</td>\n",
       "      <td>77.0</td>\n",
       "      <td>98.0</td>\n",
       "      <td>52.0</td>\n",
       "      <td>...</td>\n",
       "      <td>0.39</td>\n",
       "      <td>0.38</td>\n",
       "      <td>0.58</td>\n",
       "      <td>0.70</td>\n",
       "      <td>0.33</td>\n",
       "      <td>0.09</td>\n",
       "      <td>0.75</td>\n",
       "      <td>NaN</td>\n",
       "      <td>0.06</td>\n",
       "      <td>0</td>\n",
       "    </tr>\n",
       "    <tr>\n",
       "      <th>3</th>\n",
       "      <td>1003000423</td>\n",
       "      <td>F</td>\n",
       "      <td>Obstetrics &amp; Gynecology</td>\n",
       "      <td>21300.00</td>\n",
       "      <td>6735.97</td>\n",
       "      <td>66</td>\n",
       "      <td>0.6362</td>\n",
       "      <td>NaN</td>\n",
       "      <td>47.0</td>\n",
       "      <td>NaN</td>\n",
       "      <td>...</td>\n",
       "      <td>0.28</td>\n",
       "      <td>0.17</td>\n",
       "      <td>0.55</td>\n",
       "      <td>0.46</td>\n",
       "      <td>0.16</td>\n",
       "      <td>0.17</td>\n",
       "      <td>0.38</td>\n",
       "      <td>NaN</td>\n",
       "      <td>NaN</td>\n",
       "      <td>0</td>\n",
       "    </tr>\n",
       "    <tr>\n",
       "      <th>4</th>\n",
       "      <td>1003000480</td>\n",
       "      <td>M</td>\n",
       "      <td>General Surgery</td>\n",
       "      <td>180891.00</td>\n",
       "      <td>28071.92</td>\n",
       "      <td>65</td>\n",
       "      <td>1.8233</td>\n",
       "      <td>39.0</td>\n",
       "      <td>55.0</td>\n",
       "      <td>NaN</td>\n",
       "      <td>...</td>\n",
       "      <td>0.32</td>\n",
       "      <td>0.40</td>\n",
       "      <td>0.48</td>\n",
       "      <td>0.65</td>\n",
       "      <td>0.31</td>\n",
       "      <td>0.12</td>\n",
       "      <td>0.59</td>\n",
       "      <td>NaN</td>\n",
       "      <td>NaN</td>\n",
       "      <td>0</td>\n",
       "    </tr>\n",
       "    <tr>\n",
       "      <th>...</th>\n",
       "      <td>...</td>\n",
       "      <td>...</td>\n",
       "      <td>...</td>\n",
       "      <td>...</td>\n",
       "      <td>...</td>\n",
       "      <td>...</td>\n",
       "      <td>...</td>\n",
       "      <td>...</td>\n",
       "      <td>...</td>\n",
       "      <td>...</td>\n",
       "      <td>...</td>\n",
       "      <td>...</td>\n",
       "      <td>...</td>\n",
       "      <td>...</td>\n",
       "      <td>...</td>\n",
       "      <td>...</td>\n",
       "      <td>...</td>\n",
       "      <td>...</td>\n",
       "      <td>...</td>\n",
       "      <td>...</td>\n",
       "      <td>...</td>\n",
       "    </tr>\n",
       "    <tr>\n",
       "      <th>1640057</th>\n",
       "      <td>1992996797</td>\n",
       "      <td>M</td>\n",
       "      <td>Chiropractic</td>\n",
       "      <td>7664.00</td>\n",
       "      <td>3429.29</td>\n",
       "      <td>68</td>\n",
       "      <td>0.8558</td>\n",
       "      <td>NaN</td>\n",
       "      <td>17.0</td>\n",
       "      <td>NaN</td>\n",
       "      <td>...</td>\n",
       "      <td>NaN</td>\n",
       "      <td>NaN</td>\n",
       "      <td>0.52</td>\n",
       "      <td>0.33</td>\n",
       "      <td>NaN</td>\n",
       "      <td>0.00</td>\n",
       "      <td>0.33</td>\n",
       "      <td>0.00</td>\n",
       "      <td>NaN</td>\n",
       "      <td>0</td>\n",
       "    </tr>\n",
       "    <tr>\n",
       "      <th>1640058</th>\n",
       "      <td>1992996995</td>\n",
       "      <td>F</td>\n",
       "      <td>Occupational therapist</td>\n",
       "      <td>28836.00</td>\n",
       "      <td>14939.43</td>\n",
       "      <td>85</td>\n",
       "      <td>1.8190</td>\n",
       "      <td>NaN</td>\n",
       "      <td>NaN</td>\n",
       "      <td>NaN</td>\n",
       "      <td>...</td>\n",
       "      <td>NaN</td>\n",
       "      <td>NaN</td>\n",
       "      <td>NaN</td>\n",
       "      <td>0.73</td>\n",
       "      <td>NaN</td>\n",
       "      <td>NaN</td>\n",
       "      <td>0.50</td>\n",
       "      <td>NaN</td>\n",
       "      <td>NaN</td>\n",
       "      <td>0</td>\n",
       "    </tr>\n",
       "    <tr>\n",
       "      <th>1640059</th>\n",
       "      <td>1992997076</td>\n",
       "      <td>M</td>\n",
       "      <td>Anesthesiology</td>\n",
       "      <td>70856.00</td>\n",
       "      <td>10980.87</td>\n",
       "      <td>72</td>\n",
       "      <td>2.0383</td>\n",
       "      <td>NaN</td>\n",
       "      <td>24.0</td>\n",
       "      <td>14.0</td>\n",
       "      <td>...</td>\n",
       "      <td>0.24</td>\n",
       "      <td>0.33</td>\n",
       "      <td>0.53</td>\n",
       "      <td>0.69</td>\n",
       "      <td>0.39</td>\n",
       "      <td>NaN</td>\n",
       "      <td>0.47</td>\n",
       "      <td>NaN</td>\n",
       "      <td>NaN</td>\n",
       "      <td>0</td>\n",
       "    </tr>\n",
       "    <tr>\n",
       "      <th>1640060</th>\n",
       "      <td>1992997316</td>\n",
       "      <td>M</td>\n",
       "      <td>Family Practice</td>\n",
       "      <td>11605.00</td>\n",
       "      <td>2849.56</td>\n",
       "      <td>72</td>\n",
       "      <td>1.0128</td>\n",
       "      <td>NaN</td>\n",
       "      <td>37.0</td>\n",
       "      <td>NaN</td>\n",
       "      <td>...</td>\n",
       "      <td>NaN</td>\n",
       "      <td>0.53</td>\n",
       "      <td>0.47</td>\n",
       "      <td>0.75</td>\n",
       "      <td>0.38</td>\n",
       "      <td>NaN</td>\n",
       "      <td>0.53</td>\n",
       "      <td>NaN</td>\n",
       "      <td>NaN</td>\n",
       "      <td>0</td>\n",
       "    </tr>\n",
       "    <tr>\n",
       "      <th>1640061</th>\n",
       "      <td>1992997795</td>\n",
       "      <td>F</td>\n",
       "      <td>Registered Dietician/Nutrition Professional</td>\n",
       "      <td>18336.00</td>\n",
       "      <td>3633.29</td>\n",
       "      <td>63</td>\n",
       "      <td>1.6526</td>\n",
       "      <td>NaN</td>\n",
       "      <td>22.0</td>\n",
       "      <td>NaN</td>\n",
       "      <td>...</td>\n",
       "      <td>0.29</td>\n",
       "      <td>0.75</td>\n",
       "      <td>0.71</td>\n",
       "      <td>0.75</td>\n",
       "      <td>0.48</td>\n",
       "      <td>NaN</td>\n",
       "      <td>0.63</td>\n",
       "      <td>NaN</td>\n",
       "      <td>NaN</td>\n",
       "      <td>0</td>\n",
       "    </tr>\n",
       "  </tbody>\n",
       "</table>\n",
       "<p>1638046 rows × 36 columns</p>\n",
       "</div>"
      ],
      "text/plain": [
       "                NPI Rndrng_Prvdr_Gndr  \\\n",
       "0        1003000126                 M   \n",
       "1        1003000134                 M   \n",
       "2        1003000142                 M   \n",
       "3        1003000423                 F   \n",
       "4        1003000480                 M   \n",
       "...             ...               ...   \n",
       "1640057  1992996797                 M   \n",
       "1640058  1992996995                 F   \n",
       "1640059  1992997076                 M   \n",
       "1640060  1992997316                 M   \n",
       "1640061  1992997795                 F   \n",
       "\n",
       "                                   Rndrng_Prvdr_Type  Tot_Sbmtd_Chrg  \\\n",
       "0                                  Internal Medicine       515976.55   \n",
       "1                                          Pathology      1136431.94   \n",
       "2                                     Anesthesiology       295950.73   \n",
       "3                            Obstetrics & Gynecology        21300.00   \n",
       "4                                    General Surgery       180891.00   \n",
       "...                                              ...             ...   \n",
       "1640057                                 Chiropractic         7664.00   \n",
       "1640058                       Occupational therapist        28836.00   \n",
       "1640059                               Anesthesiology        70856.00   \n",
       "1640060                              Family Practice        11605.00   \n",
       "1640061  Registered Dietician/Nutrition Professional        18336.00   \n",
       "\n",
       "         Tot_Mdcr_Pymt_Amt Bene_Avg_Age  Bene_Avg_Risk_Scre  \\\n",
       "0                231289.23           78              1.8026   \n",
       "1                203094.28           76              1.0785   \n",
       "2                 93430.64           68              1.4920   \n",
       "3                  6735.97           66              0.6362   \n",
       "4                 28071.92           65              1.8233   \n",
       "...                    ...          ...                 ...   \n",
       "1640057            3429.29           68              0.8558   \n",
       "1640058           14939.43           85              1.8190   \n",
       "1640059           10980.87           72              2.0383   \n",
       "1640060            2849.56           72              1.0128   \n",
       "1640061            3633.29           63              1.6526   \n",
       "\n",
       "         Bene_Age_LT_65_Cnt  Bene_Age_65_74_Cnt  Bene_Age_75_84_Cnt  ...  \\\n",
       "0                      42.0               197.0               247.0  ...   \n",
       "1                      88.0              1396.0              1198.0  ...   \n",
       "2                      77.0                98.0                52.0  ...   \n",
       "3                       NaN                47.0                 NaN  ...   \n",
       "4                      39.0                55.0                 NaN  ...   \n",
       "...                     ...                 ...                 ...  ...   \n",
       "1640057                 NaN                17.0                 NaN  ...   \n",
       "1640058                 NaN                 NaN                 NaN  ...   \n",
       "1640059                 NaN                24.0                14.0  ...   \n",
       "1640060                 NaN                37.0                 NaN  ...   \n",
       "1640061                 NaN                22.0                 NaN  ...   \n",
       "\n",
       "         Bene_CC_Dprssn_Pct  Bene_CC_Dbts_Pct  Bene_CC_Hyplpdma_Pct  \\\n",
       "0                      0.37              0.44                  0.75   \n",
       "1                      0.15              0.20                  0.52   \n",
       "2                      0.39              0.38                  0.58   \n",
       "3                      0.28              0.17                  0.55   \n",
       "4                      0.32              0.40                  0.48   \n",
       "...                     ...               ...                   ...   \n",
       "1640057                 NaN               NaN                  0.52   \n",
       "1640058                 NaN               NaN                   NaN   \n",
       "1640059                0.24              0.33                  0.53   \n",
       "1640060                 NaN              0.53                  0.47   \n",
       "1640061                0.29              0.75                  0.71   \n",
       "\n",
       "         Bene_CC_Hyprtnsn_Pct  Bene_CC_IHD_Pct  Bene_CC_Opo_Pct  \\\n",
       "0                        0.75             0.62             0.11   \n",
       "1                        0.51             0.24             0.11   \n",
       "2                        0.70             0.33             0.09   \n",
       "3                        0.46             0.16             0.17   \n",
       "4                        0.65             0.31             0.12   \n",
       "...                       ...              ...              ...   \n",
       "1640057                  0.33              NaN             0.00   \n",
       "1640058                  0.73              NaN              NaN   \n",
       "1640059                  0.69             0.39              NaN   \n",
       "1640060                  0.75             0.38              NaN   \n",
       "1640061                  0.75             0.48              NaN   \n",
       "\n",
       "         Bene_CC_RAOA_Pct  Bene_CC_Sz_Pct  Bene_CC_Strok_Pct  fraud  \n",
       "0                    0.58            0.06               0.14      0  \n",
       "1                    0.38            0.01               0.03      0  \n",
       "2                    0.75             NaN               0.06      0  \n",
       "3                    0.38             NaN                NaN      0  \n",
       "4                    0.59             NaN                NaN      0  \n",
       "...                   ...             ...                ...    ...  \n",
       "1640057              0.33            0.00                NaN      0  \n",
       "1640058              0.50             NaN                NaN      0  \n",
       "1640059              0.47             NaN                NaN      0  \n",
       "1640060              0.53             NaN                NaN      0  \n",
       "1640061              0.63             NaN                NaN      0  \n",
       "\n",
       "[1638046 rows x 36 columns]"
      ]
     },
     "execution_count": 172,
     "metadata": {},
     "output_type": "execute_result"
    },
    {
     "data": {
      "text/plain": [
       "2016"
      ]
     },
     "execution_count": 172,
     "metadata": {},
     "output_type": "execute_result"
    }
   ],
   "source": [
    "df_prov[df_prov['fraud'] == 0]\n",
    "len(df_prov[df_prov['fraud'] == 1]['NPI'].unique())"
   ]
  },
  {
   "cell_type": "code",
   "execution_count": 173,
   "id": "d42e5a79-8309-40c7-a7ba-e1ff55469a88",
   "metadata": {},
   "outputs": [
    {
     "data": {
      "text/plain": [
       "NPI                           0\n",
       "Rndrng_Prvdr_Gndr         84744\n",
       "Rndrng_Prvdr_Type             0\n",
       "Tot_Sbmtd_Chrg                0\n",
       "Tot_Mdcr_Pymt_Amt             0\n",
       "Bene_Avg_Age                  0\n",
       "Bene_Avg_Risk_Scre            0\n",
       "Bene_Age_LT_65_Cnt       801654\n",
       "Bene_Age_65_74_Cnt       412413\n",
       "Bene_Age_75_84_Cnt       606870\n",
       "Bene_Age_GT_84_Cnt       822154\n",
       "Bene_Feml_Cnt            322124\n",
       "Bene_Male_Cnt            322124\n",
       "Bene_Race_Wht_Cnt        661288\n",
       "Bene_Race_Black_Cnt     1146414\n",
       "Bene_Race_API_Cnt       1312250\n",
       "Bene_Race_Hspnc_Cnt     1233908\n",
       "Bene_Race_NatInd_Cnt    1097054\n",
       "Bene_Race_Othr_Cnt      1311252\n",
       "Bene_CC_AF_Pct           644380\n",
       "Bene_CC_Alzhmr_Pct       650701\n",
       "Bene_CC_Asthma_Pct       797533\n",
       "Bene_CC_Cncr_Pct         667939\n",
       "Bene_CC_CHF_Pct          543187\n",
       "Bene_CC_CKD_Pct          387822\n",
       "Bene_CC_COPD_Pct         616021\n",
       "Bene_CC_Dprssn_Pct       384461\n",
       "Bene_CC_Dbts_Pct         384700\n",
       "Bene_CC_Hyplpdma_Pct     222061\n",
       "Bene_CC_Hyprtnsn_Pct     171037\n",
       "Bene_CC_IHD_Pct          383530\n",
       "Bene_CC_Opo_Pct          715556\n",
       "Bene_CC_RAOA_Pct         278061\n",
       "Bene_CC_Sz_Pct           942182\n",
       "Bene_CC_Strok_Pct        826297\n",
       "fraud                         0\n",
       "dtype: int64"
      ]
     },
     "execution_count": 173,
     "metadata": {},
     "output_type": "execute_result"
    }
   ],
   "source": [
    "df_prov.isnull().sum()"
   ]
  },
  {
   "cell_type": "code",
   "execution_count": 174,
   "id": "4c6b5d64-77a9-4a3f-9137-6fb9b14d4e8b",
   "metadata": {},
   "outputs": [
    {
     "data": {
      "text/plain": [
       "NPI                           0\n",
       "Rndrng_Prvdr_Gndr             0\n",
       "Rndrng_Prvdr_Type             0\n",
       "Tot_Sbmtd_Chrg                0\n",
       "Tot_Mdcr_Pymt_Amt             0\n",
       "Bene_Avg_Age                  0\n",
       "Bene_Avg_Risk_Scre            0\n",
       "Bene_Age_LT_65_Cnt       776620\n",
       "Bene_Age_65_74_Cnt       400563\n",
       "Bene_Age_75_84_Cnt       590588\n",
       "Bene_Age_GT_84_Cnt       796790\n",
       "Bene_Feml_Cnt            313355\n",
       "Bene_Male_Cnt            313355\n",
       "Bene_Race_Wht_Cnt        639695\n",
       "Bene_Race_Black_Cnt     1099643\n",
       "Bene_Race_API_Cnt       1253916\n",
       "Bene_Race_Hspnc_Cnt     1183416\n",
       "Bene_Race_NatInd_Cnt    1040853\n",
       "Bene_Race_Othr_Cnt      1259699\n",
       "Bene_CC_AF_Pct           620384\n",
       "Bene_CC_Alzhmr_Pct       626241\n",
       "Bene_CC_Asthma_Pct       766232\n",
       "Bene_CC_Cncr_Pct         644059\n",
       "Bene_CC_CHF_Pct          525299\n",
       "Bene_CC_CKD_Pct          375720\n",
       "Bene_CC_COPD_Pct         594418\n",
       "Bene_CC_Dprssn_Pct       369594\n",
       "Bene_CC_Dbts_Pct         373726\n",
       "Bene_CC_Hyplpdma_Pct     215507\n",
       "Bene_CC_Hyprtnsn_Pct     166527\n",
       "Bene_CC_IHD_Pct          372588\n",
       "Bene_CC_Opo_Pct          690131\n",
       "Bene_CC_RAOA_Pct         268731\n",
       "Bene_CC_Sz_Pct           893284\n",
       "Bene_CC_Strok_Pct        787860\n",
       "fraud                         0\n",
       "dtype: int64"
      ]
     },
     "execution_count": 174,
     "metadata": {},
     "output_type": "execute_result"
    }
   ],
   "source": [
    "df_prov.dropna(subset=['Rndrng_Prvdr_Gndr'], inplace=True)\n",
    "df_prov.isnull().sum()"
   ]
  },
  {
   "cell_type": "code",
   "execution_count": 175,
   "id": "92b87f99-6639-41a6-92b7-1fdbb1fbe92e",
   "metadata": {},
   "outputs": [
    {
     "name": "stdout",
     "output_type": "stream",
     "text": [
      "NPI                     0\n",
      "Rndrng_Prvdr_Gndr       0\n",
      "Rndrng_Prvdr_Type       0\n",
      "Tot_Sbmtd_Chrg          0\n",
      "Tot_Mdcr_Pymt_Amt       0\n",
      "Bene_Avg_Age            0\n",
      "Bene_Avg_Risk_Scre      0\n",
      "Bene_Age_LT_65_Cnt      0\n",
      "Bene_Age_65_74_Cnt      0\n",
      "Bene_Age_75_84_Cnt      0\n",
      "Bene_Age_GT_84_Cnt      0\n",
      "Bene_Feml_Cnt           0\n",
      "Bene_Male_Cnt           0\n",
      "Bene_Race_Wht_Cnt       0\n",
      "Bene_Race_Black_Cnt     0\n",
      "Bene_Race_API_Cnt       0\n",
      "Bene_Race_Hspnc_Cnt     0\n",
      "Bene_Race_NatInd_Cnt    0\n",
      "Bene_Race_Othr_Cnt      0\n",
      "Bene_CC_AF_Pct          0\n",
      "Bene_CC_Alzhmr_Pct      0\n",
      "Bene_CC_Asthma_Pct      0\n",
      "Bene_CC_Cncr_Pct        0\n",
      "Bene_CC_CHF_Pct         0\n",
      "Bene_CC_CKD_Pct         0\n",
      "Bene_CC_COPD_Pct        0\n",
      "Bene_CC_Dprssn_Pct      0\n",
      "Bene_CC_Dbts_Pct        0\n",
      "Bene_CC_Hyplpdma_Pct    0\n",
      "Bene_CC_Hyprtnsn_Pct    0\n",
      "Bene_CC_IHD_Pct         0\n",
      "Bene_CC_Opo_Pct         0\n",
      "Bene_CC_RAOA_Pct        0\n",
      "Bene_CC_Sz_Pct          0\n",
      "Bene_CC_Strok_Pct       0\n",
      "fraud                   0\n",
      "dtype: int64\n"
     ]
    },
    {
     "data": {
      "text/plain": [
       "(1555318, 36)"
      ]
     },
     "execution_count": 175,
     "metadata": {},
     "output_type": "execute_result"
    },
    {
     "data": {
      "text/html": [
       "<div>\n",
       "<style scoped>\n",
       "    .dataframe tbody tr th:only-of-type {\n",
       "        vertical-align: middle;\n",
       "    }\n",
       "\n",
       "    .dataframe tbody tr th {\n",
       "        vertical-align: top;\n",
       "    }\n",
       "\n",
       "    .dataframe thead th {\n",
       "        text-align: right;\n",
       "    }\n",
       "</style>\n",
       "<table border=\"1\" class=\"dataframe\">\n",
       "  <thead>\n",
       "    <tr style=\"text-align: right;\">\n",
       "      <th></th>\n",
       "      <th>NPI</th>\n",
       "      <th>Rndrng_Prvdr_Gndr</th>\n",
       "      <th>Rndrng_Prvdr_Type</th>\n",
       "      <th>Tot_Sbmtd_Chrg</th>\n",
       "      <th>Tot_Mdcr_Pymt_Amt</th>\n",
       "      <th>Bene_Avg_Age</th>\n",
       "      <th>Bene_Avg_Risk_Scre</th>\n",
       "      <th>Bene_Age_LT_65_Cnt</th>\n",
       "      <th>Bene_Age_65_74_Cnt</th>\n",
       "      <th>Bene_Age_75_84_Cnt</th>\n",
       "      <th>...</th>\n",
       "      <th>Bene_CC_Dprssn_Pct</th>\n",
       "      <th>Bene_CC_Dbts_Pct</th>\n",
       "      <th>Bene_CC_Hyplpdma_Pct</th>\n",
       "      <th>Bene_CC_Hyprtnsn_Pct</th>\n",
       "      <th>Bene_CC_IHD_Pct</th>\n",
       "      <th>Bene_CC_Opo_Pct</th>\n",
       "      <th>Bene_CC_RAOA_Pct</th>\n",
       "      <th>Bene_CC_Sz_Pct</th>\n",
       "      <th>Bene_CC_Strok_Pct</th>\n",
       "      <th>fraud</th>\n",
       "    </tr>\n",
       "  </thead>\n",
       "  <tbody>\n",
       "    <tr>\n",
       "      <th>4425</th>\n",
       "      <td>1003278615</td>\n",
       "      <td>F</td>\n",
       "      <td>Nurse Practitioner</td>\n",
       "      <td>99924.32</td>\n",
       "      <td>58166.69</td>\n",
       "      <td>81</td>\n",
       "      <td>2.7284</td>\n",
       "      <td>12.0</td>\n",
       "      <td>34.0</td>\n",
       "      <td>54.0</td>\n",
       "      <td>...</td>\n",
       "      <td>0.46</td>\n",
       "      <td>0.75</td>\n",
       "      <td>0.74</td>\n",
       "      <td>0.75</td>\n",
       "      <td>0.53</td>\n",
       "      <td>0.18</td>\n",
       "      <td>0.65</td>\n",
       "      <td>0.06</td>\n",
       "      <td>0.18</td>\n",
       "      <td>1</td>\n",
       "    </tr>\n",
       "    <tr>\n",
       "      <th>10924</th>\n",
       "      <td>1003926270</td>\n",
       "      <td>M</td>\n",
       "      <td>Physical Medicine and Rehabilitation</td>\n",
       "      <td>21677.68</td>\n",
       "      <td>12461.53</td>\n",
       "      <td>35</td>\n",
       "      <td>0.9738</td>\n",
       "      <td>31.0</td>\n",
       "      <td>70.0</td>\n",
       "      <td>61.0</td>\n",
       "      <td>...</td>\n",
       "      <td>0.30</td>\n",
       "      <td>0.35</td>\n",
       "      <td>0.64</td>\n",
       "      <td>0.73</td>\n",
       "      <td>0.00</td>\n",
       "      <td>0.11</td>\n",
       "      <td>0.47</td>\n",
       "      <td>0.01</td>\n",
       "      <td>0.00</td>\n",
       "      <td>1</td>\n",
       "    </tr>\n",
       "    <tr>\n",
       "      <th>11095</th>\n",
       "      <td>1003939471</td>\n",
       "      <td>M</td>\n",
       "      <td>Obstetrics &amp; Gynecology</td>\n",
       "      <td>37052.35</td>\n",
       "      <td>23597.37</td>\n",
       "      <td>71</td>\n",
       "      <td>0.8549</td>\n",
       "      <td>31.0</td>\n",
       "      <td>83.0</td>\n",
       "      <td>54.0</td>\n",
       "      <td>...</td>\n",
       "      <td>0.20</td>\n",
       "      <td>0.24</td>\n",
       "      <td>0.59</td>\n",
       "      <td>0.64</td>\n",
       "      <td>0.28</td>\n",
       "      <td>0.08</td>\n",
       "      <td>0.48</td>\n",
       "      <td>0.01</td>\n",
       "      <td>0.06</td>\n",
       "      <td>1</td>\n",
       "    </tr>\n",
       "    <tr>\n",
       "      <th>25699</th>\n",
       "      <td>1023045606</td>\n",
       "      <td>M</td>\n",
       "      <td>Emergency Medicine</td>\n",
       "      <td>14847.00</td>\n",
       "      <td>3400.29</td>\n",
       "      <td>72</td>\n",
       "      <td>2.3741</td>\n",
       "      <td>31.0</td>\n",
       "      <td>70.0</td>\n",
       "      <td>61.0</td>\n",
       "      <td>...</td>\n",
       "      <td>0.30</td>\n",
       "      <td>0.35</td>\n",
       "      <td>0.58</td>\n",
       "      <td>0.75</td>\n",
       "      <td>0.38</td>\n",
       "      <td>0.11</td>\n",
       "      <td>0.47</td>\n",
       "      <td>0.00</td>\n",
       "      <td>0.06</td>\n",
       "      <td>1</td>\n",
       "    </tr>\n",
       "    <tr>\n",
       "      <th>27160</th>\n",
       "      <td>1023087293</td>\n",
       "      <td>M</td>\n",
       "      <td>Emergency Medicine</td>\n",
       "      <td>386911.00</td>\n",
       "      <td>41937.87</td>\n",
       "      <td>73</td>\n",
       "      <td>1.4829</td>\n",
       "      <td>45.0</td>\n",
       "      <td>100.0</td>\n",
       "      <td>70.0</td>\n",
       "      <td>...</td>\n",
       "      <td>0.31</td>\n",
       "      <td>0.37</td>\n",
       "      <td>0.51</td>\n",
       "      <td>0.75</td>\n",
       "      <td>0.44</td>\n",
       "      <td>0.09</td>\n",
       "      <td>0.51</td>\n",
       "      <td>0.05</td>\n",
       "      <td>0.05</td>\n",
       "      <td>1</td>\n",
       "    </tr>\n",
       "    <tr>\n",
       "      <th>...</th>\n",
       "      <td>...</td>\n",
       "      <td>...</td>\n",
       "      <td>...</td>\n",
       "      <td>...</td>\n",
       "      <td>...</td>\n",
       "      <td>...</td>\n",
       "      <td>...</td>\n",
       "      <td>...</td>\n",
       "      <td>...</td>\n",
       "      <td>...</td>\n",
       "      <td>...</td>\n",
       "      <td>...</td>\n",
       "      <td>...</td>\n",
       "      <td>...</td>\n",
       "      <td>...</td>\n",
       "      <td>...</td>\n",
       "      <td>...</td>\n",
       "      <td>...</td>\n",
       "      <td>...</td>\n",
       "      <td>...</td>\n",
       "      <td>...</td>\n",
       "    </tr>\n",
       "    <tr>\n",
       "      <th>1639234</th>\n",
       "      <td>1972791820</td>\n",
       "      <td>M</td>\n",
       "      <td>Clinical Psychologist</td>\n",
       "      <td>14550.00</td>\n",
       "      <td>6370.72</td>\n",
       "      <td>66</td>\n",
       "      <td>1.2544</td>\n",
       "      <td>31.0</td>\n",
       "      <td>70.0</td>\n",
       "      <td>61.0</td>\n",
       "      <td>...</td>\n",
       "      <td>0.30</td>\n",
       "      <td>0.35</td>\n",
       "      <td>0.64</td>\n",
       "      <td>0.73</td>\n",
       "      <td>0.38</td>\n",
       "      <td>0.11</td>\n",
       "      <td>0.47</td>\n",
       "      <td>0.00</td>\n",
       "      <td>0.06</td>\n",
       "      <td>1</td>\n",
       "    </tr>\n",
       "    <tr>\n",
       "      <th>1639257</th>\n",
       "      <td>1972839447</td>\n",
       "      <td>M</td>\n",
       "      <td>General Practice</td>\n",
       "      <td>52592.64</td>\n",
       "      <td>27964.40</td>\n",
       "      <td>57</td>\n",
       "      <td>1.9736</td>\n",
       "      <td>79.0</td>\n",
       "      <td>70.0</td>\n",
       "      <td>61.0</td>\n",
       "      <td>...</td>\n",
       "      <td>0.42</td>\n",
       "      <td>0.54</td>\n",
       "      <td>0.48</td>\n",
       "      <td>0.75</td>\n",
       "      <td>0.66</td>\n",
       "      <td>0.11</td>\n",
       "      <td>0.75</td>\n",
       "      <td>0.11</td>\n",
       "      <td>0.06</td>\n",
       "      <td>1</td>\n",
       "    </tr>\n",
       "    <tr>\n",
       "      <th>1639598</th>\n",
       "      <td>1982881587</td>\n",
       "      <td>F</td>\n",
       "      <td>Chiropractic</td>\n",
       "      <td>59990.00</td>\n",
       "      <td>29352.74</td>\n",
       "      <td>59</td>\n",
       "      <td>2.0302</td>\n",
       "      <td>46.0</td>\n",
       "      <td>70.0</td>\n",
       "      <td>13.0</td>\n",
       "      <td>...</td>\n",
       "      <td>0.57</td>\n",
       "      <td>0.44</td>\n",
       "      <td>0.50</td>\n",
       "      <td>0.75</td>\n",
       "      <td>0.33</td>\n",
       "      <td>0.11</td>\n",
       "      <td>0.57</td>\n",
       "      <td>0.38</td>\n",
       "      <td>0.06</td>\n",
       "      <td>1</td>\n",
       "    </tr>\n",
       "    <tr>\n",
       "      <th>1639671</th>\n",
       "      <td>1992034250</td>\n",
       "      <td>F</td>\n",
       "      <td>General Practice</td>\n",
       "      <td>7748.50</td>\n",
       "      <td>3778.07</td>\n",
       "      <td>69</td>\n",
       "      <td>0.8083</td>\n",
       "      <td>31.0</td>\n",
       "      <td>25.0</td>\n",
       "      <td>61.0</td>\n",
       "      <td>...</td>\n",
       "      <td>0.30</td>\n",
       "      <td>0.26</td>\n",
       "      <td>0.57</td>\n",
       "      <td>0.74</td>\n",
       "      <td>0.24</td>\n",
       "      <td>0.11</td>\n",
       "      <td>0.30</td>\n",
       "      <td>0.00</td>\n",
       "      <td>0.00</td>\n",
       "      <td>1</td>\n",
       "    </tr>\n",
       "    <tr>\n",
       "      <th>1639891</th>\n",
       "      <td>1992798086</td>\n",
       "      <td>M</td>\n",
       "      <td>Family Practice</td>\n",
       "      <td>6195.00</td>\n",
       "      <td>655.78</td>\n",
       "      <td>58</td>\n",
       "      <td>1.1286</td>\n",
       "      <td>35.0</td>\n",
       "      <td>70.0</td>\n",
       "      <td>61.0</td>\n",
       "      <td>...</td>\n",
       "      <td>0.24</td>\n",
       "      <td>0.28</td>\n",
       "      <td>0.22</td>\n",
       "      <td>0.75</td>\n",
       "      <td>0.28</td>\n",
       "      <td>0.00</td>\n",
       "      <td>0.54</td>\n",
       "      <td>0.01</td>\n",
       "      <td>0.06</td>\n",
       "      <td>1</td>\n",
       "    </tr>\n",
       "  </tbody>\n",
       "</table>\n",
       "<p>1987 rows × 36 columns</p>\n",
       "</div>"
      ],
      "text/plain": [
       "                NPI Rndrng_Prvdr_Gndr                     Rndrng_Prvdr_Type  \\\n",
       "4425     1003278615                 F                    Nurse Practitioner   \n",
       "10924    1003926270                 M  Physical Medicine and Rehabilitation   \n",
       "11095    1003939471                 M               Obstetrics & Gynecology   \n",
       "25699    1023045606                 M                    Emergency Medicine   \n",
       "27160    1023087293                 M                    Emergency Medicine   \n",
       "...             ...               ...                                   ...   \n",
       "1639234  1972791820                 M                 Clinical Psychologist   \n",
       "1639257  1972839447                 M                      General Practice   \n",
       "1639598  1982881587                 F                          Chiropractic   \n",
       "1639671  1992034250                 F                      General Practice   \n",
       "1639891  1992798086                 M                       Family Practice   \n",
       "\n",
       "         Tot_Sbmtd_Chrg  Tot_Mdcr_Pymt_Amt  Bene_Avg_Age  Bene_Avg_Risk_Scre  \\\n",
       "4425           99924.32           58166.69            81              2.7284   \n",
       "10924          21677.68           12461.53            35              0.9738   \n",
       "11095          37052.35           23597.37            71              0.8549   \n",
       "25699          14847.00            3400.29            72              2.3741   \n",
       "27160         386911.00           41937.87            73              1.4829   \n",
       "...                 ...                ...           ...                 ...   \n",
       "1639234        14550.00            6370.72            66              1.2544   \n",
       "1639257        52592.64           27964.40            57              1.9736   \n",
       "1639598        59990.00           29352.74            59              2.0302   \n",
       "1639671         7748.50            3778.07            69              0.8083   \n",
       "1639891         6195.00             655.78            58              1.1286   \n",
       "\n",
       "         Bene_Age_LT_65_Cnt  Bene_Age_65_74_Cnt  Bene_Age_75_84_Cnt  ...  \\\n",
       "4425                   12.0                34.0                54.0  ...   \n",
       "10924                  31.0                70.0                61.0  ...   \n",
       "11095                  31.0                83.0                54.0  ...   \n",
       "25699                  31.0                70.0                61.0  ...   \n",
       "27160                  45.0               100.0                70.0  ...   \n",
       "...                     ...                 ...                 ...  ...   \n",
       "1639234                31.0                70.0                61.0  ...   \n",
       "1639257                79.0                70.0                61.0  ...   \n",
       "1639598                46.0                70.0                13.0  ...   \n",
       "1639671                31.0                25.0                61.0  ...   \n",
       "1639891                35.0                70.0                61.0  ...   \n",
       "\n",
       "         Bene_CC_Dprssn_Pct  Bene_CC_Dbts_Pct  Bene_CC_Hyplpdma_Pct  \\\n",
       "4425                   0.46              0.75                  0.74   \n",
       "10924                  0.30              0.35                  0.64   \n",
       "11095                  0.20              0.24                  0.59   \n",
       "25699                  0.30              0.35                  0.58   \n",
       "27160                  0.31              0.37                  0.51   \n",
       "...                     ...               ...                   ...   \n",
       "1639234                0.30              0.35                  0.64   \n",
       "1639257                0.42              0.54                  0.48   \n",
       "1639598                0.57              0.44                  0.50   \n",
       "1639671                0.30              0.26                  0.57   \n",
       "1639891                0.24              0.28                  0.22   \n",
       "\n",
       "         Bene_CC_Hyprtnsn_Pct  Bene_CC_IHD_Pct  Bene_CC_Opo_Pct  \\\n",
       "4425                     0.75             0.53             0.18   \n",
       "10924                    0.73             0.00             0.11   \n",
       "11095                    0.64             0.28             0.08   \n",
       "25699                    0.75             0.38             0.11   \n",
       "27160                    0.75             0.44             0.09   \n",
       "...                       ...              ...              ...   \n",
       "1639234                  0.73             0.38             0.11   \n",
       "1639257                  0.75             0.66             0.11   \n",
       "1639598                  0.75             0.33             0.11   \n",
       "1639671                  0.74             0.24             0.11   \n",
       "1639891                  0.75             0.28             0.00   \n",
       "\n",
       "         Bene_CC_RAOA_Pct  Bene_CC_Sz_Pct  Bene_CC_Strok_Pct  fraud  \n",
       "4425                 0.65            0.06               0.18      1  \n",
       "10924                0.47            0.01               0.00      1  \n",
       "11095                0.48            0.01               0.06      1  \n",
       "25699                0.47            0.00               0.06      1  \n",
       "27160                0.51            0.05               0.05      1  \n",
       "...                   ...             ...                ...    ...  \n",
       "1639234              0.47            0.00               0.06      1  \n",
       "1639257              0.75            0.11               0.06      1  \n",
       "1639598              0.57            0.38               0.06      1  \n",
       "1639671              0.30            0.00               0.00      1  \n",
       "1639891              0.54            0.01               0.06      1  \n",
       "\n",
       "[1987 rows x 36 columns]"
      ]
     },
     "execution_count": 175,
     "metadata": {},
     "output_type": "execute_result"
    },
    {
     "data": {
      "text/plain": [
       "1555318"
      ]
     },
     "execution_count": 175,
     "metadata": {},
     "output_type": "execute_result"
    }
   ],
   "source": [
    "exclude_columns = ['NPI', 'Rndrng_Prvdr_Gndr', 'Rndrng_Prvdr_Type', 'fraud']\n",
    "median_values = df_prov.drop(columns=exclude_columns).median()\n",
    "\n",
    "# Fill NaN values with medians in the selected columns\n",
    "df_prov.fillna(median_values, inplace=True)\n",
    "\n",
    "print(df_prov.isnull().sum())\n",
    "df_prov.shape\n",
    "df_prov[df_prov['fraud'] == 1]\n",
    "len(df_prov['NPI'].unique())"
   ]
  },
  {
   "cell_type": "code",
   "execution_count": 176,
   "id": "29e9a800-5114-4ba7-a393-a679d788797a",
   "metadata": {},
   "outputs": [],
   "source": [
    "numeric_columns = df_prov.columns.difference(['NPI', 'Rndrng_Prvdr_Gndr', 'Rndrng_Prvdr_Type', 'fraud'])\n",
    "\n",
    "df_prov[numeric_columns] = (df_prov[numeric_columns] - df_prov[numeric_columns].min()) / (df_prov[numeric_columns].max() - df_prov[numeric_columns].min())\n"
   ]
  },
  {
   "cell_type": "code",
   "execution_count": 177,
   "id": "34c169d1-8c25-48c2-8f6e-53ee103161ac",
   "metadata": {},
   "outputs": [],
   "source": [
    "columns_to_encode = ['Rndrng_Prvdr_Type', 'Rndrng_Prvdr_Gndr']\n",
    "\n",
    "# Perform one-hot encoding\n",
    "df_prov = pd.get_dummies(df_prov, columns=columns_to_encode)"
   ]
  },
  {
   "cell_type": "code",
   "execution_count": 178,
   "id": "f7758fed-85b3-49c7-a0f1-0ddb5886dd4f",
   "metadata": {},
   "outputs": [
    {
     "data": {
      "text/html": [
       "<div>\n",
       "<style scoped>\n",
       "    .dataframe tbody tr th:only-of-type {\n",
       "        vertical-align: middle;\n",
       "    }\n",
       "\n",
       "    .dataframe tbody tr th {\n",
       "        vertical-align: top;\n",
       "    }\n",
       "\n",
       "    .dataframe thead th {\n",
       "        text-align: right;\n",
       "    }\n",
       "</style>\n",
       "<table border=\"1\" class=\"dataframe\">\n",
       "  <thead>\n",
       "    <tr style=\"text-align: right;\">\n",
       "      <th></th>\n",
       "      <th>NPI</th>\n",
       "      <th>Tot_Sbmtd_Chrg</th>\n",
       "      <th>Tot_Mdcr_Pymt_Amt</th>\n",
       "      <th>Bene_Avg_Age</th>\n",
       "      <th>Bene_Avg_Risk_Scre</th>\n",
       "      <th>Bene_Age_LT_65_Cnt</th>\n",
       "      <th>Bene_Age_65_74_Cnt</th>\n",
       "      <th>Bene_Age_75_84_Cnt</th>\n",
       "      <th>Bene_Age_GT_84_Cnt</th>\n",
       "      <th>Bene_Feml_Cnt</th>\n",
       "      <th>...</th>\n",
       "      <th>Rndrng_Prvdr_Type_Thoracic Surgery</th>\n",
       "      <th>Rndrng_Prvdr_Type_Undefined Physician type</th>\n",
       "      <th>Rndrng_Prvdr_Type_Undersea and Hyperbaric Medicine</th>\n",
       "      <th>Rndrng_Prvdr_Type_Unknown Physician Specialty Code</th>\n",
       "      <th>Rndrng_Prvdr_Type_Unknown Supplier/Provider</th>\n",
       "      <th>Rndrng_Prvdr_Type_Unknown Supplier/Provider Specialty</th>\n",
       "      <th>Rndrng_Prvdr_Type_Urology</th>\n",
       "      <th>Rndrng_Prvdr_Type_Vascular Surgery</th>\n",
       "      <th>Rndrng_Prvdr_Gndr_F</th>\n",
       "      <th>Rndrng_Prvdr_Gndr_M</th>\n",
       "    </tr>\n",
       "  </thead>\n",
       "  <tbody>\n",
       "    <tr>\n",
       "      <th>4425</th>\n",
       "      <td>1003278615</td>\n",
       "      <td>0.001607</td>\n",
       "      <td>0.002828</td>\n",
       "      <td>0.852273</td>\n",
       "      <td>0.203374</td>\n",
       "      <td>0.000561</td>\n",
       "      <td>0.000216</td>\n",
       "      <td>0.000498</td>\n",
       "      <td>0.002169</td>\n",
       "      <td>0.000784</td>\n",
       "      <td>...</td>\n",
       "      <td>False</td>\n",
       "      <td>False</td>\n",
       "      <td>False</td>\n",
       "      <td>False</td>\n",
       "      <td>False</td>\n",
       "      <td>False</td>\n",
       "      <td>False</td>\n",
       "      <td>False</td>\n",
       "      <td>True</td>\n",
       "      <td>False</td>\n",
       "    </tr>\n",
       "    <tr>\n",
       "      <th>10924</th>\n",
       "      <td>1003926270</td>\n",
       "      <td>0.000349</td>\n",
       "      <td>0.000606</td>\n",
       "      <td>0.329545</td>\n",
       "      <td>0.058146</td>\n",
       "      <td>0.001450</td>\n",
       "      <td>0.000445</td>\n",
       "      <td>0.000563</td>\n",
       "      <td>0.000846</td>\n",
       "      <td>0.000088</td>\n",
       "      <td>...</td>\n",
       "      <td>False</td>\n",
       "      <td>False</td>\n",
       "      <td>False</td>\n",
       "      <td>False</td>\n",
       "      <td>False</td>\n",
       "      <td>False</td>\n",
       "      <td>False</td>\n",
       "      <td>False</td>\n",
       "      <td>False</td>\n",
       "      <td>True</td>\n",
       "    </tr>\n",
       "    <tr>\n",
       "      <th>11095</th>\n",
       "      <td>1003939471</td>\n",
       "      <td>0.000596</td>\n",
       "      <td>0.001147</td>\n",
       "      <td>0.738636</td>\n",
       "      <td>0.048304</td>\n",
       "      <td>0.001450</td>\n",
       "      <td>0.000528</td>\n",
       "      <td>0.000498</td>\n",
       "      <td>0.000846</td>\n",
       "      <td>0.000638</td>\n",
       "      <td>...</td>\n",
       "      <td>False</td>\n",
       "      <td>False</td>\n",
       "      <td>False</td>\n",
       "      <td>False</td>\n",
       "      <td>False</td>\n",
       "      <td>False</td>\n",
       "      <td>False</td>\n",
       "      <td>False</td>\n",
       "      <td>False</td>\n",
       "      <td>True</td>\n",
       "    </tr>\n",
       "    <tr>\n",
       "      <th>25699</th>\n",
       "      <td>1023045606</td>\n",
       "      <td>0.000239</td>\n",
       "      <td>0.000165</td>\n",
       "      <td>0.750000</td>\n",
       "      <td>0.174048</td>\n",
       "      <td>0.001450</td>\n",
       "      <td>0.000445</td>\n",
       "      <td>0.000563</td>\n",
       "      <td>0.000846</td>\n",
       "      <td>0.000088</td>\n",
       "      <td>...</td>\n",
       "      <td>False</td>\n",
       "      <td>False</td>\n",
       "      <td>False</td>\n",
       "      <td>False</td>\n",
       "      <td>False</td>\n",
       "      <td>False</td>\n",
       "      <td>False</td>\n",
       "      <td>False</td>\n",
       "      <td>False</td>\n",
       "      <td>True</td>\n",
       "    </tr>\n",
       "    <tr>\n",
       "      <th>27160</th>\n",
       "      <td>1023087293</td>\n",
       "      <td>0.006224</td>\n",
       "      <td>0.002039</td>\n",
       "      <td>0.761364</td>\n",
       "      <td>0.100284</td>\n",
       "      <td>0.002105</td>\n",
       "      <td>0.000636</td>\n",
       "      <td>0.000646</td>\n",
       "      <td>0.001349</td>\n",
       "      <td>0.000907</td>\n",
       "      <td>...</td>\n",
       "      <td>False</td>\n",
       "      <td>False</td>\n",
       "      <td>False</td>\n",
       "      <td>False</td>\n",
       "      <td>False</td>\n",
       "      <td>False</td>\n",
       "      <td>False</td>\n",
       "      <td>False</td>\n",
       "      <td>False</td>\n",
       "      <td>True</td>\n",
       "    </tr>\n",
       "    <tr>\n",
       "      <th>...</th>\n",
       "      <td>...</td>\n",
       "      <td>...</td>\n",
       "      <td>...</td>\n",
       "      <td>...</td>\n",
       "      <td>...</td>\n",
       "      <td>...</td>\n",
       "      <td>...</td>\n",
       "      <td>...</td>\n",
       "      <td>...</td>\n",
       "      <td>...</td>\n",
       "      <td>...</td>\n",
       "      <td>...</td>\n",
       "      <td>...</td>\n",
       "      <td>...</td>\n",
       "      <td>...</td>\n",
       "      <td>...</td>\n",
       "      <td>...</td>\n",
       "      <td>...</td>\n",
       "      <td>...</td>\n",
       "      <td>...</td>\n",
       "      <td>...</td>\n",
       "    </tr>\n",
       "    <tr>\n",
       "      <th>1639234</th>\n",
       "      <td>1972791820</td>\n",
       "      <td>0.000234</td>\n",
       "      <td>0.000310</td>\n",
       "      <td>0.681818</td>\n",
       "      <td>0.081371</td>\n",
       "      <td>0.001450</td>\n",
       "      <td>0.000445</td>\n",
       "      <td>0.000563</td>\n",
       "      <td>0.000000</td>\n",
       "      <td>0.000497</td>\n",
       "      <td>...</td>\n",
       "      <td>False</td>\n",
       "      <td>False</td>\n",
       "      <td>False</td>\n",
       "      <td>False</td>\n",
       "      <td>False</td>\n",
       "      <td>False</td>\n",
       "      <td>False</td>\n",
       "      <td>False</td>\n",
       "      <td>False</td>\n",
       "      <td>True</td>\n",
       "    </tr>\n",
       "    <tr>\n",
       "      <th>1639257</th>\n",
       "      <td>1972839447</td>\n",
       "      <td>0.000846</td>\n",
       "      <td>0.001359</td>\n",
       "      <td>0.579545</td>\n",
       "      <td>0.140899</td>\n",
       "      <td>0.003695</td>\n",
       "      <td>0.000445</td>\n",
       "      <td>0.000563</td>\n",
       "      <td>0.000846</td>\n",
       "      <td>0.000287</td>\n",
       "      <td>...</td>\n",
       "      <td>False</td>\n",
       "      <td>False</td>\n",
       "      <td>False</td>\n",
       "      <td>False</td>\n",
       "      <td>False</td>\n",
       "      <td>False</td>\n",
       "      <td>False</td>\n",
       "      <td>False</td>\n",
       "      <td>False</td>\n",
       "      <td>True</td>\n",
       "    </tr>\n",
       "    <tr>\n",
       "      <th>1639598</th>\n",
       "      <td>1982881587</td>\n",
       "      <td>0.000965</td>\n",
       "      <td>0.001427</td>\n",
       "      <td>0.602273</td>\n",
       "      <td>0.145584</td>\n",
       "      <td>0.002152</td>\n",
       "      <td>0.000445</td>\n",
       "      <td>0.000120</td>\n",
       "      <td>0.000846</td>\n",
       "      <td>0.000222</td>\n",
       "      <td>...</td>\n",
       "      <td>False</td>\n",
       "      <td>False</td>\n",
       "      <td>False</td>\n",
       "      <td>False</td>\n",
       "      <td>False</td>\n",
       "      <td>False</td>\n",
       "      <td>False</td>\n",
       "      <td>False</td>\n",
       "      <td>True</td>\n",
       "      <td>False</td>\n",
       "    </tr>\n",
       "    <tr>\n",
       "      <th>1639671</th>\n",
       "      <td>1992034250</td>\n",
       "      <td>0.000125</td>\n",
       "      <td>0.000184</td>\n",
       "      <td>0.715909</td>\n",
       "      <td>0.044447</td>\n",
       "      <td>0.001450</td>\n",
       "      <td>0.000159</td>\n",
       "      <td>0.000563</td>\n",
       "      <td>0.000846</td>\n",
       "      <td>0.000146</td>\n",
       "      <td>...</td>\n",
       "      <td>False</td>\n",
       "      <td>False</td>\n",
       "      <td>False</td>\n",
       "      <td>False</td>\n",
       "      <td>False</td>\n",
       "      <td>False</td>\n",
       "      <td>False</td>\n",
       "      <td>False</td>\n",
       "      <td>True</td>\n",
       "      <td>False</td>\n",
       "    </tr>\n",
       "    <tr>\n",
       "      <th>1639891</th>\n",
       "      <td>1992798086</td>\n",
       "      <td>0.000100</td>\n",
       "      <td>0.000032</td>\n",
       "      <td>0.590909</td>\n",
       "      <td>0.070959</td>\n",
       "      <td>0.001637</td>\n",
       "      <td>0.000445</td>\n",
       "      <td>0.000563</td>\n",
       "      <td>0.000846</td>\n",
       "      <td>0.000199</td>\n",
       "      <td>...</td>\n",
       "      <td>False</td>\n",
       "      <td>False</td>\n",
       "      <td>False</td>\n",
       "      <td>False</td>\n",
       "      <td>False</td>\n",
       "      <td>False</td>\n",
       "      <td>False</td>\n",
       "      <td>False</td>\n",
       "      <td>False</td>\n",
       "      <td>True</td>\n",
       "    </tr>\n",
       "  </tbody>\n",
       "</table>\n",
       "<p>1987 rows × 155 columns</p>\n",
       "</div>"
      ],
      "text/plain": [
       "                NPI  Tot_Sbmtd_Chrg  Tot_Mdcr_Pymt_Amt  Bene_Avg_Age  \\\n",
       "4425     1003278615        0.001607           0.002828      0.852273   \n",
       "10924    1003926270        0.000349           0.000606      0.329545   \n",
       "11095    1003939471        0.000596           0.001147      0.738636   \n",
       "25699    1023045606        0.000239           0.000165      0.750000   \n",
       "27160    1023087293        0.006224           0.002039      0.761364   \n",
       "...             ...             ...                ...           ...   \n",
       "1639234  1972791820        0.000234           0.000310      0.681818   \n",
       "1639257  1972839447        0.000846           0.001359      0.579545   \n",
       "1639598  1982881587        0.000965           0.001427      0.602273   \n",
       "1639671  1992034250        0.000125           0.000184      0.715909   \n",
       "1639891  1992798086        0.000100           0.000032      0.590909   \n",
       "\n",
       "         Bene_Avg_Risk_Scre  Bene_Age_LT_65_Cnt  Bene_Age_65_74_Cnt  \\\n",
       "4425               0.203374            0.000561            0.000216   \n",
       "10924              0.058146            0.001450            0.000445   \n",
       "11095              0.048304            0.001450            0.000528   \n",
       "25699              0.174048            0.001450            0.000445   \n",
       "27160              0.100284            0.002105            0.000636   \n",
       "...                     ...                 ...                 ...   \n",
       "1639234            0.081371            0.001450            0.000445   \n",
       "1639257            0.140899            0.003695            0.000445   \n",
       "1639598            0.145584            0.002152            0.000445   \n",
       "1639671            0.044447            0.001450            0.000159   \n",
       "1639891            0.070959            0.001637            0.000445   \n",
       "\n",
       "         Bene_Age_75_84_Cnt  Bene_Age_GT_84_Cnt  Bene_Feml_Cnt  ...  \\\n",
       "4425               0.000498            0.002169       0.000784  ...   \n",
       "10924              0.000563            0.000846       0.000088  ...   \n",
       "11095              0.000498            0.000846       0.000638  ...   \n",
       "25699              0.000563            0.000846       0.000088  ...   \n",
       "27160              0.000646            0.001349       0.000907  ...   \n",
       "...                     ...                 ...            ...  ...   \n",
       "1639234            0.000563            0.000000       0.000497  ...   \n",
       "1639257            0.000563            0.000846       0.000287  ...   \n",
       "1639598            0.000120            0.000846       0.000222  ...   \n",
       "1639671            0.000563            0.000846       0.000146  ...   \n",
       "1639891            0.000563            0.000846       0.000199  ...   \n",
       "\n",
       "         Rndrng_Prvdr_Type_Thoracic Surgery  \\\n",
       "4425                                  False   \n",
       "10924                                 False   \n",
       "11095                                 False   \n",
       "25699                                 False   \n",
       "27160                                 False   \n",
       "...                                     ...   \n",
       "1639234                               False   \n",
       "1639257                               False   \n",
       "1639598                               False   \n",
       "1639671                               False   \n",
       "1639891                               False   \n",
       "\n",
       "         Rndrng_Prvdr_Type_Undefined Physician type  \\\n",
       "4425                                          False   \n",
       "10924                                         False   \n",
       "11095                                         False   \n",
       "25699                                         False   \n",
       "27160                                         False   \n",
       "...                                             ...   \n",
       "1639234                                       False   \n",
       "1639257                                       False   \n",
       "1639598                                       False   \n",
       "1639671                                       False   \n",
       "1639891                                       False   \n",
       "\n",
       "         Rndrng_Prvdr_Type_Undersea and Hyperbaric Medicine  \\\n",
       "4425                                                 False    \n",
       "10924                                                False    \n",
       "11095                                                False    \n",
       "25699                                                False    \n",
       "27160                                                False    \n",
       "...                                                    ...    \n",
       "1639234                                              False    \n",
       "1639257                                              False    \n",
       "1639598                                              False    \n",
       "1639671                                              False    \n",
       "1639891                                              False    \n",
       "\n",
       "         Rndrng_Prvdr_Type_Unknown Physician Specialty Code  \\\n",
       "4425                                                 False    \n",
       "10924                                                False    \n",
       "11095                                                False    \n",
       "25699                                                False    \n",
       "27160                                                False    \n",
       "...                                                    ...    \n",
       "1639234                                              False    \n",
       "1639257                                              False    \n",
       "1639598                                              False    \n",
       "1639671                                              False    \n",
       "1639891                                              False    \n",
       "\n",
       "         Rndrng_Prvdr_Type_Unknown Supplier/Provider  \\\n",
       "4425                                           False   \n",
       "10924                                          False   \n",
       "11095                                          False   \n",
       "25699                                          False   \n",
       "27160                                          False   \n",
       "...                                              ...   \n",
       "1639234                                        False   \n",
       "1639257                                        False   \n",
       "1639598                                        False   \n",
       "1639671                                        False   \n",
       "1639891                                        False   \n",
       "\n",
       "         Rndrng_Prvdr_Type_Unknown Supplier/Provider Specialty  \\\n",
       "4425                                                 False       \n",
       "10924                                                False       \n",
       "11095                                                False       \n",
       "25699                                                False       \n",
       "27160                                                False       \n",
       "...                                                    ...       \n",
       "1639234                                              False       \n",
       "1639257                                              False       \n",
       "1639598                                              False       \n",
       "1639671                                              False       \n",
       "1639891                                              False       \n",
       "\n",
       "         Rndrng_Prvdr_Type_Urology  Rndrng_Prvdr_Type_Vascular Surgery  \\\n",
       "4425                         False                               False   \n",
       "10924                        False                               False   \n",
       "11095                        False                               False   \n",
       "25699                        False                               False   \n",
       "27160                        False                               False   \n",
       "...                            ...                                 ...   \n",
       "1639234                      False                               False   \n",
       "1639257                      False                               False   \n",
       "1639598                      False                               False   \n",
       "1639671                      False                               False   \n",
       "1639891                      False                               False   \n",
       "\n",
       "         Rndrng_Prvdr_Gndr_F  Rndrng_Prvdr_Gndr_M  \n",
       "4425                    True                False  \n",
       "10924                  False                 True  \n",
       "11095                  False                 True  \n",
       "25699                  False                 True  \n",
       "27160                  False                 True  \n",
       "...                      ...                  ...  \n",
       "1639234                False                 True  \n",
       "1639257                False                 True  \n",
       "1639598                 True                False  \n",
       "1639671                 True                False  \n",
       "1639891                False                 True  \n",
       "\n",
       "[1987 rows x 155 columns]"
      ]
     },
     "execution_count": 178,
     "metadata": {},
     "output_type": "execute_result"
    },
    {
     "name": "stdout",
     "output_type": "stream",
     "text": [
      "NPI                                                      0\n",
      "Tot_Sbmtd_Chrg                                           0\n",
      "Tot_Mdcr_Pymt_Amt                                        0\n",
      "Bene_Avg_Age                                             0\n",
      "Bene_Avg_Risk_Scre                                       0\n",
      "                                                        ..\n",
      "Rndrng_Prvdr_Type_Unknown Supplier/Provider Specialty    0\n",
      "Rndrng_Prvdr_Type_Urology                                0\n",
      "Rndrng_Prvdr_Type_Vascular Surgery                       0\n",
      "Rndrng_Prvdr_Gndr_F                                      0\n",
      "Rndrng_Prvdr_Gndr_M                                      0\n",
      "Length: 155, dtype: int64\n"
     ]
    }
   ],
   "source": [
    "df_prov[df_prov['fraud'] == 1]\n",
    "print(df_prov.isnull().sum())"
   ]
  },
  {
   "cell_type": "code",
   "execution_count": 196,
   "id": "0a5bfe0b-ef74-438f-8400-30e66d365706",
   "metadata": {},
   "outputs": [
    {
     "name": "stderr",
     "output_type": "stream",
     "text": [
      "C:\\Users\\temir\\anaconda3\\Lib\\site-packages\\keras\\src\\layers\\core\\dense.py:86: UserWarning: Do not pass an `input_shape`/`input_dim` argument to a layer. When using Sequential models, prefer using an `Input(shape)` object as the first layer in the model instead.\n",
      "  super().__init__(activity_regularizer=activity_regularizer, **kwargs)\n"
     ]
    },
    {
     "name": "stdout",
     "output_type": "stream",
     "text": [
      "Epoch 1/10\n",
      "\u001b[1m34995/34995\u001b[0m \u001b[32m━━━━━━━━━━━━━━━━━━━━\u001b[0m\u001b[37m\u001b[0m \u001b[1m46s\u001b[0m 1ms/step - accuracy: 0.9980 - loss: 0.0165 - val_accuracy: 0.9987 - val_loss: 0.0094\n",
      "Epoch 2/10\n",
      "\u001b[1m34995/34995\u001b[0m \u001b[32m━━━━━━━━━━━━━━━━━━━━\u001b[0m\u001b[37m\u001b[0m \u001b[1m44s\u001b[0m 1ms/step - accuracy: 0.9988 - loss: 0.0096 - val_accuracy: 0.9987 - val_loss: 0.0096\n",
      "Epoch 3/10\n",
      "\u001b[1m34995/34995\u001b[0m \u001b[32m━━━━━━━━━━━━━━━━━━━━\u001b[0m\u001b[37m\u001b[0m \u001b[1m47s\u001b[0m 1ms/step - accuracy: 0.9987 - loss: 0.0096 - val_accuracy: 0.9987 - val_loss: 0.0097\n",
      "Epoch 4/10\n",
      "\u001b[1m34995/34995\u001b[0m \u001b[32m━━━━━━━━━━━━━━━━━━━━\u001b[0m\u001b[37m\u001b[0m \u001b[1m43s\u001b[0m 1ms/step - accuracy: 0.9987 - loss: 0.0097 - val_accuracy: 0.9987 - val_loss: 0.0093\n",
      "Epoch 5/10\n",
      "\u001b[1m34995/34995\u001b[0m \u001b[32m━━━━━━━━━━━━━━━━━━━━\u001b[0m\u001b[37m\u001b[0m \u001b[1m82s\u001b[0m 1ms/step - accuracy: 0.9988 - loss: 0.0095 - val_accuracy: 0.9987 - val_loss: 0.0101\n",
      "Epoch 6/10\n",
      "\u001b[1m34995/34995\u001b[0m \u001b[32m━━━━━━━━━━━━━━━━━━━━\u001b[0m\u001b[37m\u001b[0m \u001b[1m46s\u001b[0m 1ms/step - accuracy: 0.9987 - loss: 0.0097 - val_accuracy: 0.9987 - val_loss: 0.0107\n",
      "Epoch 7/10\n",
      "\u001b[1m34995/34995\u001b[0m \u001b[32m━━━━━━━━━━━━━━━━━━━━\u001b[0m\u001b[37m\u001b[0m \u001b[1m79s\u001b[0m 1ms/step - accuracy: 0.9987 - loss: 0.0108 - val_accuracy: 0.9987 - val_loss: 0.0107\n",
      "Epoch 8/10\n",
      "\u001b[1m34995/34995\u001b[0m \u001b[32m━━━━━━━━━━━━━━━━━━━━\u001b[0m\u001b[37m\u001b[0m \u001b[1m41s\u001b[0m 1ms/step - accuracy: 0.9987 - loss: 0.0100 - val_accuracy: 0.9987 - val_loss: 0.0094\n",
      "Epoch 9/10\n",
      "\u001b[1m34995/34995\u001b[0m \u001b[32m━━━━━━━━━━━━━━━━━━━━\u001b[0m\u001b[37m\u001b[0m \u001b[1m43s\u001b[0m 1ms/step - accuracy: 0.9986 - loss: 0.0103 - val_accuracy: 0.9987 - val_loss: 0.0096\n",
      "Epoch 10/10\n",
      "\u001b[1m34995/34995\u001b[0m \u001b[32m━━━━━━━━━━━━━━━━━━━━\u001b[0m\u001b[37m\u001b[0m \u001b[1m85s\u001b[0m 1ms/step - accuracy: 0.9987 - loss: 0.0099 - val_accuracy: 0.9987 - val_loss: 0.0099\n"
     ]
    },
    {
     "data": {
      "text/plain": [
       "<keras.src.callbacks.history.History at 0x27c81cff390>"
      ]
     },
     "execution_count": 196,
     "metadata": {},
     "output_type": "execute_result"
    },
    {
     "name": "stdout",
     "output_type": "stream",
     "text": [
      "\u001b[1m9721/9721\u001b[0m \u001b[32m━━━━━━━━━━━━━━━━━━━━\u001b[0m\u001b[37m\u001b[0m \u001b[1m7s\u001b[0m 740us/step\n",
      "ROC AUC Score: 0.7893747165388416\n",
      "True Positive Rate (TPR): 0.7405541561712846\n",
      "True Negative Rate (TNR): 0.6968329433122926\n",
      "Geometric Mean (G-Mean): 0.7183610041803408\n",
      "              precision    recall  f1-score   support\n",
      "\n",
      "           0       1.00      0.70      0.82    310667\n",
      "           1       0.00      0.74      0.01       397\n",
      "\n",
      "    accuracy                           0.70    311064\n",
      "   macro avg       0.50      0.72      0.41    311064\n",
      "weighted avg       1.00      0.70      0.82    311064\n",
      "\n"
     ]
    }
   ],
   "source": [
    "X = df_prov.drop(['fraud', 'NPI'], axis=1)\n",
    "y = df_prov['fraud']\n",
    "\n",
    "# Splitting data into training and testing\n",
    "X_train, X_test, y_train, y_test = train_test_split(X, y, test_size=0.2, random_state=42, stratify=y)\n",
    "\n",
    "# Normalizing the data\n",
    "scaler = StandardScaler()\n",
    "X_train_scaled = scaler.fit_transform(X_train)\n",
    "X_test_scaled = scaler.transform(X_test)\n",
    "\n",
    "# Building the neural network model\n",
    "model = Sequential([\n",
    "    Dense(32, input_dim=X_train_scaled.shape[1], activation='relu'),\n",
    "    Dropout(0.5),\n",
    "    Dense(32, activation='relu'),\n",
    "    Dropout(0.5),\n",
    "    Dense(1, activation='sigmoid')\n",
    "])\n",
    "\n",
    "# Compile the model\n",
    "model.compile(loss='binary_crossentropy', optimizer='adam', metrics=['accuracy'])\n",
    "\n",
    "# Train the model\n",
    "model.fit(X_train_scaled, y_train, epochs=10, batch_size=32, validation_split=0.1)\n",
    "\n",
    "# Predict probabilities for the test set\n",
    "predictions = model.predict(X_test_scaled)\n",
    "\n",
    "# Evaluate the model\n",
    "print(\"ROC AUC Score:\", roc_auc_score(y_test, predictions.flatten()))\n",
    "\n",
    "# Adjust threshold and compute binary outcomes\n",
    "threshold = 0.001\n",
    "predicted_classes = (predictions > threshold).astype(int)\n",
    "\n",
    "# Calculate and display the confusion matrix\n",
    "cm = confusion_matrix(y_test, predicted_classes)\n",
    "TN, FP, FN, TP = cm.ravel()\n",
    "\n",
    "# Calculate TPR and TNR\n",
    "TPR = TP / (TP + FN)  # True Positive Rate\n",
    "TNR = TN / (TN + FP)  # True Negative Rate\n",
    "\n",
    "# Calculate the G-Mean\n",
    "G_mean = np.sqrt(TPR * TNR)\n",
    "\n",
    "# Display TPR, TNR, and G-Mean\n",
    "print(\"True Positive Rate (TPR):\", TPR)\n",
    "print(\"True Negative Rate (TNR):\", TNR)\n",
    "print(\"Geometric Mean (G-Mean):\", G_mean)\n",
    "\n",
    "# Detailed classification report\n",
    "print(classification_report(y_test, predicted_classes))"
   ]
  },
  {
   "cell_type": "code",
   "execution_count": 120,
   "id": "98d6fe13-8edd-4341-9da1-5249a2567c8a",
   "metadata": {},
   "outputs": [
    {
     "name": "stdout",
     "output_type": "stream",
     "text": [
      "True Positive Rate (TPR): 0.7052896725440806\n",
      "True Negative Rate (TNR): 0.7398822533452217\n",
      "Geometric Mean (G-Mean): 0.7223789256221612\n",
      "              precision    recall  f1-score   support\n",
      "\n",
      "           0       1.00      0.74      0.85    310667\n",
      "           1       0.00      0.71      0.01       397\n",
      "\n",
      "    accuracy                           0.74    311064\n",
      "   macro avg       0.50      0.72      0.43    311064\n",
      "weighted avg       1.00      0.74      0.85    311064\n",
      "\n"
     ]
    }
   ],
   "source": [
    "# Adjust threshold and compute binary outcomes\n",
    "threshold = 0.0022\n",
    "predicted_classes = (predictions > threshold).astype(int)\n",
    "\n",
    "# Calculate and display the confusion matrix\n",
    "cm = confusion_matrix(y_test, predicted_classes)\n",
    "TN, FP, FN, TP = cm.ravel()\n",
    "\n",
    "# Calculate TPR and TNR\n",
    "TPR = TP / (TP + FN)  # True Positive Rate\n",
    "TNR = TN / (TN + FP)  # True Negative Rate\n",
    "\n",
    "# Calculate the G-Mean\n",
    "G_mean = np.sqrt(TPR * TNR)\n",
    "\n",
    "# Display TPR, TNR, and G-Mean\n",
    "print(\"True Positive Rate (TPR):\", TPR)\n",
    "print(\"True Negative Rate (TNR):\", TNR)\n",
    "print(\"Geometric Mean (G-Mean):\", G_mean)\n",
    "\n",
    "# Detailed classification report\n",
    "print(classification_report(y_test, predicted_classes))"
   ]
  },
  {
   "cell_type": "code",
   "execution_count": 65,
   "id": "8c5b97e6-ee05-490e-bdc7-b1fcd6a8464c",
   "metadata": {},
   "outputs": [
    {
     "data": {
      "text/plain": [
       "'NPI'"
      ]
     },
     "execution_count": 65,
     "metadata": {},
     "output_type": "execute_result"
    },
    {
     "data": {
      "text/plain": [
       "'Tot_Sbmtd_Chrg'"
      ]
     },
     "execution_count": 65,
     "metadata": {},
     "output_type": "execute_result"
    },
    {
     "data": {
      "text/plain": [
       "'Tot_Mdcr_Pymt_Amt'"
      ]
     },
     "execution_count": 65,
     "metadata": {},
     "output_type": "execute_result"
    },
    {
     "data": {
      "text/plain": [
       "'Bene_Avg_Age'"
      ]
     },
     "execution_count": 65,
     "metadata": {},
     "output_type": "execute_result"
    },
    {
     "data": {
      "text/plain": [
       "'Bene_Age_LT_65_Cnt'"
      ]
     },
     "execution_count": 65,
     "metadata": {},
     "output_type": "execute_result"
    },
    {
     "data": {
      "text/plain": [
       "'Bene_Age_65_74_Cnt'"
      ]
     },
     "execution_count": 65,
     "metadata": {},
     "output_type": "execute_result"
    },
    {
     "data": {
      "text/plain": [
       "'Bene_Age_75_84_Cnt'"
      ]
     },
     "execution_count": 65,
     "metadata": {},
     "output_type": "execute_result"
    },
    {
     "data": {
      "text/plain": [
       "'Bene_Age_GT_84_Cnt'"
      ]
     },
     "execution_count": 65,
     "metadata": {},
     "output_type": "execute_result"
    },
    {
     "data": {
      "text/plain": [
       "'Bene_Feml_Cnt'"
      ]
     },
     "execution_count": 65,
     "metadata": {},
     "output_type": "execute_result"
    },
    {
     "data": {
      "text/plain": [
       "'Bene_Male_Cnt'"
      ]
     },
     "execution_count": 65,
     "metadata": {},
     "output_type": "execute_result"
    },
    {
     "data": {
      "text/plain": [
       "'Bene_Race_Wht_Cnt'"
      ]
     },
     "execution_count": 65,
     "metadata": {},
     "output_type": "execute_result"
    },
    {
     "data": {
      "text/plain": [
       "'Bene_Race_NatInd_Cnt'"
      ]
     },
     "execution_count": 65,
     "metadata": {},
     "output_type": "execute_result"
    },
    {
     "data": {
      "text/plain": [
       "'Bene_Race_Othr_Cnt'"
      ]
     },
     "execution_count": 65,
     "metadata": {},
     "output_type": "execute_result"
    },
    {
     "data": {
      "text/plain": [
       "'Bene_CC_AF_Pct'"
      ]
     },
     "execution_count": 65,
     "metadata": {},
     "output_type": "execute_result"
    },
    {
     "data": {
      "text/plain": [
       "'Bene_CC_Alzhmr_Pct'"
      ]
     },
     "execution_count": 65,
     "metadata": {},
     "output_type": "execute_result"
    },
    {
     "data": {
      "text/plain": [
       "'Bene_CC_Asthma_Pct'"
      ]
     },
     "execution_count": 65,
     "metadata": {},
     "output_type": "execute_result"
    },
    {
     "data": {
      "text/plain": [
       "'Bene_CC_Cncr_Pct'"
      ]
     },
     "execution_count": 65,
     "metadata": {},
     "output_type": "execute_result"
    },
    {
     "data": {
      "text/plain": [
       "'Bene_CC_CHF_Pct'"
      ]
     },
     "execution_count": 65,
     "metadata": {},
     "output_type": "execute_result"
    },
    {
     "data": {
      "text/plain": [
       "'Bene_CC_CKD_Pct'"
      ]
     },
     "execution_count": 65,
     "metadata": {},
     "output_type": "execute_result"
    },
    {
     "data": {
      "text/plain": [
       "'Bene_CC_COPD_Pct'"
      ]
     },
     "execution_count": 65,
     "metadata": {},
     "output_type": "execute_result"
    },
    {
     "data": {
      "text/plain": [
       "'Bene_CC_Dprssn_Pct'"
      ]
     },
     "execution_count": 65,
     "metadata": {},
     "output_type": "execute_result"
    },
    {
     "data": {
      "text/plain": [
       "'Bene_CC_Dbts_Pct'"
      ]
     },
     "execution_count": 65,
     "metadata": {},
     "output_type": "execute_result"
    },
    {
     "data": {
      "text/plain": [
       "'Bene_CC_Hyplpdma_Pct'"
      ]
     },
     "execution_count": 65,
     "metadata": {},
     "output_type": "execute_result"
    },
    {
     "data": {
      "text/plain": [
       "'Bene_CC_Hyprtnsn_Pct'"
      ]
     },
     "execution_count": 65,
     "metadata": {},
     "output_type": "execute_result"
    },
    {
     "data": {
      "text/plain": [
       "'Bene_CC_IHD_Pct'"
      ]
     },
     "execution_count": 65,
     "metadata": {},
     "output_type": "execute_result"
    },
    {
     "data": {
      "text/plain": [
       "'Bene_CC_Opo_Pct'"
      ]
     },
     "execution_count": 65,
     "metadata": {},
     "output_type": "execute_result"
    },
    {
     "data": {
      "text/plain": [
       "'Bene_CC_RAOA_Pct'"
      ]
     },
     "execution_count": 65,
     "metadata": {},
     "output_type": "execute_result"
    },
    {
     "data": {
      "text/plain": [
       "'Bene_CC_Sz_Pct'"
      ]
     },
     "execution_count": 65,
     "metadata": {},
     "output_type": "execute_result"
    },
    {
     "data": {
      "text/plain": [
       "'Bene_CC_Strok_Pct'"
      ]
     },
     "execution_count": 65,
     "metadata": {},
     "output_type": "execute_result"
    },
    {
     "data": {
      "text/plain": [
       "'Bene_Avg_Risk_Scre'"
      ]
     },
     "execution_count": 65,
     "metadata": {},
     "output_type": "execute_result"
    },
    {
     "data": {
      "text/plain": [
       "'fraud'"
      ]
     },
     "execution_count": 65,
     "metadata": {},
     "output_type": "execute_result"
    },
    {
     "data": {
      "text/plain": [
       "'Rndrng_Prvdr_Type_Addiction Medicine'"
      ]
     },
     "execution_count": 65,
     "metadata": {},
     "output_type": "execute_result"
    },
    {
     "data": {
      "text/plain": [
       "'Rndrng_Prvdr_Type_All Other Suppliers'"
      ]
     },
     "execution_count": 65,
     "metadata": {},
     "output_type": "execute_result"
    },
    {
     "data": {
      "text/plain": [
       "'Rndrng_Prvdr_Type_Allergy/Immunology'"
      ]
     },
     "execution_count": 65,
     "metadata": {},
     "output_type": "execute_result"
    },
    {
     "data": {
      "text/plain": [
       "'Rndrng_Prvdr_Type_Ambulance Service Supplier'"
      ]
     },
     "execution_count": 65,
     "metadata": {},
     "output_type": "execute_result"
    },
    {
     "data": {
      "text/plain": [
       "'Rndrng_Prvdr_Type_Anesthesiologist Assistants'"
      ]
     },
     "execution_count": 65,
     "metadata": {},
     "output_type": "execute_result"
    },
    {
     "data": {
      "text/plain": [
       "'Rndrng_Prvdr_Type_Anesthesiology'"
      ]
     },
     "execution_count": 65,
     "metadata": {},
     "output_type": "execute_result"
    },
    {
     "data": {
      "text/plain": [
       "'Rndrng_Prvdr_Type_Audiologist (billing independently)'"
      ]
     },
     "execution_count": 65,
     "metadata": {},
     "output_type": "execute_result"
    },
    {
     "data": {
      "text/plain": [
       "'Rndrng_Prvdr_Type_CRNA'"
      ]
     },
     "execution_count": 65,
     "metadata": {},
     "output_type": "execute_result"
    },
    {
     "data": {
      "text/plain": [
       "'Rndrng_Prvdr_Type_Cardiac Electrophysiology'"
      ]
     },
     "execution_count": 65,
     "metadata": {},
     "output_type": "execute_result"
    },
    {
     "data": {
      "text/plain": [
       "'Rndrng_Prvdr_Type_Cardiac Surgery'"
      ]
     },
     "execution_count": 65,
     "metadata": {},
     "output_type": "execute_result"
    },
    {
     "data": {
      "text/plain": [
       "'Rndrng_Prvdr_Type_Cardiology'"
      ]
     },
     "execution_count": 65,
     "metadata": {},
     "output_type": "execute_result"
    },
    {
     "data": {
      "text/plain": [
       "'Rndrng_Prvdr_Type_Certified Clinical Nurse Specialist'"
      ]
     },
     "execution_count": 65,
     "metadata": {},
     "output_type": "execute_result"
    },
    {
     "data": {
      "text/plain": [
       "'Rndrng_Prvdr_Type_Certified Nurse Midwife'"
      ]
     },
     "execution_count": 65,
     "metadata": {},
     "output_type": "execute_result"
    },
    {
     "data": {
      "text/plain": [
       "'Rndrng_Prvdr_Type_Chiropractic'"
      ]
     },
     "execution_count": 65,
     "metadata": {},
     "output_type": "execute_result"
    },
    {
     "data": {
      "text/plain": [
       "'Rndrng_Prvdr_Type_Clinical Laboratory'"
      ]
     },
     "execution_count": 65,
     "metadata": {},
     "output_type": "execute_result"
    },
    {
     "data": {
      "text/plain": [
       "'Rndrng_Prvdr_Type_Clinical Psychologist'"
      ]
     },
     "execution_count": 65,
     "metadata": {},
     "output_type": "execute_result"
    },
    {
     "data": {
      "text/plain": [
       "'Rndrng_Prvdr_Type_Colorectal Surgery (formerly proctology)'"
      ]
     },
     "execution_count": 65,
     "metadata": {},
     "output_type": "execute_result"
    },
    {
     "data": {
      "text/plain": [
       "'Rndrng_Prvdr_Type_Critical Care (Intensivists)'"
      ]
     },
     "execution_count": 65,
     "metadata": {},
     "output_type": "execute_result"
    },
    {
     "data": {
      "text/plain": [
       "'Rndrng_Prvdr_Type_Dermatology'"
      ]
     },
     "execution_count": 65,
     "metadata": {},
     "output_type": "execute_result"
    },
    {
     "data": {
      "text/plain": [
       "'Rndrng_Prvdr_Type_Diagnostic Radiology'"
      ]
     },
     "execution_count": 65,
     "metadata": {},
     "output_type": "execute_result"
    },
    {
     "data": {
      "text/plain": [
       "'Rndrng_Prvdr_Type_Emergency Medicine'"
      ]
     },
     "execution_count": 65,
     "metadata": {},
     "output_type": "execute_result"
    },
    {
     "data": {
      "text/plain": [
       "'Rndrng_Prvdr_Type_Endocrinology'"
      ]
     },
     "execution_count": 65,
     "metadata": {},
     "output_type": "execute_result"
    },
    {
     "data": {
      "text/plain": [
       "'Rndrng_Prvdr_Type_Family Practice'"
      ]
     },
     "execution_count": 65,
     "metadata": {},
     "output_type": "execute_result"
    },
    {
     "data": {
      "text/plain": [
       "'Rndrng_Prvdr_Type_Gastroenterology'"
      ]
     },
     "execution_count": 65,
     "metadata": {},
     "output_type": "execute_result"
    },
    {
     "data": {
      "text/plain": [
       "'Rndrng_Prvdr_Type_General Practice'"
      ]
     },
     "execution_count": 65,
     "metadata": {},
     "output_type": "execute_result"
    },
    {
     "data": {
      "text/plain": [
       "'Rndrng_Prvdr_Type_General Surgery'"
      ]
     },
     "execution_count": 65,
     "metadata": {},
     "output_type": "execute_result"
    },
    {
     "data": {
      "text/plain": [
       "'Rndrng_Prvdr_Type_Geriatric Medicine'"
      ]
     },
     "execution_count": 65,
     "metadata": {},
     "output_type": "execute_result"
    },
    {
     "data": {
      "text/plain": [
       "'Rndrng_Prvdr_Type_Geriatric Psychiatry'"
      ]
     },
     "execution_count": 65,
     "metadata": {},
     "output_type": "execute_result"
    },
    {
     "data": {
      "text/plain": [
       "'Rndrng_Prvdr_Type_Gynecological/Oncology'"
      ]
     },
     "execution_count": 65,
     "metadata": {},
     "output_type": "execute_result"
    },
    {
     "data": {
      "text/plain": [
       "'Rndrng_Prvdr_Type_Hand Surgery'"
      ]
     },
     "execution_count": 65,
     "metadata": {},
     "output_type": "execute_result"
    },
    {
     "data": {
      "text/plain": [
       "'Rndrng_Prvdr_Type_Hematology'"
      ]
     },
     "execution_count": 65,
     "metadata": {},
     "output_type": "execute_result"
    },
    {
     "data": {
      "text/plain": [
       "'Rndrng_Prvdr_Type_Hematology/Oncology'"
      ]
     },
     "execution_count": 65,
     "metadata": {},
     "output_type": "execute_result"
    },
    {
     "data": {
      "text/plain": [
       "'Rndrng_Prvdr_Type_Hospice and Palliative Care'"
      ]
     },
     "execution_count": 65,
     "metadata": {},
     "output_type": "execute_result"
    },
    {
     "data": {
      "text/plain": [
       "'Rndrng_Prvdr_Type_Independent Diagnostic Testing Facility'"
      ]
     },
     "execution_count": 65,
     "metadata": {},
     "output_type": "execute_result"
    },
    {
     "data": {
      "text/plain": [
       "'Rndrng_Prvdr_Type_Infectious Disease'"
      ]
     },
     "execution_count": 65,
     "metadata": {},
     "output_type": "execute_result"
    },
    {
     "data": {
      "text/plain": [
       "'Rndrng_Prvdr_Type_Internal Medicine'"
      ]
     },
     "execution_count": 65,
     "metadata": {},
     "output_type": "execute_result"
    },
    {
     "data": {
      "text/plain": [
       "'Rndrng_Prvdr_Type_Interventional Pain Management'"
      ]
     },
     "execution_count": 65,
     "metadata": {},
     "output_type": "execute_result"
    },
    {
     "data": {
      "text/plain": [
       "'Rndrng_Prvdr_Type_Interventional Radiology'"
      ]
     },
     "execution_count": 65,
     "metadata": {},
     "output_type": "execute_result"
    },
    {
     "data": {
      "text/plain": [
       "'Rndrng_Prvdr_Type_Licensed Clinical Social Worker'"
      ]
     },
     "execution_count": 65,
     "metadata": {},
     "output_type": "execute_result"
    },
    {
     "data": {
      "text/plain": [
       "'Rndrng_Prvdr_Type_Mass Immunization Roster Biller'"
      ]
     },
     "execution_count": 65,
     "metadata": {},
     "output_type": "execute_result"
    },
    {
     "data": {
      "text/plain": [
       "'Rndrng_Prvdr_Type_Maxillofacial Surgery'"
      ]
     },
     "execution_count": 65,
     "metadata": {},
     "output_type": "execute_result"
    },
    {
     "data": {
      "text/plain": [
       "'Rndrng_Prvdr_Type_Medical Oncology'"
      ]
     },
     "execution_count": 65,
     "metadata": {},
     "output_type": "execute_result"
    },
    {
     "data": {
      "text/plain": [
       "'Rndrng_Prvdr_Type_Multispecialty Clinic/Group Practice'"
      ]
     },
     "execution_count": 65,
     "metadata": {},
     "output_type": "execute_result"
    },
    {
     "data": {
      "text/plain": [
       "'Rndrng_Prvdr_Type_Nephrology'"
      ]
     },
     "execution_count": 65,
     "metadata": {},
     "output_type": "execute_result"
    },
    {
     "data": {
      "text/plain": [
       "'Rndrng_Prvdr_Type_Neurology'"
      ]
     },
     "execution_count": 65,
     "metadata": {},
     "output_type": "execute_result"
    },
    {
     "data": {
      "text/plain": [
       "'Rndrng_Prvdr_Type_Neuropsychiatry'"
      ]
     },
     "execution_count": 65,
     "metadata": {},
     "output_type": "execute_result"
    },
    {
     "data": {
      "text/plain": [
       "'Rndrng_Prvdr_Type_Neurosurgery'"
      ]
     },
     "execution_count": 65,
     "metadata": {},
     "output_type": "execute_result"
    },
    {
     "data": {
      "text/plain": [
       "'Rndrng_Prvdr_Type_Nuclear Medicine'"
      ]
     },
     "execution_count": 65,
     "metadata": {},
     "output_type": "execute_result"
    },
    {
     "data": {
      "text/plain": [
       "'Rndrng_Prvdr_Type_Nurse Practitioner'"
      ]
     },
     "execution_count": 65,
     "metadata": {},
     "output_type": "execute_result"
    },
    {
     "data": {
      "text/plain": [
       "'Rndrng_Prvdr_Type_Obstetrics/Gynecology'"
      ]
     },
     "execution_count": 65,
     "metadata": {},
     "output_type": "execute_result"
    },
    {
     "data": {
      "text/plain": [
       "'Rndrng_Prvdr_Type_Occupational therapist'"
      ]
     },
     "execution_count": 65,
     "metadata": {},
     "output_type": "execute_result"
    },
    {
     "data": {
      "text/plain": [
       "'Rndrng_Prvdr_Type_Ophthalmology'"
      ]
     },
     "execution_count": 65,
     "metadata": {},
     "output_type": "execute_result"
    },
    {
     "data": {
      "text/plain": [
       "'Rndrng_Prvdr_Type_Optometry'"
      ]
     },
     "execution_count": 65,
     "metadata": {},
     "output_type": "execute_result"
    },
    {
     "data": {
      "text/plain": [
       "'Rndrng_Prvdr_Type_Oral Surgery (dentists only)'"
      ]
     },
     "execution_count": 65,
     "metadata": {},
     "output_type": "execute_result"
    },
    {
     "data": {
      "text/plain": [
       "'Rndrng_Prvdr_Type_Orthopedic Surgery'"
      ]
     },
     "execution_count": 65,
     "metadata": {},
     "output_type": "execute_result"
    },
    {
     "data": {
      "text/plain": [
       "'Rndrng_Prvdr_Type_Osteopathic Manipulative Medicine'"
      ]
     },
     "execution_count": 65,
     "metadata": {},
     "output_type": "execute_result"
    },
    {
     "data": {
      "text/plain": [
       "'Rndrng_Prvdr_Type_Otolaryngology'"
      ]
     },
     "execution_count": 65,
     "metadata": {},
     "output_type": "execute_result"
    },
    {
     "data": {
      "text/plain": [
       "'Rndrng_Prvdr_Type_Pain Management'"
      ]
     },
     "execution_count": 65,
     "metadata": {},
     "output_type": "execute_result"
    },
    {
     "data": {
      "text/plain": [
       "'Rndrng_Prvdr_Type_Pathology'"
      ]
     },
     "execution_count": 65,
     "metadata": {},
     "output_type": "execute_result"
    },
    {
     "data": {
      "text/plain": [
       "'Rndrng_Prvdr_Type_Pediatric Medicine'"
      ]
     },
     "execution_count": 65,
     "metadata": {},
     "output_type": "execute_result"
    },
    {
     "data": {
      "text/plain": [
       "'Rndrng_Prvdr_Type_Peripheral Vascular Disease'"
      ]
     },
     "execution_count": 65,
     "metadata": {},
     "output_type": "execute_result"
    },
    {
     "data": {
      "text/plain": [
       "'Rndrng_Prvdr_Type_Physical Medicine and Rehabilitation'"
      ]
     },
     "execution_count": 65,
     "metadata": {},
     "output_type": "execute_result"
    },
    {
     "data": {
      "text/plain": [
       "'Rndrng_Prvdr_Type_Physical Therapist'"
      ]
     },
     "execution_count": 65,
     "metadata": {},
     "output_type": "execute_result"
    },
    {
     "data": {
      "text/plain": [
       "'Rndrng_Prvdr_Type_Physician Assistant'"
      ]
     },
     "execution_count": 65,
     "metadata": {},
     "output_type": "execute_result"
    },
    {
     "data": {
      "text/plain": [
       "'Rndrng_Prvdr_Type_Plastic and Reconstructive Surgery'"
      ]
     },
     "execution_count": 65,
     "metadata": {},
     "output_type": "execute_result"
    },
    {
     "data": {
      "text/plain": [
       "'Rndrng_Prvdr_Type_Podiatry'"
      ]
     },
     "execution_count": 65,
     "metadata": {},
     "output_type": "execute_result"
    },
    {
     "data": {
      "text/plain": [
       "'Rndrng_Prvdr_Type_Portable X-ray'"
      ]
     },
     "execution_count": 65,
     "metadata": {},
     "output_type": "execute_result"
    },
    {
     "data": {
      "text/plain": [
       "'Rndrng_Prvdr_Type_Preventive Medicine'"
      ]
     },
     "execution_count": 65,
     "metadata": {},
     "output_type": "execute_result"
    },
    {
     "data": {
      "text/plain": [
       "'Rndrng_Prvdr_Type_Psychiatry'"
      ]
     },
     "execution_count": 65,
     "metadata": {},
     "output_type": "execute_result"
    },
    {
     "data": {
      "text/plain": [
       "'Rndrng_Prvdr_Type_Psychologist (billing independently)'"
      ]
     },
     "execution_count": 65,
     "metadata": {},
     "output_type": "execute_result"
    },
    {
     "data": {
      "text/plain": [
       "'Rndrng_Prvdr_Type_Pulmonary Disease'"
      ]
     },
     "execution_count": 65,
     "metadata": {},
     "output_type": "execute_result"
    },
    {
     "data": {
      "text/plain": [
       "'Rndrng_Prvdr_Type_Radiation Oncology'"
      ]
     },
     "execution_count": 65,
     "metadata": {},
     "output_type": "execute_result"
    },
    {
     "data": {
      "text/plain": [
       "'Rndrng_Prvdr_Type_Registered Dietician/Nutrition Professional'"
      ]
     },
     "execution_count": 65,
     "metadata": {},
     "output_type": "execute_result"
    },
    {
     "data": {
      "text/plain": [
       "'Rndrng_Prvdr_Type_Rheumatology'"
      ]
     },
     "execution_count": 65,
     "metadata": {},
     "output_type": "execute_result"
    },
    {
     "data": {
      "text/plain": [
       "'Rndrng_Prvdr_Type_Sleep Medicine'"
      ]
     },
     "execution_count": 65,
     "metadata": {},
     "output_type": "execute_result"
    },
    {
     "data": {
      "text/plain": [
       "'Rndrng_Prvdr_Type_Slide Preparation Facility'"
      ]
     },
     "execution_count": 65,
     "metadata": {},
     "output_type": "execute_result"
    },
    {
     "data": {
      "text/plain": [
       "'Rndrng_Prvdr_Type_Speech Language Pathologist'"
      ]
     },
     "execution_count": 65,
     "metadata": {},
     "output_type": "execute_result"
    },
    {
     "data": {
      "text/plain": [
       "'Rndrng_Prvdr_Type_Sports Medicine'"
      ]
     },
     "execution_count": 65,
     "metadata": {},
     "output_type": "execute_result"
    },
    {
     "data": {
      "text/plain": [
       "'Rndrng_Prvdr_Type_Surgical Oncology'"
      ]
     },
     "execution_count": 65,
     "metadata": {},
     "output_type": "execute_result"
    },
    {
     "data": {
      "text/plain": [
       "'Rndrng_Prvdr_Type_Thoracic Surgery'"
      ]
     },
     "execution_count": 65,
     "metadata": {},
     "output_type": "execute_result"
    },
    {
     "data": {
      "text/plain": [
       "'Rndrng_Prvdr_Type_Unknown Physician Specialty Code'"
      ]
     },
     "execution_count": 65,
     "metadata": {},
     "output_type": "execute_result"
    },
    {
     "data": {
      "text/plain": [
       "'Rndrng_Prvdr_Type_Unknown Supplier/Provider'"
      ]
     },
     "execution_count": 65,
     "metadata": {},
     "output_type": "execute_result"
    },
    {
     "data": {
      "text/plain": [
       "'Rndrng_Prvdr_Type_Urology'"
      ]
     },
     "execution_count": 65,
     "metadata": {},
     "output_type": "execute_result"
    },
    {
     "data": {
      "text/plain": [
       "'Rndrng_Prvdr_Type_Vascular Surgery'"
      ]
     },
     "execution_count": 65,
     "metadata": {},
     "output_type": "execute_result"
    },
    {
     "data": {
      "text/plain": [
       "'Rndrng_Prvdr_Gndr_F'"
      ]
     },
     "execution_count": 65,
     "metadata": {},
     "output_type": "execute_result"
    },
    {
     "data": {
      "text/plain": [
       "'Rndrng_Prvdr_Gndr_M'"
      ]
     },
     "execution_count": 65,
     "metadata": {},
     "output_type": "execute_result"
    }
   ],
   "source": [
    "for i in df_prov.columns:\n",
    "    i"
   ]
  },
  {
   "cell_type": "code",
   "execution_count": null,
   "id": "664d4548-46f7-4acd-9e8c-98c1ce8efe80",
   "metadata": {},
   "outputs": [],
   "source": []
  },
  {
   "cell_type": "code",
   "execution_count": 164,
   "id": "c1f1196f-53c5-4b92-b116-363c6fe11c83",
   "metadata": {},
   "outputs": [
    {
     "data": {
      "text/html": [
       "<div>\n",
       "<style scoped>\n",
       "    .dataframe tbody tr th:only-of-type {\n",
       "        vertical-align: middle;\n",
       "    }\n",
       "\n",
       "    .dataframe tbody tr th {\n",
       "        vertical-align: top;\n",
       "    }\n",
       "\n",
       "    .dataframe thead th {\n",
       "        text-align: right;\n",
       "    }\n",
       "</style>\n",
       "<table border=\"1\" class=\"dataframe\">\n",
       "  <thead>\n",
       "    <tr style=\"text-align: right;\">\n",
       "      <th></th>\n",
       "      <th>Tot_Sbmtd_Chrg</th>\n",
       "      <th>Tot_Mdcr_Pymt_Amt</th>\n",
       "      <th>Bene_Avg_Age</th>\n",
       "      <th>Bene_Avg_Risk_Scre</th>\n",
       "      <th>Rndrng_Prvdr_Type_Addiction Medicine</th>\n",
       "      <th>Rndrng_Prvdr_Type_Adult Congenital Heart Disease</th>\n",
       "      <th>Rndrng_Prvdr_Type_Advanced Heart Failure and Transplant Cardiology</th>\n",
       "      <th>Rndrng_Prvdr_Type_Allergy/ Immunology</th>\n",
       "      <th>Rndrng_Prvdr_Type_Allergy/Immunology</th>\n",
       "      <th>Rndrng_Prvdr_Type_Ambulance Service Provider</th>\n",
       "      <th>...</th>\n",
       "      <th>Rndrng_Prvdr_Type_Thoracic Surgery</th>\n",
       "      <th>Rndrng_Prvdr_Type_Undefined Physician type</th>\n",
       "      <th>Rndrng_Prvdr_Type_Undersea and Hyperbaric Medicine</th>\n",
       "      <th>Rndrng_Prvdr_Type_Unknown Physician Specialty Code</th>\n",
       "      <th>Rndrng_Prvdr_Type_Unknown Supplier/Provider</th>\n",
       "      <th>Rndrng_Prvdr_Type_Unknown Supplier/Provider Specialty</th>\n",
       "      <th>Rndrng_Prvdr_Type_Urology</th>\n",
       "      <th>Rndrng_Prvdr_Type_Vascular Surgery</th>\n",
       "      <th>Rndrng_Prvdr_Gndr_F</th>\n",
       "      <th>Rndrng_Prvdr_Gndr_M</th>\n",
       "    </tr>\n",
       "  </thead>\n",
       "  <tbody>\n",
       "    <tr>\n",
       "      <th>0</th>\n",
       "      <td>0.008300</td>\n",
       "      <td>0.011243</td>\n",
       "      <td>0.818182</td>\n",
       "      <td>0.126745</td>\n",
       "      <td>False</td>\n",
       "      <td>False</td>\n",
       "      <td>False</td>\n",
       "      <td>False</td>\n",
       "      <td>False</td>\n",
       "      <td>False</td>\n",
       "      <td>...</td>\n",
       "      <td>False</td>\n",
       "      <td>False</td>\n",
       "      <td>False</td>\n",
       "      <td>False</td>\n",
       "      <td>False</td>\n",
       "      <td>False</td>\n",
       "      <td>False</td>\n",
       "      <td>False</td>\n",
       "      <td>False</td>\n",
       "      <td>True</td>\n",
       "    </tr>\n",
       "    <tr>\n",
       "      <th>1</th>\n",
       "      <td>0.018280</td>\n",
       "      <td>0.009873</td>\n",
       "      <td>0.795455</td>\n",
       "      <td>0.066812</td>\n",
       "      <td>False</td>\n",
       "      <td>False</td>\n",
       "      <td>False</td>\n",
       "      <td>False</td>\n",
       "      <td>False</td>\n",
       "      <td>False</td>\n",
       "      <td>...</td>\n",
       "      <td>False</td>\n",
       "      <td>False</td>\n",
       "      <td>False</td>\n",
       "      <td>False</td>\n",
       "      <td>False</td>\n",
       "      <td>False</td>\n",
       "      <td>False</td>\n",
       "      <td>False</td>\n",
       "      <td>False</td>\n",
       "      <td>True</td>\n",
       "    </tr>\n",
       "    <tr>\n",
       "      <th>2</th>\n",
       "      <td>0.004761</td>\n",
       "      <td>0.004542</td>\n",
       "      <td>0.704545</td>\n",
       "      <td>0.101037</td>\n",
       "      <td>False</td>\n",
       "      <td>False</td>\n",
       "      <td>False</td>\n",
       "      <td>False</td>\n",
       "      <td>False</td>\n",
       "      <td>False</td>\n",
       "      <td>...</td>\n",
       "      <td>False</td>\n",
       "      <td>False</td>\n",
       "      <td>False</td>\n",
       "      <td>False</td>\n",
       "      <td>False</td>\n",
       "      <td>False</td>\n",
       "      <td>False</td>\n",
       "      <td>False</td>\n",
       "      <td>False</td>\n",
       "      <td>True</td>\n",
       "    </tr>\n",
       "    <tr>\n",
       "      <th>3</th>\n",
       "      <td>0.000343</td>\n",
       "      <td>0.000327</td>\n",
       "      <td>0.681818</td>\n",
       "      <td>0.030203</td>\n",
       "      <td>False</td>\n",
       "      <td>False</td>\n",
       "      <td>False</td>\n",
       "      <td>False</td>\n",
       "      <td>False</td>\n",
       "      <td>False</td>\n",
       "      <td>...</td>\n",
       "      <td>False</td>\n",
       "      <td>False</td>\n",
       "      <td>False</td>\n",
       "      <td>False</td>\n",
       "      <td>False</td>\n",
       "      <td>False</td>\n",
       "      <td>False</td>\n",
       "      <td>False</td>\n",
       "      <td>True</td>\n",
       "      <td>False</td>\n",
       "    </tr>\n",
       "    <tr>\n",
       "      <th>4</th>\n",
       "      <td>0.002910</td>\n",
       "      <td>0.001365</td>\n",
       "      <td>0.670455</td>\n",
       "      <td>0.128459</td>\n",
       "      <td>False</td>\n",
       "      <td>False</td>\n",
       "      <td>False</td>\n",
       "      <td>False</td>\n",
       "      <td>False</td>\n",
       "      <td>False</td>\n",
       "      <td>...</td>\n",
       "      <td>False</td>\n",
       "      <td>False</td>\n",
       "      <td>False</td>\n",
       "      <td>False</td>\n",
       "      <td>False</td>\n",
       "      <td>False</td>\n",
       "      <td>False</td>\n",
       "      <td>False</td>\n",
       "      <td>False</td>\n",
       "      <td>True</td>\n",
       "    </tr>\n",
       "    <tr>\n",
       "      <th>...</th>\n",
       "      <td>...</td>\n",
       "      <td>...</td>\n",
       "      <td>...</td>\n",
       "      <td>...</td>\n",
       "      <td>...</td>\n",
       "      <td>...</td>\n",
       "      <td>...</td>\n",
       "      <td>...</td>\n",
       "      <td>...</td>\n",
       "      <td>...</td>\n",
       "      <td>...</td>\n",
       "      <td>...</td>\n",
       "      <td>...</td>\n",
       "      <td>...</td>\n",
       "      <td>...</td>\n",
       "      <td>...</td>\n",
       "      <td>...</td>\n",
       "      <td>...</td>\n",
       "      <td>...</td>\n",
       "      <td>...</td>\n",
       "      <td>...</td>\n",
       "    </tr>\n",
       "    <tr>\n",
       "      <th>1640057</th>\n",
       "      <td>0.000123</td>\n",
       "      <td>0.000167</td>\n",
       "      <td>0.704545</td>\n",
       "      <td>0.048379</td>\n",
       "      <td>False</td>\n",
       "      <td>False</td>\n",
       "      <td>False</td>\n",
       "      <td>False</td>\n",
       "      <td>False</td>\n",
       "      <td>False</td>\n",
       "      <td>...</td>\n",
       "      <td>False</td>\n",
       "      <td>False</td>\n",
       "      <td>False</td>\n",
       "      <td>False</td>\n",
       "      <td>False</td>\n",
       "      <td>False</td>\n",
       "      <td>False</td>\n",
       "      <td>False</td>\n",
       "      <td>False</td>\n",
       "      <td>True</td>\n",
       "    </tr>\n",
       "    <tr>\n",
       "      <th>1640058</th>\n",
       "      <td>0.000464</td>\n",
       "      <td>0.000726</td>\n",
       "      <td>0.897727</td>\n",
       "      <td>0.128103</td>\n",
       "      <td>False</td>\n",
       "      <td>False</td>\n",
       "      <td>False</td>\n",
       "      <td>False</td>\n",
       "      <td>False</td>\n",
       "      <td>False</td>\n",
       "      <td>...</td>\n",
       "      <td>False</td>\n",
       "      <td>False</td>\n",
       "      <td>False</td>\n",
       "      <td>False</td>\n",
       "      <td>False</td>\n",
       "      <td>False</td>\n",
       "      <td>False</td>\n",
       "      <td>False</td>\n",
       "      <td>True</td>\n",
       "      <td>False</td>\n",
       "    </tr>\n",
       "    <tr>\n",
       "      <th>1640059</th>\n",
       "      <td>0.001140</td>\n",
       "      <td>0.000534</td>\n",
       "      <td>0.750000</td>\n",
       "      <td>0.146254</td>\n",
       "      <td>False</td>\n",
       "      <td>False</td>\n",
       "      <td>False</td>\n",
       "      <td>False</td>\n",
       "      <td>False</td>\n",
       "      <td>False</td>\n",
       "      <td>...</td>\n",
       "      <td>False</td>\n",
       "      <td>False</td>\n",
       "      <td>False</td>\n",
       "      <td>False</td>\n",
       "      <td>False</td>\n",
       "      <td>False</td>\n",
       "      <td>False</td>\n",
       "      <td>False</td>\n",
       "      <td>False</td>\n",
       "      <td>True</td>\n",
       "    </tr>\n",
       "    <tr>\n",
       "      <th>1640060</th>\n",
       "      <td>0.000187</td>\n",
       "      <td>0.000139</td>\n",
       "      <td>0.750000</td>\n",
       "      <td>0.061374</td>\n",
       "      <td>False</td>\n",
       "      <td>False</td>\n",
       "      <td>False</td>\n",
       "      <td>False</td>\n",
       "      <td>False</td>\n",
       "      <td>False</td>\n",
       "      <td>...</td>\n",
       "      <td>False</td>\n",
       "      <td>False</td>\n",
       "      <td>False</td>\n",
       "      <td>False</td>\n",
       "      <td>False</td>\n",
       "      <td>False</td>\n",
       "      <td>False</td>\n",
       "      <td>False</td>\n",
       "      <td>False</td>\n",
       "      <td>True</td>\n",
       "    </tr>\n",
       "    <tr>\n",
       "      <th>1640061</th>\n",
       "      <td>0.000295</td>\n",
       "      <td>0.000177</td>\n",
       "      <td>0.647727</td>\n",
       "      <td>0.114330</td>\n",
       "      <td>False</td>\n",
       "      <td>False</td>\n",
       "      <td>False</td>\n",
       "      <td>False</td>\n",
       "      <td>False</td>\n",
       "      <td>False</td>\n",
       "      <td>...</td>\n",
       "      <td>False</td>\n",
       "      <td>False</td>\n",
       "      <td>False</td>\n",
       "      <td>False</td>\n",
       "      <td>False</td>\n",
       "      <td>False</td>\n",
       "      <td>False</td>\n",
       "      <td>False</td>\n",
       "      <td>True</td>\n",
       "      <td>False</td>\n",
       "    </tr>\n",
       "  </tbody>\n",
       "</table>\n",
       "<p>1555318 rows × 125 columns</p>\n",
       "</div>"
      ],
      "text/plain": [
       "         Tot_Sbmtd_Chrg  Tot_Mdcr_Pymt_Amt  Bene_Avg_Age  Bene_Avg_Risk_Scre  \\\n",
       "0              0.008300           0.011243      0.818182            0.126745   \n",
       "1              0.018280           0.009873      0.795455            0.066812   \n",
       "2              0.004761           0.004542      0.704545            0.101037   \n",
       "3              0.000343           0.000327      0.681818            0.030203   \n",
       "4              0.002910           0.001365      0.670455            0.128459   \n",
       "...                 ...                ...           ...                 ...   \n",
       "1640057        0.000123           0.000167      0.704545            0.048379   \n",
       "1640058        0.000464           0.000726      0.897727            0.128103   \n",
       "1640059        0.001140           0.000534      0.750000            0.146254   \n",
       "1640060        0.000187           0.000139      0.750000            0.061374   \n",
       "1640061        0.000295           0.000177      0.647727            0.114330   \n",
       "\n",
       "         Rndrng_Prvdr_Type_Addiction Medicine  \\\n",
       "0                                       False   \n",
       "1                                       False   \n",
       "2                                       False   \n",
       "3                                       False   \n",
       "4                                       False   \n",
       "...                                       ...   \n",
       "1640057                                 False   \n",
       "1640058                                 False   \n",
       "1640059                                 False   \n",
       "1640060                                 False   \n",
       "1640061                                 False   \n",
       "\n",
       "         Rndrng_Prvdr_Type_Adult Congenital Heart Disease  \\\n",
       "0                                                   False   \n",
       "1                                                   False   \n",
       "2                                                   False   \n",
       "3                                                   False   \n",
       "4                                                   False   \n",
       "...                                                   ...   \n",
       "1640057                                             False   \n",
       "1640058                                             False   \n",
       "1640059                                             False   \n",
       "1640060                                             False   \n",
       "1640061                                             False   \n",
       "\n",
       "         Rndrng_Prvdr_Type_Advanced Heart Failure and Transplant Cardiology  \\\n",
       "0                                                    False                    \n",
       "1                                                    False                    \n",
       "2                                                    False                    \n",
       "3                                                    False                    \n",
       "4                                                    False                    \n",
       "...                                                    ...                    \n",
       "1640057                                              False                    \n",
       "1640058                                              False                    \n",
       "1640059                                              False                    \n",
       "1640060                                              False                    \n",
       "1640061                                              False                    \n",
       "\n",
       "         Rndrng_Prvdr_Type_Allergy/ Immunology  \\\n",
       "0                                        False   \n",
       "1                                        False   \n",
       "2                                        False   \n",
       "3                                        False   \n",
       "4                                        False   \n",
       "...                                        ...   \n",
       "1640057                                  False   \n",
       "1640058                                  False   \n",
       "1640059                                  False   \n",
       "1640060                                  False   \n",
       "1640061                                  False   \n",
       "\n",
       "         Rndrng_Prvdr_Type_Allergy/Immunology  \\\n",
       "0                                       False   \n",
       "1                                       False   \n",
       "2                                       False   \n",
       "3                                       False   \n",
       "4                                       False   \n",
       "...                                       ...   \n",
       "1640057                                 False   \n",
       "1640058                                 False   \n",
       "1640059                                 False   \n",
       "1640060                                 False   \n",
       "1640061                                 False   \n",
       "\n",
       "         Rndrng_Prvdr_Type_Ambulance Service Provider  ...  \\\n",
       "0                                               False  ...   \n",
       "1                                               False  ...   \n",
       "2                                               False  ...   \n",
       "3                                               False  ...   \n",
       "4                                               False  ...   \n",
       "...                                               ...  ...   \n",
       "1640057                                         False  ...   \n",
       "1640058                                         False  ...   \n",
       "1640059                                         False  ...   \n",
       "1640060                                         False  ...   \n",
       "1640061                                         False  ...   \n",
       "\n",
       "         Rndrng_Prvdr_Type_Thoracic Surgery  \\\n",
       "0                                     False   \n",
       "1                                     False   \n",
       "2                                     False   \n",
       "3                                     False   \n",
       "4                                     False   \n",
       "...                                     ...   \n",
       "1640057                               False   \n",
       "1640058                               False   \n",
       "1640059                               False   \n",
       "1640060                               False   \n",
       "1640061                               False   \n",
       "\n",
       "         Rndrng_Prvdr_Type_Undefined Physician type  \\\n",
       "0                                             False   \n",
       "1                                             False   \n",
       "2                                             False   \n",
       "3                                             False   \n",
       "4                                             False   \n",
       "...                                             ...   \n",
       "1640057                                       False   \n",
       "1640058                                       False   \n",
       "1640059                                       False   \n",
       "1640060                                       False   \n",
       "1640061                                       False   \n",
       "\n",
       "         Rndrng_Prvdr_Type_Undersea and Hyperbaric Medicine  \\\n",
       "0                                                    False    \n",
       "1                                                    False    \n",
       "2                                                    False    \n",
       "3                                                    False    \n",
       "4                                                    False    \n",
       "...                                                    ...    \n",
       "1640057                                              False    \n",
       "1640058                                              False    \n",
       "1640059                                              False    \n",
       "1640060                                              False    \n",
       "1640061                                              False    \n",
       "\n",
       "         Rndrng_Prvdr_Type_Unknown Physician Specialty Code  \\\n",
       "0                                                    False    \n",
       "1                                                    False    \n",
       "2                                                    False    \n",
       "3                                                    False    \n",
       "4                                                    False    \n",
       "...                                                    ...    \n",
       "1640057                                              False    \n",
       "1640058                                              False    \n",
       "1640059                                              False    \n",
       "1640060                                              False    \n",
       "1640061                                              False    \n",
       "\n",
       "         Rndrng_Prvdr_Type_Unknown Supplier/Provider  \\\n",
       "0                                              False   \n",
       "1                                              False   \n",
       "2                                              False   \n",
       "3                                              False   \n",
       "4                                              False   \n",
       "...                                              ...   \n",
       "1640057                                        False   \n",
       "1640058                                        False   \n",
       "1640059                                        False   \n",
       "1640060                                        False   \n",
       "1640061                                        False   \n",
       "\n",
       "         Rndrng_Prvdr_Type_Unknown Supplier/Provider Specialty  \\\n",
       "0                                                    False       \n",
       "1                                                    False       \n",
       "2                                                    False       \n",
       "3                                                    False       \n",
       "4                                                    False       \n",
       "...                                                    ...       \n",
       "1640057                                              False       \n",
       "1640058                                              False       \n",
       "1640059                                              False       \n",
       "1640060                                              False       \n",
       "1640061                                              False       \n",
       "\n",
       "         Rndrng_Prvdr_Type_Urology  Rndrng_Prvdr_Type_Vascular Surgery  \\\n",
       "0                            False                               False   \n",
       "1                            False                               False   \n",
       "2                            False                               False   \n",
       "3                            False                               False   \n",
       "4                            False                               False   \n",
       "...                            ...                                 ...   \n",
       "1640057                      False                               False   \n",
       "1640058                      False                               False   \n",
       "1640059                      False                               False   \n",
       "1640060                      False                               False   \n",
       "1640061                      False                               False   \n",
       "\n",
       "         Rndrng_Prvdr_Gndr_F  Rndrng_Prvdr_Gndr_M  \n",
       "0                      False                 True  \n",
       "1                      False                 True  \n",
       "2                      False                 True  \n",
       "3                       True                False  \n",
       "4                      False                 True  \n",
       "...                      ...                  ...  \n",
       "1640057                False                 True  \n",
       "1640058                 True                False  \n",
       "1640059                False                 True  \n",
       "1640060                False                 True  \n",
       "1640061                 True                False  \n",
       "\n",
       "[1555318 rows x 125 columns]"
      ]
     },
     "execution_count": 164,
     "metadata": {},
     "output_type": "execute_result"
    }
   ],
   "source": [
    "keep_columns_1 = ['Tot_Sbmtd_Chrg', 'Tot_Mdcr_Pymt_Amt', \n",
    "                'Bene_Avg_Age', 'Bene_Avg_Risk_Scre']\n",
    "\n",
    "# Finding columns that start with the specified prefixes to drop\n",
    "keep_columns_2 = [col for col in df_prov.columns if col.startswith('Rndrng_Prvdr_Gndr_') or col.startswith('Rndrng_Prvdr_Type_')]\n",
    "\n",
    "# Ensure the columns to drop does not include any of the keep columns\n",
    "\n",
    "# Drop the identified columns and keep the explicitly listed ones\n",
    "X = df_prov[keep_columns_1+ keep_columns_2]\n",
    "y = df_prov['fraud']\n",
    "X"
   ]
  },
  {
   "cell_type": "code",
   "execution_count": 132,
   "id": "a6954867-d190-475e-b7d8-8c0809f50cba",
   "metadata": {},
   "outputs": [
    {
     "name": "stderr",
     "output_type": "stream",
     "text": [
      "C:\\Users\\temir\\anaconda3\\Lib\\site-packages\\keras\\src\\layers\\core\\dense.py:86: UserWarning: Do not pass an `input_shape`/`input_dim` argument to a layer. When using Sequential models, prefer using an `Input(shape)` object as the first layer in the model instead.\n",
      "  super().__init__(activity_regularizer=activity_regularizer, **kwargs)\n"
     ]
    },
    {
     "name": "stdout",
     "output_type": "stream",
     "text": [
      "Epoch 1/50\n",
      "\u001b[1m34995/34995\u001b[0m \u001b[32m━━━━━━━━━━━━━━━━━━━━\u001b[0m\u001b[37m\u001b[0m \u001b[1m41s\u001b[0m 1ms/step - accuracy: 0.9972 - loss: 0.0188 - val_accuracy: 0.9987 - val_loss: 0.0098\n",
      "Epoch 2/50\n",
      "\u001b[1m34995/34995\u001b[0m \u001b[32m━━━━━━━━━━━━━━━━━━━━\u001b[0m\u001b[37m\u001b[0m \u001b[1m43s\u001b[0m 1ms/step - accuracy: 0.9987 - loss: 0.0103 - val_accuracy: 0.9987 - val_loss: 0.0101\n",
      "Epoch 3/50\n",
      "\u001b[1m34995/34995\u001b[0m \u001b[32m━━━━━━━━━━━━━━━━━━━━\u001b[0m\u001b[37m\u001b[0m \u001b[1m82s\u001b[0m 1ms/step - accuracy: 0.9987 - loss: 0.0104 - val_accuracy: 0.9987 - val_loss: 0.0104\n",
      "Epoch 4/50\n",
      "\u001b[1m34995/34995\u001b[0m \u001b[32m━━━━━━━━━━━━━━━━━━━━\u001b[0m\u001b[37m\u001b[0m \u001b[1m43s\u001b[0m 1ms/step - accuracy: 0.9987 - loss: 0.0100 - val_accuracy: 0.9987 - val_loss: 0.0106\n",
      "Epoch 5/50\n",
      "\u001b[1m34995/34995\u001b[0m \u001b[32m━━━━━━━━━━━━━━━━━━━━\u001b[0m\u001b[37m\u001b[0m \u001b[1m77s\u001b[0m 1ms/step - accuracy: 0.9988 - loss: 0.0099 - val_accuracy: 0.9987 - val_loss: 0.0099\n",
      "Epoch 6/50\n",
      "\u001b[1m34995/34995\u001b[0m \u001b[32m━━━━━━━━━━━━━━━━━━━━\u001b[0m\u001b[37m\u001b[0m \u001b[1m42s\u001b[0m 1ms/step - accuracy: 0.9987 - loss: 0.0108 - val_accuracy: 0.9987 - val_loss: 0.0104\n",
      "Epoch 7/50\n",
      "\u001b[1m34995/34995\u001b[0m \u001b[32m━━━━━━━━━━━━━━━━━━━━\u001b[0m\u001b[37m\u001b[0m \u001b[1m80s\u001b[0m 1ms/step - accuracy: 0.9987 - loss: 0.0103 - val_accuracy: 0.9987 - val_loss: 0.0114\n",
      "Epoch 8/50\n",
      "\u001b[1m34995/34995\u001b[0m \u001b[32m━━━━━━━━━━━━━━━━━━━━\u001b[0m\u001b[37m\u001b[0m \u001b[1m44s\u001b[0m 1ms/step - accuracy: 0.9986 - loss: 0.0106 - val_accuracy: 0.9987 - val_loss: 0.0099\n",
      "Epoch 9/50\n",
      "\u001b[1m34995/34995\u001b[0m \u001b[32m━━━━━━━━━━━━━━━━━━━━\u001b[0m\u001b[37m\u001b[0m \u001b[1m43s\u001b[0m 1ms/step - accuracy: 0.9987 - loss: 0.0102 - val_accuracy: 0.9987 - val_loss: 0.0102\n",
      "Epoch 10/50\n",
      "\u001b[1m34995/34995\u001b[0m \u001b[32m━━━━━━━━━━━━━━━━━━━━\u001b[0m\u001b[37m\u001b[0m \u001b[1m82s\u001b[0m 1ms/step - accuracy: 0.9987 - loss: 0.0110 - val_accuracy: 0.9987 - val_loss: 0.0106\n",
      "Epoch 11/50\n",
      "\u001b[1m34995/34995\u001b[0m \u001b[32m━━━━━━━━━━━━━━━━━━━━\u001b[0m\u001b[37m\u001b[0m \u001b[1m44s\u001b[0m 1ms/step - accuracy: 0.9987 - loss: 0.0106 - val_accuracy: 0.9987 - val_loss: 0.0102\n",
      "Epoch 12/50\n",
      "\u001b[1m34995/34995\u001b[0m \u001b[32m━━━━━━━━━━━━━━━━━━━━\u001b[0m\u001b[37m\u001b[0m \u001b[1m79s\u001b[0m 1ms/step - accuracy: 0.9988 - loss: 0.0102 - val_accuracy: 0.9987 - val_loss: 0.0102\n",
      "Epoch 13/50\n",
      "\u001b[1m34995/34995\u001b[0m \u001b[32m━━━━━━━━━━━━━━━━━━━━\u001b[0m\u001b[37m\u001b[0m \u001b[1m38s\u001b[0m 1ms/step - accuracy: 0.9987 - loss: 0.0110 - val_accuracy: 0.9987 - val_loss: 0.0103\n",
      "Epoch 14/50\n",
      "\u001b[1m34995/34995\u001b[0m \u001b[32m━━━━━━━━━━━━━━━━━━━━\u001b[0m\u001b[37m\u001b[0m \u001b[1m40s\u001b[0m 1ms/step - accuracy: 0.9987 - loss: 0.0107 - val_accuracy: 0.9987 - val_loss: 0.0104\n",
      "Epoch 15/50\n",
      "\u001b[1m34995/34995\u001b[0m \u001b[32m━━━━━━━━━━━━━━━━━━━━\u001b[0m\u001b[37m\u001b[0m \u001b[1m43s\u001b[0m 1ms/step - accuracy: 0.9986 - loss: 0.0114 - val_accuracy: 0.9987 - val_loss: 0.0100\n",
      "Epoch 16/50\n",
      "\u001b[1m34995/34995\u001b[0m \u001b[32m━━━━━━━━━━━━━━━━━━━━\u001b[0m\u001b[37m\u001b[0m \u001b[1m80s\u001b[0m 1ms/step - accuracy: 0.9987 - loss: 0.0106 - val_accuracy: 0.9987 - val_loss: 0.0099\n",
      "Epoch 17/50\n",
      "\u001b[1m34995/34995\u001b[0m \u001b[32m━━━━━━━━━━━━━━━━━━━━\u001b[0m\u001b[37m\u001b[0m \u001b[1m41s\u001b[0m 1ms/step - accuracy: 0.9987 - loss: 0.0106 - val_accuracy: 0.9987 - val_loss: 0.0104\n",
      "Epoch 18/50\n",
      "\u001b[1m34995/34995\u001b[0m \u001b[32m━━━━━━━━━━━━━━━━━━━━\u001b[0m\u001b[37m\u001b[0m \u001b[1m41s\u001b[0m 1ms/step - accuracy: 0.9987 - loss: 0.0107 - val_accuracy: 0.9987 - val_loss: 0.0097\n",
      "Epoch 19/50\n",
      "\u001b[1m34995/34995\u001b[0m \u001b[32m━━━━━━━━━━━━━━━━━━━━\u001b[0m\u001b[37m\u001b[0m \u001b[1m42s\u001b[0m 1ms/step - accuracy: 0.9987 - loss: 0.0107 - val_accuracy: 0.9987 - val_loss: 0.0103\n",
      "Epoch 20/50\n",
      "\u001b[1m34995/34995\u001b[0m \u001b[32m━━━━━━━━━━━━━━━━━━━━\u001b[0m\u001b[37m\u001b[0m \u001b[1m45s\u001b[0m 1ms/step - accuracy: 0.9987 - loss: 0.0108 - val_accuracy: 0.9987 - val_loss: 0.0113\n",
      "Epoch 21/50\n",
      "\u001b[1m34995/34995\u001b[0m \u001b[32m━━━━━━━━━━━━━━━━━━━━\u001b[0m\u001b[37m\u001b[0m \u001b[1m79s\u001b[0m 1ms/step - accuracy: 0.9987 - loss: 0.0115 - val_accuracy: 0.9987 - val_loss: 0.0108\n",
      "Epoch 22/50\n",
      "\u001b[1m34995/34995\u001b[0m \u001b[32m━━━━━━━━━━━━━━━━━━━━\u001b[0m\u001b[37m\u001b[0m \u001b[1m41s\u001b[0m 1ms/step - accuracy: 0.9987 - loss: 0.0111 - val_accuracy: 0.9987 - val_loss: 0.0127\n",
      "Epoch 23/50\n",
      "\u001b[1m34995/34995\u001b[0m \u001b[32m━━━━━━━━━━━━━━━━━━━━\u001b[0m\u001b[37m\u001b[0m \u001b[1m82s\u001b[0m 1ms/step - accuracy: 0.9987 - loss: 0.0117 - val_accuracy: 0.9987 - val_loss: 0.0101\n",
      "Epoch 24/50\n",
      "\u001b[1m34995/34995\u001b[0m \u001b[32m━━━━━━━━━━━━━━━━━━━━\u001b[0m\u001b[37m\u001b[0m \u001b[1m44s\u001b[0m 1ms/step - accuracy: 0.9987 - loss: 0.0125 - val_accuracy: 0.9987 - val_loss: 0.0102\n",
      "Epoch 25/50\n",
      "\u001b[1m34995/34995\u001b[0m \u001b[32m━━━━━━━━━━━━━━━━━━━━\u001b[0m\u001b[37m\u001b[0m \u001b[1m43s\u001b[0m 1ms/step - accuracy: 0.9987 - loss: 0.0111 - val_accuracy: 0.9987 - val_loss: 0.0098\n",
      "Epoch 26/50\n",
      "\u001b[1m34995/34995\u001b[0m \u001b[32m━━━━━━━━━━━━━━━━━━━━\u001b[0m\u001b[37m\u001b[0m \u001b[1m42s\u001b[0m 1ms/step - accuracy: 0.9987 - loss: 0.0111 - val_accuracy: 0.9987 - val_loss: 0.0100\n",
      "Epoch 27/50\n",
      "\u001b[1m34995/34995\u001b[0m \u001b[32m━━━━━━━━━━━━━━━━━━━━\u001b[0m\u001b[37m\u001b[0m \u001b[1m42s\u001b[0m 1ms/step - accuracy: 0.9986 - loss: 0.0111 - val_accuracy: 0.9987 - val_loss: 0.0108\n",
      "Epoch 28/50\n",
      "\u001b[1m34995/34995\u001b[0m \u001b[32m━━━━━━━━━━━━━━━━━━━━\u001b[0m\u001b[37m\u001b[0m \u001b[1m45s\u001b[0m 1ms/step - accuracy: 0.9987 - loss: 0.0105 - val_accuracy: 0.9987 - val_loss: 0.0101\n",
      "Epoch 29/50\n",
      "\u001b[1m34995/34995\u001b[0m \u001b[32m━━━━━━━━━━━━━━━━━━━━\u001b[0m\u001b[37m\u001b[0m \u001b[1m43s\u001b[0m 1ms/step - accuracy: 0.9986 - loss: 0.0120 - val_accuracy: 0.9987 - val_loss: 0.0126\n",
      "Epoch 30/50\n",
      "\u001b[1m34995/34995\u001b[0m \u001b[32m━━━━━━━━━━━━━━━━━━━━\u001b[0m\u001b[37m\u001b[0m \u001b[1m43s\u001b[0m 1ms/step - accuracy: 0.9987 - loss: 0.0111 - val_accuracy: 0.9987 - val_loss: 0.0110\n",
      "Epoch 31/50\n",
      "\u001b[1m34995/34995\u001b[0m \u001b[32m━━━━━━━━━━━━━━━━━━━━\u001b[0m\u001b[37m\u001b[0m \u001b[1m43s\u001b[0m 1ms/step - accuracy: 0.9987 - loss: 0.0107 - val_accuracy: 0.9987 - val_loss: 0.0117\n",
      "Epoch 32/50\n",
      "\u001b[1m34995/34995\u001b[0m \u001b[32m━━━━━━━━━━━━━━━━━━━━\u001b[0m\u001b[37m\u001b[0m \u001b[1m45s\u001b[0m 1ms/step - accuracy: 0.9987 - loss: 0.0114 - val_accuracy: 0.9987 - val_loss: 0.0108\n",
      "Epoch 33/50\n",
      "\u001b[1m34995/34995\u001b[0m \u001b[32m━━━━━━━━━━━━━━━━━━━━\u001b[0m\u001b[37m\u001b[0m \u001b[1m82s\u001b[0m 1ms/step - accuracy: 0.9987 - loss: 0.0117 - val_accuracy: 0.9987 - val_loss: 0.0110\n",
      "Epoch 34/50\n",
      "\u001b[1m34995/34995\u001b[0m \u001b[32m━━━━━━━━━━━━━━━━━━━━\u001b[0m\u001b[37m\u001b[0m \u001b[1m42s\u001b[0m 1ms/step - accuracy: 0.9986 - loss: 0.0115 - val_accuracy: 0.9987 - val_loss: 0.0117\n",
      "Epoch 35/50\n",
      "\u001b[1m34995/34995\u001b[0m \u001b[32m━━━━━━━━━━━━━━━━━━━━\u001b[0m\u001b[37m\u001b[0m \u001b[1m42s\u001b[0m 1ms/step - accuracy: 0.9987 - loss: 0.0116 - val_accuracy: 0.9987 - val_loss: 0.0106\n",
      "Epoch 36/50\n",
      "\u001b[1m34995/34995\u001b[0m \u001b[32m━━━━━━━━━━━━━━━━━━━━\u001b[0m\u001b[37m\u001b[0m \u001b[1m42s\u001b[0m 1ms/step - accuracy: 0.9987 - loss: 0.0118 - val_accuracy: 0.9987 - val_loss: 0.0102\n",
      "Epoch 37/50\n",
      "\u001b[1m34995/34995\u001b[0m \u001b[32m━━━━━━━━━━━━━━━━━━━━\u001b[0m\u001b[37m\u001b[0m \u001b[1m85s\u001b[0m 1ms/step - accuracy: 0.9986 - loss: 0.0113 - val_accuracy: 0.9987 - val_loss: 0.0101\n",
      "Epoch 38/50\n",
      "\u001b[1m34995/34995\u001b[0m \u001b[32m━━━━━━━━━━━━━━━━━━━━\u001b[0m\u001b[37m\u001b[0m \u001b[1m83s\u001b[0m 1ms/step - accuracy: 0.9987 - loss: 0.0114 - val_accuracy: 0.9987 - val_loss: 0.0106\n",
      "Epoch 39/50\n",
      "\u001b[1m34995/34995\u001b[0m \u001b[32m━━━━━━━━━━━━━━━━━━━━\u001b[0m\u001b[37m\u001b[0m \u001b[1m41s\u001b[0m 1ms/step - accuracy: 0.9986 - loss: 0.0124 - val_accuracy: 0.9987 - val_loss: 0.0096\n",
      "Epoch 40/50\n",
      "\u001b[1m34995/34995\u001b[0m \u001b[32m━━━━━━━━━━━━━━━━━━━━\u001b[0m\u001b[37m\u001b[0m \u001b[1m82s\u001b[0m 1ms/step - accuracy: 0.9987 - loss: 0.0117 - val_accuracy: 0.9987 - val_loss: 0.0159\n",
      "Epoch 41/50\n",
      "\u001b[1m34995/34995\u001b[0m \u001b[32m━━━━━━━━━━━━━━━━━━━━\u001b[0m\u001b[37m\u001b[0m \u001b[1m41s\u001b[0m 1ms/step - accuracy: 0.9987 - loss: 0.0146 - val_accuracy: 0.9987 - val_loss: 0.0101\n",
      "Epoch 42/50\n",
      "\u001b[1m34995/34995\u001b[0m \u001b[32m━━━━━━━━━━━━━━━━━━━━\u001b[0m\u001b[37m\u001b[0m \u001b[1m88s\u001b[0m 1ms/step - accuracy: 0.9987 - loss: 0.0115 - val_accuracy: 0.9987 - val_loss: 0.0115\n",
      "Epoch 43/50\n",
      "\u001b[1m34995/34995\u001b[0m \u001b[32m━━━━━━━━━━━━━━━━━━━━\u001b[0m\u001b[37m\u001b[0m \u001b[1m75s\u001b[0m 1ms/step - accuracy: 0.9986 - loss: 0.0118 - val_accuracy: 0.9987 - val_loss: 0.0115\n",
      "Epoch 44/50\n",
      "\u001b[1m34995/34995\u001b[0m \u001b[32m━━━━━━━━━━━━━━━━━━━━\u001b[0m\u001b[37m\u001b[0m \u001b[1m41s\u001b[0m 1ms/step - accuracy: 0.9986 - loss: 0.0130 - val_accuracy: 0.9987 - val_loss: 0.0112\n",
      "Epoch 45/50\n",
      "\u001b[1m34995/34995\u001b[0m \u001b[32m━━━━━━━━━━━━━━━━━━━━\u001b[0m\u001b[37m\u001b[0m \u001b[1m39s\u001b[0m 1ms/step - accuracy: 0.9986 - loss: 0.0116 - val_accuracy: 0.9987 - val_loss: 0.0100\n",
      "Epoch 46/50\n",
      "\u001b[1m34995/34995\u001b[0m \u001b[32m━━━━━━━━━━━━━━━━━━━━\u001b[0m\u001b[37m\u001b[0m \u001b[1m42s\u001b[0m 1ms/step - accuracy: 0.9987 - loss: 0.0108 - val_accuracy: 0.9987 - val_loss: 0.0097\n",
      "Epoch 47/50\n",
      "\u001b[1m34995/34995\u001b[0m \u001b[32m━━━━━━━━━━━━━━━━━━━━\u001b[0m\u001b[37m\u001b[0m \u001b[1m48s\u001b[0m 1ms/step - accuracy: 0.9987 - loss: 0.0113 - val_accuracy: 0.9987 - val_loss: 0.0098\n",
      "Epoch 48/50\n",
      "\u001b[1m34995/34995\u001b[0m \u001b[32m━━━━━━━━━━━━━━━━━━━━\u001b[0m\u001b[37m\u001b[0m \u001b[1m76s\u001b[0m 1ms/step - accuracy: 0.9987 - loss: 0.0117 - val_accuracy: 0.9987 - val_loss: 0.0099\n",
      "Epoch 49/50\n",
      "\u001b[1m34995/34995\u001b[0m \u001b[32m━━━━━━━━━━━━━━━━━━━━\u001b[0m\u001b[37m\u001b[0m \u001b[1m82s\u001b[0m 1ms/step - accuracy: 0.9986 - loss: 0.0120 - val_accuracy: 0.9987 - val_loss: 0.0313\n",
      "Epoch 50/50\n",
      "\u001b[1m34995/34995\u001b[0m \u001b[32m━━━━━━━━━━━━━━━━━━━━\u001b[0m\u001b[37m\u001b[0m \u001b[1m42s\u001b[0m 1ms/step - accuracy: 0.9987 - loss: 0.0134 - val_accuracy: 0.9987 - val_loss: 0.0103\n"
     ]
    },
    {
     "data": {
      "text/plain": [
       "<keras.src.callbacks.history.History at 0x27ce5eaa810>"
      ]
     },
     "execution_count": 132,
     "metadata": {},
     "output_type": "execute_result"
    },
    {
     "name": "stdout",
     "output_type": "stream",
     "text": [
      "\u001b[1m9721/9721\u001b[0m \u001b[32m━━━━━━━━━━━━━━━━━━━━\u001b[0m\u001b[37m\u001b[0m \u001b[1m6s\u001b[0m 630us/step\n",
      "ROC AUC Score: 0.7291468890300783\n",
      "True Positive Rate (TPR): 0.7707808564231738\n",
      "True Negative Rate (TNR): 0.5959113777774917\n",
      "Geometric Mean (G-Mean): 0.6777293575725111\n",
      "              precision    recall  f1-score   support\n",
      "\n",
      "           0       1.00      0.60      0.75    310667\n",
      "           1       0.00      0.77      0.00       397\n",
      "\n",
      "    accuracy                           0.60    311064\n",
      "   macro avg       0.50      0.68      0.38    311064\n",
      "weighted avg       1.00      0.60      0.75    311064\n",
      "\n"
     ]
    }
   ],
   "source": [
    "keep_columns_1 = ['Tot_Sbmtd_Chrg', 'Tot_Mdcr_Pymt_Amt', \n",
    "                'Bene_Avg_Age', 'Bene_Avg_Risk_Scre']\n",
    "\n",
    "# Finding columns that start with the specified prefixes to drop\n",
    "keep_columns_2 = [col for col in df_prov.columns if col.startswith('Rndrng_Prvdr_Gndr_') or col.startswith('Rndrng_Prvdr_Type_')]\n",
    "\n",
    "# Ensure the columns to drop does not include any of the keep columns\n",
    "\n",
    "# Drop the identified columns and keep the explicitly listed ones\n",
    "X = df_prov[keep_columns_1+ keep_columns_2]\n",
    "y = df_prov['fraud']\n",
    "\n",
    "# Splitting data into training and testing\n",
    "X_train, X_test, y_train, y_test = train_test_split(X, y, test_size=0.2, random_state=42, stratify=y)\n",
    "\n",
    "# Normalizing the data\n",
    "scaler = StandardScaler()\n",
    "X_train_scaled = scaler.fit_transform(X_train)\n",
    "X_test_scaled = scaler.transform(X_test)\n",
    "\n",
    "# Building the neural network model\n",
    "model = Sequential([\n",
    "    Dense(32, input_dim=X_train_scaled.shape[1], activation='relu'),\n",
    "    Dropout(0.5),\n",
    "    Dense(32, activation='relu'),\n",
    "    Dropout(0.5),\n",
    "    Dense(1, activation='sigmoid')\n",
    "])\n",
    "\n",
    "# Compile the model\n",
    "model.compile(loss='binary_crossentropy', optimizer='adam', metrics=['accuracy'])\n",
    "\n",
    "# Train the model\n",
    "model.fit(X_train_scaled, y_train, epochs=50, batch_size=32, validation_split=0.1)\n",
    "\n",
    "# Predict probabilities for the test set\n",
    "predictions = model.predict(X_test_scaled)\n",
    "\n",
    "# Evaluate the model\n",
    "print(\"ROC AUC Score:\", roc_auc_score(y_test, predictions.flatten()))\n",
    "\n",
    "# Adjust threshold and compute binary outcomes\n",
    "threshold = 0.001\n",
    "predicted_classes = (predictions > threshold).astype(int)\n",
    "\n",
    "# Calculate and display the confusion matrix\n",
    "cm = confusion_matrix(y_test, predicted_classes)\n",
    "TN, FP, FN, TP = cm.ravel()\n",
    "\n",
    "# Calculate TPR and TNR\n",
    "TPR = TP / (TP + FN)  # True Positive Rate\n",
    "TNR = TN / (TN + FP)  # True Negative Rate\n",
    "\n",
    "# Calculate the G-Mean\n",
    "G_mean = np.sqrt(TPR * TNR)\n",
    "\n",
    "# Display TPR, TNR, and G-Mean\n",
    "print(\"True Positive Rate (TPR):\", TPR)\n",
    "print(\"True Negative Rate (TNR):\", TNR)\n",
    "print(\"Geometric Mean (G-Mean):\", G_mean)\n",
    "\n",
    "# Detailed classification report\n",
    "print(classification_report(y_test, predicted_classes))"
   ]
  },
  {
   "cell_type": "code",
   "execution_count": 137,
   "id": "8d7762dd-f669-4def-92fb-dcb69b9b005a",
   "metadata": {},
   "outputs": [
    {
     "name": "stdout",
     "output_type": "stream",
     "text": [
      "True Positive Rate (TPR): 0.6750629722921915\n",
      "True Negative Rate (TNR): 0.7104713406959864\n",
      "Geometric Mean (G-Mean): 0.692540897693884\n",
      "              precision    recall  f1-score   support\n",
      "\n",
      "           0       1.00      0.71      0.83    310667\n",
      "           1       0.00      0.68      0.01       397\n",
      "\n",
      "    accuracy                           0.71    311064\n",
      "   macro avg       0.50      0.69      0.42    311064\n",
      "weighted avg       1.00      0.71      0.83    311064\n",
      "\n"
     ]
    }
   ],
   "source": [
    "# Adjust threshold and compute binary outcomes\n",
    "threshold = 0.0017\n",
    "predicted_classes = (predictions > threshold).astype(int)\n",
    "\n",
    "# Calculate and display the confusion matrix\n",
    "cm = confusion_matrix(y_test, predicted_classes)\n",
    "TN, FP, FN, TP = cm.ravel()\n",
    "\n",
    "# Calculate TPR and TNR\n",
    "TPR = TP / (TP + FN)  # True Positive Rate\n",
    "TNR = TN / (TN + FP)  # True Negative Rate\n",
    "\n",
    "# Calculate the G-Mean\n",
    "G_mean = np.sqrt(TPR * TNR)\n",
    "\n",
    "# Display TPR, TNR, and G-Mean\n",
    "print(\"True Positive Rate (TPR):\", TPR)\n",
    "print(\"True Negative Rate (TNR):\", TNR)\n",
    "print(\"Geometric Mean (G-Mean):\", G_mean)\n",
    "\n",
    "# Detailed classification report\n",
    "print(classification_report(y_test, predicted_classes))"
   ]
  },
  {
   "cell_type": "code",
   "execution_count": null,
   "id": "1e545cbf-802c-4a2f-99e1-82c93bac4b4c",
   "metadata": {},
   "outputs": [],
   "source": []
  },
  {
   "cell_type": "code",
   "execution_count": 182,
   "id": "f9c7f536-16e7-4752-93df-90ae0eec1374",
   "metadata": {},
   "outputs": [
    {
     "data": {
      "text/html": [
       "<div>\n",
       "<style scoped>\n",
       "    .dataframe tbody tr th:only-of-type {\n",
       "        vertical-align: middle;\n",
       "    }\n",
       "\n",
       "    .dataframe tbody tr th {\n",
       "        vertical-align: top;\n",
       "    }\n",
       "\n",
       "    .dataframe thead th {\n",
       "        text-align: right;\n",
       "    }\n",
       "</style>\n",
       "<table border=\"1\" class=\"dataframe\">\n",
       "  <thead>\n",
       "    <tr style=\"text-align: right;\">\n",
       "      <th></th>\n",
       "      <th>Tot_Sbmtd_Chrg</th>\n",
       "      <th>Tot_Mdcr_Pymt_Amt</th>\n",
       "      <th>Bene_Avg_Age</th>\n",
       "      <th>Bene_Avg_Risk_Scre</th>\n",
       "      <th>Rndrng_Prvdr_Type_Addiction Medicine</th>\n",
       "      <th>Rndrng_Prvdr_Type_Adult Congenital Heart Disease</th>\n",
       "      <th>Rndrng_Prvdr_Type_Advanced Heart Failure and Transplant Cardiology</th>\n",
       "      <th>Rndrng_Prvdr_Type_Allergy/ Immunology</th>\n",
       "      <th>Rndrng_Prvdr_Type_Allergy/Immunology</th>\n",
       "      <th>Rndrng_Prvdr_Type_Ambulance Service Provider</th>\n",
       "      <th>...</th>\n",
       "      <th>Bene_Age_75_84_Cnt</th>\n",
       "      <th>Bene_Age_GT_84_Cnt</th>\n",
       "      <th>Bene_Feml_Cnt</th>\n",
       "      <th>Bene_Male_Cnt</th>\n",
       "      <th>Bene_Race_Wht_Cnt</th>\n",
       "      <th>Bene_Race_Black_Cnt</th>\n",
       "      <th>Bene_Race_API_Cnt</th>\n",
       "      <th>Bene_Race_Hspnc_Cnt</th>\n",
       "      <th>Bene_Race_NatInd_Cnt</th>\n",
       "      <th>Bene_Race_Othr_Cnt</th>\n",
       "    </tr>\n",
       "  </thead>\n",
       "  <tbody>\n",
       "    <tr>\n",
       "      <th>0</th>\n",
       "      <td>0.008300</td>\n",
       "      <td>0.011243</td>\n",
       "      <td>0.818182</td>\n",
       "      <td>0.126745</td>\n",
       "      <td>False</td>\n",
       "      <td>False</td>\n",
       "      <td>False</td>\n",
       "      <td>False</td>\n",
       "      <td>False</td>\n",
       "      <td>False</td>\n",
       "      <td>...</td>\n",
       "      <td>0.002278</td>\n",
       "      <td>0.004628</td>\n",
       "      <td>0.002211</td>\n",
       "      <td>0.002027</td>\n",
       "      <td>0.002428</td>\n",
       "      <td>0.003823</td>\n",
       "      <td>0.001406</td>\n",
       "      <td>0.000347</td>\n",
       "      <td>0.0</td>\n",
       "      <td>0.002313</td>\n",
       "    </tr>\n",
       "    <tr>\n",
       "      <th>1</th>\n",
       "      <td>0.018280</td>\n",
       "      <td>0.009873</td>\n",
       "      <td>0.795455</td>\n",
       "      <td>0.066812</td>\n",
       "      <td>False</td>\n",
       "      <td>False</td>\n",
       "      <td>False</td>\n",
       "      <td>False</td>\n",
       "      <td>False</td>\n",
       "      <td>False</td>\n",
       "      <td>...</td>\n",
       "      <td>0.011049</td>\n",
       "      <td>0.014122</td>\n",
       "      <td>0.009933</td>\n",
       "      <td>0.010875</td>\n",
       "      <td>0.015118</td>\n",
       "      <td>0.001290</td>\n",
       "      <td>0.001497</td>\n",
       "      <td>0.001164</td>\n",
       "      <td>0.0</td>\n",
       "      <td>0.010866</td>\n",
       "    </tr>\n",
       "    <tr>\n",
       "      <th>2</th>\n",
       "      <td>0.004761</td>\n",
       "      <td>0.004542</td>\n",
       "      <td>0.704545</td>\n",
       "      <td>0.101037</td>\n",
       "      <td>False</td>\n",
       "      <td>False</td>\n",
       "      <td>False</td>\n",
       "      <td>False</td>\n",
       "      <td>False</td>\n",
       "      <td>False</td>\n",
       "      <td>...</td>\n",
       "      <td>0.000480</td>\n",
       "      <td>0.000317</td>\n",
       "      <td>0.000860</td>\n",
       "      <td>0.000659</td>\n",
       "      <td>0.000885</td>\n",
       "      <td>0.002533</td>\n",
       "      <td>0.000000</td>\n",
       "      <td>0.000446</td>\n",
       "      <td>0.0</td>\n",
       "      <td>0.000771</td>\n",
       "    </tr>\n",
       "    <tr>\n",
       "      <th>3</th>\n",
       "      <td>0.000343</td>\n",
       "      <td>0.000327</td>\n",
       "      <td>0.681818</td>\n",
       "      <td>0.030203</td>\n",
       "      <td>False</td>\n",
       "      <td>False</td>\n",
       "      <td>False</td>\n",
       "      <td>False</td>\n",
       "      <td>False</td>\n",
       "      <td>False</td>\n",
       "      <td>...</td>\n",
       "      <td>0.000563</td>\n",
       "      <td>0.000846</td>\n",
       "      <td>0.000404</td>\n",
       "      <td>0.000000</td>\n",
       "      <td>0.000823</td>\n",
       "      <td>0.001151</td>\n",
       "      <td>0.000000</td>\n",
       "      <td>0.000446</td>\n",
       "      <td>0.0</td>\n",
       "      <td>0.000771</td>\n",
       "    </tr>\n",
       "    <tr>\n",
       "      <th>4</th>\n",
       "      <td>0.002910</td>\n",
       "      <td>0.001365</td>\n",
       "      <td>0.670455</td>\n",
       "      <td>0.128459</td>\n",
       "      <td>False</td>\n",
       "      <td>False</td>\n",
       "      <td>False</td>\n",
       "      <td>False</td>\n",
       "      <td>False</td>\n",
       "      <td>False</td>\n",
       "      <td>...</td>\n",
       "      <td>0.000563</td>\n",
       "      <td>0.000846</td>\n",
       "      <td>0.000374</td>\n",
       "      <td>0.000344</td>\n",
       "      <td>0.000425</td>\n",
       "      <td>0.001151</td>\n",
       "      <td>0.000000</td>\n",
       "      <td>0.000371</td>\n",
       "      <td>0.0</td>\n",
       "      <td>0.000771</td>\n",
       "    </tr>\n",
       "    <tr>\n",
       "      <th>...</th>\n",
       "      <td>...</td>\n",
       "      <td>...</td>\n",
       "      <td>...</td>\n",
       "      <td>...</td>\n",
       "      <td>...</td>\n",
       "      <td>...</td>\n",
       "      <td>...</td>\n",
       "      <td>...</td>\n",
       "      <td>...</td>\n",
       "      <td>...</td>\n",
       "      <td>...</td>\n",
       "      <td>...</td>\n",
       "      <td>...</td>\n",
       "      <td>...</td>\n",
       "      <td>...</td>\n",
       "      <td>...</td>\n",
       "      <td>...</td>\n",
       "      <td>...</td>\n",
       "      <td>...</td>\n",
       "      <td>...</td>\n",
       "      <td>...</td>\n",
       "    </tr>\n",
       "    <tr>\n",
       "      <th>1640057</th>\n",
       "      <td>0.000123</td>\n",
       "      <td>0.000167</td>\n",
       "      <td>0.704545</td>\n",
       "      <td>0.048379</td>\n",
       "      <td>False</td>\n",
       "      <td>False</td>\n",
       "      <td>False</td>\n",
       "      <td>False</td>\n",
       "      <td>False</td>\n",
       "      <td>False</td>\n",
       "      <td>...</td>\n",
       "      <td>0.000563</td>\n",
       "      <td>0.000846</td>\n",
       "      <td>0.000099</td>\n",
       "      <td>0.000115</td>\n",
       "      <td>0.000823</td>\n",
       "      <td>0.001151</td>\n",
       "      <td>0.000000</td>\n",
       "      <td>0.000446</td>\n",
       "      <td>0.0</td>\n",
       "      <td>0.000771</td>\n",
       "    </tr>\n",
       "    <tr>\n",
       "      <th>1640058</th>\n",
       "      <td>0.000464</td>\n",
       "      <td>0.000726</td>\n",
       "      <td>0.897727</td>\n",
       "      <td>0.128103</td>\n",
       "      <td>False</td>\n",
       "      <td>False</td>\n",
       "      <td>False</td>\n",
       "      <td>False</td>\n",
       "      <td>False</td>\n",
       "      <td>False</td>\n",
       "      <td>...</td>\n",
       "      <td>0.000563</td>\n",
       "      <td>0.000846</td>\n",
       "      <td>0.000497</td>\n",
       "      <td>0.000444</td>\n",
       "      <td>0.000823</td>\n",
       "      <td>0.001151</td>\n",
       "      <td>0.000000</td>\n",
       "      <td>0.000446</td>\n",
       "      <td>0.0</td>\n",
       "      <td>0.000771</td>\n",
       "    </tr>\n",
       "    <tr>\n",
       "      <th>1640059</th>\n",
       "      <td>0.001140</td>\n",
       "      <td>0.000534</td>\n",
       "      <td>0.750000</td>\n",
       "      <td>0.146254</td>\n",
       "      <td>False</td>\n",
       "      <td>False</td>\n",
       "      <td>False</td>\n",
       "      <td>False</td>\n",
       "      <td>False</td>\n",
       "      <td>False</td>\n",
       "      <td>...</td>\n",
       "      <td>0.000129</td>\n",
       "      <td>0.000846</td>\n",
       "      <td>0.000205</td>\n",
       "      <td>0.000115</td>\n",
       "      <td>0.000207</td>\n",
       "      <td>0.001151</td>\n",
       "      <td>0.000000</td>\n",
       "      <td>0.000446</td>\n",
       "      <td>0.0</td>\n",
       "      <td>0.000771</td>\n",
       "    </tr>\n",
       "    <tr>\n",
       "      <th>1640060</th>\n",
       "      <td>0.000187</td>\n",
       "      <td>0.000139</td>\n",
       "      <td>0.750000</td>\n",
       "      <td>0.061374</td>\n",
       "      <td>False</td>\n",
       "      <td>False</td>\n",
       "      <td>False</td>\n",
       "      <td>False</td>\n",
       "      <td>False</td>\n",
       "      <td>False</td>\n",
       "      <td>...</td>\n",
       "      <td>0.000563</td>\n",
       "      <td>0.000846</td>\n",
       "      <td>0.000175</td>\n",
       "      <td>0.000215</td>\n",
       "      <td>0.000823</td>\n",
       "      <td>0.001151</td>\n",
       "      <td>0.001089</td>\n",
       "      <td>0.000000</td>\n",
       "      <td>0.0</td>\n",
       "      <td>0.000771</td>\n",
       "    </tr>\n",
       "    <tr>\n",
       "      <th>1640061</th>\n",
       "      <td>0.000295</td>\n",
       "      <td>0.000177</td>\n",
       "      <td>0.647727</td>\n",
       "      <td>0.114330</td>\n",
       "      <td>False</td>\n",
       "      <td>False</td>\n",
       "      <td>False</td>\n",
       "      <td>False</td>\n",
       "      <td>False</td>\n",
       "      <td>False</td>\n",
       "      <td>...</td>\n",
       "      <td>0.000563</td>\n",
       "      <td>0.000846</td>\n",
       "      <td>0.000158</td>\n",
       "      <td>0.000150</td>\n",
       "      <td>0.000823</td>\n",
       "      <td>0.001151</td>\n",
       "      <td>0.000000</td>\n",
       "      <td>0.000916</td>\n",
       "      <td>0.0</td>\n",
       "      <td>0.000000</td>\n",
       "    </tr>\n",
       "  </tbody>\n",
       "</table>\n",
       "<p>1555318 rows × 137 columns</p>\n",
       "</div>"
      ],
      "text/plain": [
       "         Tot_Sbmtd_Chrg  Tot_Mdcr_Pymt_Amt  Bene_Avg_Age  Bene_Avg_Risk_Scre  \\\n",
       "0              0.008300           0.011243      0.818182            0.126745   \n",
       "1              0.018280           0.009873      0.795455            0.066812   \n",
       "2              0.004761           0.004542      0.704545            0.101037   \n",
       "3              0.000343           0.000327      0.681818            0.030203   \n",
       "4              0.002910           0.001365      0.670455            0.128459   \n",
       "...                 ...                ...           ...                 ...   \n",
       "1640057        0.000123           0.000167      0.704545            0.048379   \n",
       "1640058        0.000464           0.000726      0.897727            0.128103   \n",
       "1640059        0.001140           0.000534      0.750000            0.146254   \n",
       "1640060        0.000187           0.000139      0.750000            0.061374   \n",
       "1640061        0.000295           0.000177      0.647727            0.114330   \n",
       "\n",
       "         Rndrng_Prvdr_Type_Addiction Medicine  \\\n",
       "0                                       False   \n",
       "1                                       False   \n",
       "2                                       False   \n",
       "3                                       False   \n",
       "4                                       False   \n",
       "...                                       ...   \n",
       "1640057                                 False   \n",
       "1640058                                 False   \n",
       "1640059                                 False   \n",
       "1640060                                 False   \n",
       "1640061                                 False   \n",
       "\n",
       "         Rndrng_Prvdr_Type_Adult Congenital Heart Disease  \\\n",
       "0                                                   False   \n",
       "1                                                   False   \n",
       "2                                                   False   \n",
       "3                                                   False   \n",
       "4                                                   False   \n",
       "...                                                   ...   \n",
       "1640057                                             False   \n",
       "1640058                                             False   \n",
       "1640059                                             False   \n",
       "1640060                                             False   \n",
       "1640061                                             False   \n",
       "\n",
       "         Rndrng_Prvdr_Type_Advanced Heart Failure and Transplant Cardiology  \\\n",
       "0                                                    False                    \n",
       "1                                                    False                    \n",
       "2                                                    False                    \n",
       "3                                                    False                    \n",
       "4                                                    False                    \n",
       "...                                                    ...                    \n",
       "1640057                                              False                    \n",
       "1640058                                              False                    \n",
       "1640059                                              False                    \n",
       "1640060                                              False                    \n",
       "1640061                                              False                    \n",
       "\n",
       "         Rndrng_Prvdr_Type_Allergy/ Immunology  \\\n",
       "0                                        False   \n",
       "1                                        False   \n",
       "2                                        False   \n",
       "3                                        False   \n",
       "4                                        False   \n",
       "...                                        ...   \n",
       "1640057                                  False   \n",
       "1640058                                  False   \n",
       "1640059                                  False   \n",
       "1640060                                  False   \n",
       "1640061                                  False   \n",
       "\n",
       "         Rndrng_Prvdr_Type_Allergy/Immunology  \\\n",
       "0                                       False   \n",
       "1                                       False   \n",
       "2                                       False   \n",
       "3                                       False   \n",
       "4                                       False   \n",
       "...                                       ...   \n",
       "1640057                                 False   \n",
       "1640058                                 False   \n",
       "1640059                                 False   \n",
       "1640060                                 False   \n",
       "1640061                                 False   \n",
       "\n",
       "         Rndrng_Prvdr_Type_Ambulance Service Provider  ...  \\\n",
       "0                                               False  ...   \n",
       "1                                               False  ...   \n",
       "2                                               False  ...   \n",
       "3                                               False  ...   \n",
       "4                                               False  ...   \n",
       "...                                               ...  ...   \n",
       "1640057                                         False  ...   \n",
       "1640058                                         False  ...   \n",
       "1640059                                         False  ...   \n",
       "1640060                                         False  ...   \n",
       "1640061                                         False  ...   \n",
       "\n",
       "         Bene_Age_75_84_Cnt  Bene_Age_GT_84_Cnt  Bene_Feml_Cnt  Bene_Male_Cnt  \\\n",
       "0                  0.002278            0.004628       0.002211       0.002027   \n",
       "1                  0.011049            0.014122       0.009933       0.010875   \n",
       "2                  0.000480            0.000317       0.000860       0.000659   \n",
       "3                  0.000563            0.000846       0.000404       0.000000   \n",
       "4                  0.000563            0.000846       0.000374       0.000344   \n",
       "...                     ...                 ...            ...            ...   \n",
       "1640057            0.000563            0.000846       0.000099       0.000115   \n",
       "1640058            0.000563            0.000846       0.000497       0.000444   \n",
       "1640059            0.000129            0.000846       0.000205       0.000115   \n",
       "1640060            0.000563            0.000846       0.000175       0.000215   \n",
       "1640061            0.000563            0.000846       0.000158       0.000150   \n",
       "\n",
       "         Bene_Race_Wht_Cnt  Bene_Race_Black_Cnt  Bene_Race_API_Cnt  \\\n",
       "0                 0.002428             0.003823           0.001406   \n",
       "1                 0.015118             0.001290           0.001497   \n",
       "2                 0.000885             0.002533           0.000000   \n",
       "3                 0.000823             0.001151           0.000000   \n",
       "4                 0.000425             0.001151           0.000000   \n",
       "...                    ...                  ...                ...   \n",
       "1640057           0.000823             0.001151           0.000000   \n",
       "1640058           0.000823             0.001151           0.000000   \n",
       "1640059           0.000207             0.001151           0.000000   \n",
       "1640060           0.000823             0.001151           0.001089   \n",
       "1640061           0.000823             0.001151           0.000000   \n",
       "\n",
       "         Bene_Race_Hspnc_Cnt  Bene_Race_NatInd_Cnt  Bene_Race_Othr_Cnt  \n",
       "0                   0.000347                   0.0            0.002313  \n",
       "1                   0.001164                   0.0            0.010866  \n",
       "2                   0.000446                   0.0            0.000771  \n",
       "3                   0.000446                   0.0            0.000771  \n",
       "4                   0.000371                   0.0            0.000771  \n",
       "...                      ...                   ...                 ...  \n",
       "1640057             0.000446                   0.0            0.000771  \n",
       "1640058             0.000446                   0.0            0.000771  \n",
       "1640059             0.000446                   0.0            0.000771  \n",
       "1640060             0.000000                   0.0            0.000771  \n",
       "1640061             0.000916                   0.0            0.000000  \n",
       "\n",
       "[1555318 rows x 137 columns]"
      ]
     },
     "execution_count": 182,
     "metadata": {},
     "output_type": "execute_result"
    }
   ],
   "source": [
    "\n",
    "features_ben_1 = [\n",
    "        'Bene_Age_LT_65_Cnt', 'Bene_Age_65_74_Cnt', 'Bene_Age_75_84_Cnt', 'Bene_Age_GT_84_Cnt',\n",
    "        'Bene_Feml_Cnt', 'Bene_Male_Cnt', 'Bene_Race_Wht_Cnt', 'Bene_Race_Black_Cnt', 'Bene_Race_API_Cnt', \n",
    "        'Bene_Race_Hspnc_Cnt', 'Bene_Race_NatInd_Cnt', 'Bene_Race_Othr_Cnt',\n",
    "]\n",
    "keep_columns_1 = ['Tot_Sbmtd_Chrg', 'Tot_Mdcr_Pymt_Amt', \n",
    "                'Bene_Avg_Age', 'Bene_Avg_Risk_Scre']\n",
    "\n",
    "# Finding columns that start with the specified prefixes to drop\n",
    "keep_columns_2 = [col for col in df_prov.columns if col.startswith('Rndrng_Prvdr_Gndr_') or col.startswith('Rndrng_Prvdr_Type_')]\n",
    "\n",
    "# Ensure the columns to drop does not include any of the keep columns\n",
    "\n",
    "# Drop the identified columns and keep the explicitly listed ones\n",
    "X = df_prov[keep_columns_1+ keep_columns_2 + features_ben_1]\n",
    "y = df_prov['fraud']\n",
    "X"
   ]
  },
  {
   "cell_type": "code",
   "execution_count": 184,
   "id": "d6693327-c94e-46ed-959c-03bd7f7f6a99",
   "metadata": {},
   "outputs": [
    {
     "name": "stderr",
     "output_type": "stream",
     "text": [
      "C:\\Users\\temir\\anaconda3\\Lib\\site-packages\\keras\\src\\layers\\core\\dense.py:86: UserWarning: Do not pass an `input_shape`/`input_dim` argument to a layer. When using Sequential models, prefer using an `Input(shape)` object as the first layer in the model instead.\n",
      "  super().__init__(activity_regularizer=activity_regularizer, **kwargs)\n"
     ]
    },
    {
     "name": "stdout",
     "output_type": "stream",
     "text": [
      "Epoch 1/10\n",
      "\u001b[1m34995/34995\u001b[0m \u001b[32m━━━━━━━━━━━━━━━━━━━━\u001b[0m\u001b[37m\u001b[0m \u001b[1m44s\u001b[0m 1ms/step - accuracy: 0.9978 - loss: 0.0164 - val_accuracy: 0.9987 - val_loss: 0.0096\n",
      "Epoch 2/10\n",
      "\u001b[1m34995/34995\u001b[0m \u001b[32m━━━━━━━━━━━━━━━━━━━━\u001b[0m\u001b[37m\u001b[0m \u001b[1m78s\u001b[0m 1ms/step - accuracy: 0.9987 - loss: 0.0100 - val_accuracy: 0.9987 - val_loss: 0.0096\n",
      "Epoch 3/10\n",
      "\u001b[1m34995/34995\u001b[0m \u001b[32m━━━━━━━━━━━━━━━━━━━━\u001b[0m\u001b[37m\u001b[0m \u001b[1m45s\u001b[0m 1ms/step - accuracy: 0.9987 - loss: 0.0099 - val_accuracy: 0.9987 - val_loss: 0.0096\n",
      "Epoch 4/10\n",
      "\u001b[1m34995/34995\u001b[0m \u001b[32m━━━━━━━━━━━━━━━━━━━━\u001b[0m\u001b[37m\u001b[0m \u001b[1m46s\u001b[0m 1ms/step - accuracy: 0.9987 - loss: 0.0099 - val_accuracy: 0.9987 - val_loss: 0.0097\n",
      "Epoch 5/10\n",
      "\u001b[1m34995/34995\u001b[0m \u001b[32m━━━━━━━━━━━━━━━━━━━━\u001b[0m\u001b[37m\u001b[0m \u001b[1m45s\u001b[0m 1ms/step - accuracy: 0.9987 - loss: 0.0098 - val_accuracy: 0.9987 - val_loss: 0.0096\n",
      "Epoch 6/10\n",
      "\u001b[1m34995/34995\u001b[0m \u001b[32m━━━━━━━━━━━━━━━━━━━━\u001b[0m\u001b[37m\u001b[0m \u001b[1m45s\u001b[0m 1ms/step - accuracy: 0.9987 - loss: 0.0100 - val_accuracy: 0.9987 - val_loss: 0.0102\n",
      "Epoch 7/10\n",
      "\u001b[1m34995/34995\u001b[0m \u001b[32m━━━━━━━━━━━━━━━━━━━━\u001b[0m\u001b[37m\u001b[0m \u001b[1m46s\u001b[0m 1ms/step - accuracy: 0.9987 - loss: 0.0100 - val_accuracy: 0.9987 - val_loss: 0.0100\n",
      "Epoch 8/10\n",
      "\u001b[1m34995/34995\u001b[0m \u001b[32m━━━━━━━━━━━━━━━━━━━━\u001b[0m\u001b[37m\u001b[0m \u001b[1m81s\u001b[0m 1ms/step - accuracy: 0.9987 - loss: 0.0104 - val_accuracy: 0.9987 - val_loss: 0.0103\n",
      "Epoch 9/10\n",
      "\u001b[1m34995/34995\u001b[0m \u001b[32m━━━━━━━━━━━━━━━━━━━━\u001b[0m\u001b[37m\u001b[0m \u001b[1m45s\u001b[0m 1ms/step - accuracy: 0.9987 - loss: 0.0105 - val_accuracy: 0.9987 - val_loss: 0.0103\n",
      "Epoch 10/10\n",
      "\u001b[1m34995/34995\u001b[0m \u001b[32m━━━━━━━━━━━━━━━━━━━━\u001b[0m\u001b[37m\u001b[0m \u001b[1m45s\u001b[0m 1ms/step - accuracy: 0.9986 - loss: 0.0104 - val_accuracy: 0.9987 - val_loss: 0.0100\n"
     ]
    },
    {
     "data": {
      "text/plain": [
       "<keras.src.callbacks.history.History at 0x27cbe878990>"
      ]
     },
     "execution_count": 184,
     "metadata": {},
     "output_type": "execute_result"
    },
    {
     "name": "stdout",
     "output_type": "stream",
     "text": [
      "\u001b[1m9721/9721\u001b[0m \u001b[32m━━━━━━━━━━━━━━━━━━━━\u001b[0m\u001b[37m\u001b[0m \u001b[1m7s\u001b[0m 762us/step\n",
      "ROC AUC Score: 0.735767668458275\n",
      "True Positive Rate (TPR): 0.7531486146095718\n",
      "True Negative Rate (TNR): 0.6040165192955802\n",
      "Geometric Mean (G-Mean): 0.6744732794623979\n",
      "              precision    recall  f1-score   support\n",
      "\n",
      "           0       1.00      0.60      0.75    310667\n",
      "           1       0.00      0.75      0.00       397\n",
      "\n",
      "    accuracy                           0.60    311064\n",
      "   macro avg       0.50      0.68      0.38    311064\n",
      "weighted avg       1.00      0.60      0.75    311064\n",
      "\n"
     ]
    }
   ],
   "source": [
    "# List of columns you want to explicitly keep\n",
    "\n",
    "features_ben_1 = [\n",
    "        'Bene_Age_LT_65_Cnt', 'Bene_Age_65_74_Cnt', 'Bene_Age_75_84_Cnt', 'Bene_Age_GT_84_Cnt',\n",
    "        'Bene_Feml_Cnt', 'Bene_Male_Cnt', 'Bene_Race_Wht_Cnt', 'Bene_Race_Black_Cnt', 'Bene_Race_API_Cnt', \n",
    "        'Bene_Race_Hspnc_Cnt', 'Bene_Race_NatInd_Cnt', 'Bene_Race_Othr_Cnt',\n",
    "]\n",
    "keep_columns_1 = ['Tot_Sbmtd_Chrg', 'Tot_Mdcr_Pymt_Amt', \n",
    "                'Bene_Avg_Age', 'Bene_Avg_Risk_Scre']\n",
    "\n",
    "# Finding columns that start with the specified prefixes to drop\n",
    "keep_columns_2 = [col for col in df_prov.columns if col.startswith('Rndrng_Prvdr_Gndr_') or col.startswith('Rndrng_Prvdr_Type_')]\n",
    "\n",
    "# Ensure the columns to drop does not include any of the keep columns\n",
    "\n",
    "# Drop the identified columns and keep the explicitly listed ones\n",
    "X = df_prov[keep_columns_1+ keep_columns_2 + features_ben_1]\n",
    "y = df_prov['fraud']\n",
    "\n",
    "# Splitting data into training and testing\n",
    "X_train, X_test, y_train, y_test = train_test_split(X, y, test_size=0.2, random_state=42, stratify=y)\n",
    "\n",
    "# Normalizing the data\n",
    "scaler = StandardScaler()\n",
    "X_train_scaled = scaler.fit_transform(X_train)\n",
    "X_test_scaled = scaler.transform(X_test)\n",
    "\n",
    "# Building the neural network model\n",
    "model = Sequential([\n",
    "    Dense(32, input_dim=X_train_scaled.shape[1], activation='relu'),\n",
    "    Dropout(0.5),\n",
    "    Dense(32, activation='relu'),\n",
    "    Dropout(0.5),\n",
    "    Dense(1, activation='sigmoid')\n",
    "])\n",
    "\n",
    "# Compile the model\n",
    "model.compile(loss='binary_crossentropy', optimizer='adam', metrics=['accuracy'])\n",
    "\n",
    "# Train the model\n",
    "model.fit(X_train_scaled, y_train, epochs=10, batch_size=32, validation_split=0.1)\n",
    "\n",
    "# Predict probabilities for the test set\n",
    "predictions = model.predict(X_test_scaled)\n",
    "\n",
    "# Evaluate the model\n",
    "print(\"ROC AUC Score:\", roc_auc_score(y_test, predictions.flatten()))\n",
    "\n",
    "# Adjust threshold and compute binary outcomes\n",
    "threshold = 0.001\n",
    "predicted_classes = (predictions > threshold).astype(int)\n",
    "\n",
    "# Calculate and display the confusion matrix\n",
    "cm = confusion_matrix(y_test, predicted_classes)\n",
    "TN, FP, FN, TP = cm.ravel()\n",
    "\n",
    "# Calculate TPR and TNR\n",
    "TPR = TP / (TP + FN)  # True Positive Rate\n",
    "TNR = TN / (TN + FP)  # True Negative Rate\n",
    "\n",
    "# Calculate the G-Mean\n",
    "G_mean = np.sqrt(TPR * TNR)\n",
    "\n",
    "# Display TPR, TNR, and G-Mean\n",
    "print(\"True Positive Rate (TPR):\", TPR)\n",
    "print(\"True Negative Rate (TNR):\", TNR)\n",
    "print(\"Geometric Mean (G-Mean):\", G_mean)\n",
    "\n",
    "# Detailed classification report\n",
    "print(classification_report(y_test, predicted_classes))"
   ]
  },
  {
   "cell_type": "code",
   "execution_count": 161,
   "id": "5d28712a-118f-4615-a703-ddc19e31f60e",
   "metadata": {},
   "outputs": [
    {
     "name": "stdout",
     "output_type": "stream",
     "text": [
      "True Positive Rate (TPR): 0.7329974811083123\n",
      "True Negative Rate (TNR): 0.628747179455816\n",
      "Geometric Mean (G-Mean): 0.678874140614495\n",
      "              precision    recall  f1-score   support\n",
      "\n",
      "           0       1.00      0.63      0.77    310667\n",
      "           1       0.00      0.73      0.01       397\n",
      "\n",
      "    accuracy                           0.63    311064\n",
      "   macro avg       0.50      0.68      0.39    311064\n",
      "weighted avg       1.00      0.63      0.77    311064\n",
      "\n"
     ]
    }
   ],
   "source": [
    "# Adjust threshold and compute binary outcomes\n",
    "threshold = 0.0015\n",
    "predicted_classes = (predictions > threshold).astype(int)\n",
    "\n",
    "# Calculate and display the confusion matrix\n",
    "cm = confusion_matrix(y_test, predicted_classes)\n",
    "TN, FP, FN, TP = cm.ravel()\n",
    "\n",
    "# Calculate TPR and TNR\n",
    "TPR = TP / (TP + FN)  # True Positive Rate\n",
    "TNR = TN / (TN + FP)  # True Negative Rate\n",
    "\n",
    "# Calculate the G-Mean\n",
    "G_mean = np.sqrt(TPR * TNR)\n",
    "\n",
    "# Display TPR, TNR, and G-Mean\n",
    "print(\"True Positive Rate (TPR):\", TPR)\n",
    "print(\"True Negative Rate (TNR):\", TNR)\n",
    "print(\"Geometric Mean (G-Mean):\", G_mean)\n",
    "\n",
    "# Detailed classification report\n",
    "print(classification_report(y_test, predicted_classes))"
   ]
  },
  {
   "cell_type": "code",
   "execution_count": null,
   "id": "ff71e5ec-e74f-40d8-811a-131fc46b89d2",
   "metadata": {},
   "outputs": [],
   "source": []
  },
  {
   "cell_type": "code",
   "execution_count": null,
   "id": "64487a16-88ec-4eda-96ff-d61a15ee7eb6",
   "metadata": {},
   "outputs": [],
   "source": []
  },
  {
   "cell_type": "code",
   "execution_count": 185,
   "id": "f66e59cf-0d97-4699-8aa1-2c9bd9d0545c",
   "metadata": {},
   "outputs": [
    {
     "data": {
      "text/html": [
       "<div>\n",
       "<style scoped>\n",
       "    .dataframe tbody tr th:only-of-type {\n",
       "        vertical-align: middle;\n",
       "    }\n",
       "\n",
       "    .dataframe tbody tr th {\n",
       "        vertical-align: top;\n",
       "    }\n",
       "\n",
       "    .dataframe thead th {\n",
       "        text-align: right;\n",
       "    }\n",
       "</style>\n",
       "<table border=\"1\" class=\"dataframe\">\n",
       "  <thead>\n",
       "    <tr style=\"text-align: right;\">\n",
       "      <th></th>\n",
       "      <th>Tot_Sbmtd_Chrg</th>\n",
       "      <th>Tot_Mdcr_Pymt_Amt</th>\n",
       "      <th>Bene_Avg_Age</th>\n",
       "      <th>Bene_Avg_Risk_Scre</th>\n",
       "      <th>Rndrng_Prvdr_Type_Addiction Medicine</th>\n",
       "      <th>Rndrng_Prvdr_Type_Adult Congenital Heart Disease</th>\n",
       "      <th>Rndrng_Prvdr_Type_Advanced Heart Failure and Transplant Cardiology</th>\n",
       "      <th>Rndrng_Prvdr_Type_Allergy/ Immunology</th>\n",
       "      <th>Rndrng_Prvdr_Type_Allergy/Immunology</th>\n",
       "      <th>Rndrng_Prvdr_Type_Ambulance Service Provider</th>\n",
       "      <th>...</th>\n",
       "      <th>Bene_CC_COPD_Pct</th>\n",
       "      <th>Bene_CC_Dprssn_Pct</th>\n",
       "      <th>Bene_CC_Dbts_Pct</th>\n",
       "      <th>Bene_CC_Hyplpdma_Pct</th>\n",
       "      <th>Bene_CC_Hyprtnsn_Pct</th>\n",
       "      <th>Bene_CC_IHD_Pct</th>\n",
       "      <th>Bene_CC_Opo_Pct</th>\n",
       "      <th>Bene_CC_RAOA_Pct</th>\n",
       "      <th>Bene_CC_Sz_Pct</th>\n",
       "      <th>Bene_CC_Strok_Pct</th>\n",
       "    </tr>\n",
       "  </thead>\n",
       "  <tbody>\n",
       "    <tr>\n",
       "      <th>0</th>\n",
       "      <td>0.008300</td>\n",
       "      <td>0.011243</td>\n",
       "      <td>0.818182</td>\n",
       "      <td>0.126745</td>\n",
       "      <td>False</td>\n",
       "      <td>False</td>\n",
       "      <td>False</td>\n",
       "      <td>False</td>\n",
       "      <td>False</td>\n",
       "      <td>False</td>\n",
       "      <td>...</td>\n",
       "      <td>0.320000</td>\n",
       "      <td>0.493333</td>\n",
       "      <td>0.586667</td>\n",
       "      <td>1.000000</td>\n",
       "      <td>1.000000</td>\n",
       "      <td>0.826667</td>\n",
       "      <td>0.146667</td>\n",
       "      <td>0.773333</td>\n",
       "      <td>0.080000</td>\n",
       "      <td>0.186667</td>\n",
       "    </tr>\n",
       "    <tr>\n",
       "      <th>1</th>\n",
       "      <td>0.018280</td>\n",
       "      <td>0.009873</td>\n",
       "      <td>0.795455</td>\n",
       "      <td>0.066812</td>\n",
       "      <td>False</td>\n",
       "      <td>False</td>\n",
       "      <td>False</td>\n",
       "      <td>False</td>\n",
       "      <td>False</td>\n",
       "      <td>False</td>\n",
       "      <td>...</td>\n",
       "      <td>0.080000</td>\n",
       "      <td>0.200000</td>\n",
       "      <td>0.266667</td>\n",
       "      <td>0.693333</td>\n",
       "      <td>0.680000</td>\n",
       "      <td>0.320000</td>\n",
       "      <td>0.146667</td>\n",
       "      <td>0.506667</td>\n",
       "      <td>0.013333</td>\n",
       "      <td>0.040000</td>\n",
       "    </tr>\n",
       "    <tr>\n",
       "      <th>2</th>\n",
       "      <td>0.004761</td>\n",
       "      <td>0.004542</td>\n",
       "      <td>0.704545</td>\n",
       "      <td>0.101037</td>\n",
       "      <td>False</td>\n",
       "      <td>False</td>\n",
       "      <td>False</td>\n",
       "      <td>False</td>\n",
       "      <td>False</td>\n",
       "      <td>False</td>\n",
       "      <td>...</td>\n",
       "      <td>0.280000</td>\n",
       "      <td>0.520000</td>\n",
       "      <td>0.506667</td>\n",
       "      <td>0.773333</td>\n",
       "      <td>0.933333</td>\n",
       "      <td>0.440000</td>\n",
       "      <td>0.120000</td>\n",
       "      <td>1.000000</td>\n",
       "      <td>0.013333</td>\n",
       "      <td>0.080000</td>\n",
       "    </tr>\n",
       "    <tr>\n",
       "      <th>3</th>\n",
       "      <td>0.000343</td>\n",
       "      <td>0.000327</td>\n",
       "      <td>0.681818</td>\n",
       "      <td>0.030203</td>\n",
       "      <td>False</td>\n",
       "      <td>False</td>\n",
       "      <td>False</td>\n",
       "      <td>False</td>\n",
       "      <td>False</td>\n",
       "      <td>False</td>\n",
       "      <td>...</td>\n",
       "      <td>0.240000</td>\n",
       "      <td>0.373333</td>\n",
       "      <td>0.226667</td>\n",
       "      <td>0.733333</td>\n",
       "      <td>0.613333</td>\n",
       "      <td>0.213333</td>\n",
       "      <td>0.226667</td>\n",
       "      <td>0.506667</td>\n",
       "      <td>0.013333</td>\n",
       "      <td>0.080000</td>\n",
       "    </tr>\n",
       "    <tr>\n",
       "      <th>4</th>\n",
       "      <td>0.002910</td>\n",
       "      <td>0.001365</td>\n",
       "      <td>0.670455</td>\n",
       "      <td>0.128459</td>\n",
       "      <td>False</td>\n",
       "      <td>False</td>\n",
       "      <td>False</td>\n",
       "      <td>False</td>\n",
       "      <td>False</td>\n",
       "      <td>False</td>\n",
       "      <td>...</td>\n",
       "      <td>0.173333</td>\n",
       "      <td>0.426667</td>\n",
       "      <td>0.533333</td>\n",
       "      <td>0.640000</td>\n",
       "      <td>0.866667</td>\n",
       "      <td>0.413333</td>\n",
       "      <td>0.160000</td>\n",
       "      <td>0.786667</td>\n",
       "      <td>0.013333</td>\n",
       "      <td>0.080000</td>\n",
       "    </tr>\n",
       "    <tr>\n",
       "      <th>...</th>\n",
       "      <td>...</td>\n",
       "      <td>...</td>\n",
       "      <td>...</td>\n",
       "      <td>...</td>\n",
       "      <td>...</td>\n",
       "      <td>...</td>\n",
       "      <td>...</td>\n",
       "      <td>...</td>\n",
       "      <td>...</td>\n",
       "      <td>...</td>\n",
       "      <td>...</td>\n",
       "      <td>...</td>\n",
       "      <td>...</td>\n",
       "      <td>...</td>\n",
       "      <td>...</td>\n",
       "      <td>...</td>\n",
       "      <td>...</td>\n",
       "      <td>...</td>\n",
       "      <td>...</td>\n",
       "      <td>...</td>\n",
       "      <td>...</td>\n",
       "    </tr>\n",
       "    <tr>\n",
       "      <th>1640057</th>\n",
       "      <td>0.000123</td>\n",
       "      <td>0.000167</td>\n",
       "      <td>0.704545</td>\n",
       "      <td>0.048379</td>\n",
       "      <td>False</td>\n",
       "      <td>False</td>\n",
       "      <td>False</td>\n",
       "      <td>False</td>\n",
       "      <td>False</td>\n",
       "      <td>False</td>\n",
       "      <td>...</td>\n",
       "      <td>0.240000</td>\n",
       "      <td>0.400000</td>\n",
       "      <td>0.466667</td>\n",
       "      <td>0.693333</td>\n",
       "      <td>0.440000</td>\n",
       "      <td>0.506667</td>\n",
       "      <td>0.000000</td>\n",
       "      <td>0.440000</td>\n",
       "      <td>0.000000</td>\n",
       "      <td>0.080000</td>\n",
       "    </tr>\n",
       "    <tr>\n",
       "      <th>1640058</th>\n",
       "      <td>0.000464</td>\n",
       "      <td>0.000726</td>\n",
       "      <td>0.897727</td>\n",
       "      <td>0.128103</td>\n",
       "      <td>False</td>\n",
       "      <td>False</td>\n",
       "      <td>False</td>\n",
       "      <td>False</td>\n",
       "      <td>False</td>\n",
       "      <td>False</td>\n",
       "      <td>...</td>\n",
       "      <td>0.240000</td>\n",
       "      <td>0.400000</td>\n",
       "      <td>0.466667</td>\n",
       "      <td>0.853333</td>\n",
       "      <td>0.973333</td>\n",
       "      <td>0.506667</td>\n",
       "      <td>0.146667</td>\n",
       "      <td>0.666667</td>\n",
       "      <td>0.013333</td>\n",
       "      <td>0.080000</td>\n",
       "    </tr>\n",
       "    <tr>\n",
       "      <th>1640059</th>\n",
       "      <td>0.001140</td>\n",
       "      <td>0.000534</td>\n",
       "      <td>0.750000</td>\n",
       "      <td>0.146254</td>\n",
       "      <td>False</td>\n",
       "      <td>False</td>\n",
       "      <td>False</td>\n",
       "      <td>False</td>\n",
       "      <td>False</td>\n",
       "      <td>False</td>\n",
       "      <td>...</td>\n",
       "      <td>0.360000</td>\n",
       "      <td>0.320000</td>\n",
       "      <td>0.440000</td>\n",
       "      <td>0.706667</td>\n",
       "      <td>0.920000</td>\n",
       "      <td>0.520000</td>\n",
       "      <td>0.146667</td>\n",
       "      <td>0.626667</td>\n",
       "      <td>0.013333</td>\n",
       "      <td>0.080000</td>\n",
       "    </tr>\n",
       "    <tr>\n",
       "      <th>1640060</th>\n",
       "      <td>0.000187</td>\n",
       "      <td>0.000139</td>\n",
       "      <td>0.750000</td>\n",
       "      <td>0.061374</td>\n",
       "      <td>False</td>\n",
       "      <td>False</td>\n",
       "      <td>False</td>\n",
       "      <td>False</td>\n",
       "      <td>False</td>\n",
       "      <td>False</td>\n",
       "      <td>...</td>\n",
       "      <td>0.240000</td>\n",
       "      <td>0.400000</td>\n",
       "      <td>0.706667</td>\n",
       "      <td>0.626667</td>\n",
       "      <td>1.000000</td>\n",
       "      <td>0.506667</td>\n",
       "      <td>0.146667</td>\n",
       "      <td>0.706667</td>\n",
       "      <td>0.013333</td>\n",
       "      <td>0.080000</td>\n",
       "    </tr>\n",
       "    <tr>\n",
       "      <th>1640061</th>\n",
       "      <td>0.000295</td>\n",
       "      <td>0.000177</td>\n",
       "      <td>0.647727</td>\n",
       "      <td>0.114330</td>\n",
       "      <td>False</td>\n",
       "      <td>False</td>\n",
       "      <td>False</td>\n",
       "      <td>False</td>\n",
       "      <td>False</td>\n",
       "      <td>False</td>\n",
       "      <td>...</td>\n",
       "      <td>0.240000</td>\n",
       "      <td>0.386667</td>\n",
       "      <td>1.000000</td>\n",
       "      <td>0.946667</td>\n",
       "      <td>1.000000</td>\n",
       "      <td>0.640000</td>\n",
       "      <td>0.146667</td>\n",
       "      <td>0.840000</td>\n",
       "      <td>0.013333</td>\n",
       "      <td>0.080000</td>\n",
       "    </tr>\n",
       "  </tbody>\n",
       "</table>\n",
       "<p>1555318 rows × 141 columns</p>\n",
       "</div>"
      ],
      "text/plain": [
       "         Tot_Sbmtd_Chrg  Tot_Mdcr_Pymt_Amt  Bene_Avg_Age  Bene_Avg_Risk_Scre  \\\n",
       "0              0.008300           0.011243      0.818182            0.126745   \n",
       "1              0.018280           0.009873      0.795455            0.066812   \n",
       "2              0.004761           0.004542      0.704545            0.101037   \n",
       "3              0.000343           0.000327      0.681818            0.030203   \n",
       "4              0.002910           0.001365      0.670455            0.128459   \n",
       "...                 ...                ...           ...                 ...   \n",
       "1640057        0.000123           0.000167      0.704545            0.048379   \n",
       "1640058        0.000464           0.000726      0.897727            0.128103   \n",
       "1640059        0.001140           0.000534      0.750000            0.146254   \n",
       "1640060        0.000187           0.000139      0.750000            0.061374   \n",
       "1640061        0.000295           0.000177      0.647727            0.114330   \n",
       "\n",
       "         Rndrng_Prvdr_Type_Addiction Medicine  \\\n",
       "0                                       False   \n",
       "1                                       False   \n",
       "2                                       False   \n",
       "3                                       False   \n",
       "4                                       False   \n",
       "...                                       ...   \n",
       "1640057                                 False   \n",
       "1640058                                 False   \n",
       "1640059                                 False   \n",
       "1640060                                 False   \n",
       "1640061                                 False   \n",
       "\n",
       "         Rndrng_Prvdr_Type_Adult Congenital Heart Disease  \\\n",
       "0                                                   False   \n",
       "1                                                   False   \n",
       "2                                                   False   \n",
       "3                                                   False   \n",
       "4                                                   False   \n",
       "...                                                   ...   \n",
       "1640057                                             False   \n",
       "1640058                                             False   \n",
       "1640059                                             False   \n",
       "1640060                                             False   \n",
       "1640061                                             False   \n",
       "\n",
       "         Rndrng_Prvdr_Type_Advanced Heart Failure and Transplant Cardiology  \\\n",
       "0                                                    False                    \n",
       "1                                                    False                    \n",
       "2                                                    False                    \n",
       "3                                                    False                    \n",
       "4                                                    False                    \n",
       "...                                                    ...                    \n",
       "1640057                                              False                    \n",
       "1640058                                              False                    \n",
       "1640059                                              False                    \n",
       "1640060                                              False                    \n",
       "1640061                                              False                    \n",
       "\n",
       "         Rndrng_Prvdr_Type_Allergy/ Immunology  \\\n",
       "0                                        False   \n",
       "1                                        False   \n",
       "2                                        False   \n",
       "3                                        False   \n",
       "4                                        False   \n",
       "...                                        ...   \n",
       "1640057                                  False   \n",
       "1640058                                  False   \n",
       "1640059                                  False   \n",
       "1640060                                  False   \n",
       "1640061                                  False   \n",
       "\n",
       "         Rndrng_Prvdr_Type_Allergy/Immunology  \\\n",
       "0                                       False   \n",
       "1                                       False   \n",
       "2                                       False   \n",
       "3                                       False   \n",
       "4                                       False   \n",
       "...                                       ...   \n",
       "1640057                                 False   \n",
       "1640058                                 False   \n",
       "1640059                                 False   \n",
       "1640060                                 False   \n",
       "1640061                                 False   \n",
       "\n",
       "         Rndrng_Prvdr_Type_Ambulance Service Provider  ...  Bene_CC_COPD_Pct  \\\n",
       "0                                               False  ...          0.320000   \n",
       "1                                               False  ...          0.080000   \n",
       "2                                               False  ...          0.280000   \n",
       "3                                               False  ...          0.240000   \n",
       "4                                               False  ...          0.173333   \n",
       "...                                               ...  ...               ...   \n",
       "1640057                                         False  ...          0.240000   \n",
       "1640058                                         False  ...          0.240000   \n",
       "1640059                                         False  ...          0.360000   \n",
       "1640060                                         False  ...          0.240000   \n",
       "1640061                                         False  ...          0.240000   \n",
       "\n",
       "         Bene_CC_Dprssn_Pct  Bene_CC_Dbts_Pct  Bene_CC_Hyplpdma_Pct  \\\n",
       "0                  0.493333          0.586667              1.000000   \n",
       "1                  0.200000          0.266667              0.693333   \n",
       "2                  0.520000          0.506667              0.773333   \n",
       "3                  0.373333          0.226667              0.733333   \n",
       "4                  0.426667          0.533333              0.640000   \n",
       "...                     ...               ...                   ...   \n",
       "1640057            0.400000          0.466667              0.693333   \n",
       "1640058            0.400000          0.466667              0.853333   \n",
       "1640059            0.320000          0.440000              0.706667   \n",
       "1640060            0.400000          0.706667              0.626667   \n",
       "1640061            0.386667          1.000000              0.946667   \n",
       "\n",
       "         Bene_CC_Hyprtnsn_Pct  Bene_CC_IHD_Pct  Bene_CC_Opo_Pct  \\\n",
       "0                    1.000000         0.826667         0.146667   \n",
       "1                    0.680000         0.320000         0.146667   \n",
       "2                    0.933333         0.440000         0.120000   \n",
       "3                    0.613333         0.213333         0.226667   \n",
       "4                    0.866667         0.413333         0.160000   \n",
       "...                       ...              ...              ...   \n",
       "1640057              0.440000         0.506667         0.000000   \n",
       "1640058              0.973333         0.506667         0.146667   \n",
       "1640059              0.920000         0.520000         0.146667   \n",
       "1640060              1.000000         0.506667         0.146667   \n",
       "1640061              1.000000         0.640000         0.146667   \n",
       "\n",
       "         Bene_CC_RAOA_Pct  Bene_CC_Sz_Pct  Bene_CC_Strok_Pct  \n",
       "0                0.773333        0.080000           0.186667  \n",
       "1                0.506667        0.013333           0.040000  \n",
       "2                1.000000        0.013333           0.080000  \n",
       "3                0.506667        0.013333           0.080000  \n",
       "4                0.786667        0.013333           0.080000  \n",
       "...                   ...             ...                ...  \n",
       "1640057          0.440000        0.000000           0.080000  \n",
       "1640058          0.666667        0.013333           0.080000  \n",
       "1640059          0.626667        0.013333           0.080000  \n",
       "1640060          0.706667        0.013333           0.080000  \n",
       "1640061          0.840000        0.013333           0.080000  \n",
       "\n",
       "[1555318 rows x 141 columns]"
      ]
     },
     "execution_count": 185,
     "metadata": {},
     "output_type": "execute_result"
    }
   ],
   "source": [
    "# List of columns you want to explicitly keep\n",
    "features_ben_2 = [ \n",
    "        'Bene_CC_AF_Pct', 'Bene_CC_Alzhmr_Pct', 'Bene_CC_Asthma_Pct',\n",
    "       'Bene_CC_Cncr_Pct', 'Bene_CC_CHF_Pct', 'Bene_CC_CKD_Pct',\n",
    "       'Bene_CC_COPD_Pct', 'Bene_CC_Dprssn_Pct', 'Bene_CC_Dbts_Pct',\n",
    "       'Bene_CC_Hyplpdma_Pct', 'Bene_CC_Hyprtnsn_Pct', 'Bene_CC_IHD_Pct',\n",
    "       'Bene_CC_Opo_Pct', 'Bene_CC_RAOA_Pct', 'Bene_CC_Sz_Pct',\n",
    "       'Bene_CC_Strok_Pct'\n",
    "]\n",
    "keep_columns_1 = ['Tot_Sbmtd_Chrg', 'Tot_Mdcr_Pymt_Amt', \n",
    "                'Bene_Avg_Age', 'Bene_Avg_Risk_Scre']\n",
    "\n",
    "# Finding columns that start with the specified prefixes to drop\n",
    "keep_columns_2 = [col for col in df_prov.columns if col.startswith('Rndrng_Prvdr_Gndr_') or col.startswith('Rndrng_Prvdr_Type_')]\n",
    "\n",
    "# Ensure the columns to drop does not include any of the keep columns\n",
    "\n",
    "# Drop the identified columns and keep the explicitly listed ones\n",
    "X = df_prov[keep_columns_1+ keep_columns_2 + features_ben_2]\n",
    "y = df_prov['fraud']\n",
    "X"
   ]
  },
  {
   "cell_type": "code",
   "execution_count": 186,
   "id": "85175792-0924-4351-a910-18550275eb7d",
   "metadata": {},
   "outputs": [
    {
     "name": "stderr",
     "output_type": "stream",
     "text": [
      "C:\\Users\\temir\\anaconda3\\Lib\\site-packages\\keras\\src\\layers\\core\\dense.py:86: UserWarning: Do not pass an `input_shape`/`input_dim` argument to a layer. When using Sequential models, prefer using an `Input(shape)` object as the first layer in the model instead.\n",
      "  super().__init__(activity_regularizer=activity_regularizer, **kwargs)\n"
     ]
    },
    {
     "name": "stdout",
     "output_type": "stream",
     "text": [
      "Epoch 1/10\n",
      "\u001b[1m34995/34995\u001b[0m \u001b[32m━━━━━━━━━━━━━━━━━━━━\u001b[0m\u001b[37m\u001b[0m \u001b[1m42s\u001b[0m 1ms/step - accuracy: 0.9975 - loss: 0.0174 - val_accuracy: 0.9987 - val_loss: 0.0096\n",
      "Epoch 2/10\n",
      "\u001b[1m34995/34995\u001b[0m \u001b[32m━━━━━━━━━━━━━━━━━━━━\u001b[0m\u001b[37m\u001b[0m \u001b[1m47s\u001b[0m 1ms/step - accuracy: 0.9987 - loss: 0.0101 - val_accuracy: 0.9987 - val_loss: 0.0099\n",
      "Epoch 3/10\n",
      "\u001b[1m34995/34995\u001b[0m \u001b[32m━━━━━━━━━━━━━━━━━━━━\u001b[0m\u001b[37m\u001b[0m \u001b[1m81s\u001b[0m 1ms/step - accuracy: 0.9988 - loss: 0.0095 - val_accuracy: 0.9987 - val_loss: 0.0092\n",
      "Epoch 4/10\n",
      "\u001b[1m34995/34995\u001b[0m \u001b[32m━━━━━━━━━━━━━━━━━━━━\u001b[0m\u001b[37m\u001b[0m \u001b[1m45s\u001b[0m 1ms/step - accuracy: 0.9987 - loss: 0.0099 - val_accuracy: 0.9987 - val_loss: 0.0096\n",
      "Epoch 5/10\n",
      "\u001b[1m34995/34995\u001b[0m \u001b[32m━━━━━━━━━━━━━━━━━━━━\u001b[0m\u001b[37m\u001b[0m \u001b[1m48s\u001b[0m 1ms/step - accuracy: 0.9987 - loss: 0.0103 - val_accuracy: 0.9987 - val_loss: 0.0094\n",
      "Epoch 6/10\n",
      "\u001b[1m34995/34995\u001b[0m \u001b[32m━━━━━━━━━━━━━━━━━━━━\u001b[0m\u001b[37m\u001b[0m \u001b[1m81s\u001b[0m 1ms/step - accuracy: 0.9987 - loss: 0.0098 - val_accuracy: 0.9987 - val_loss: 0.0092\n",
      "Epoch 7/10\n",
      "\u001b[1m34995/34995\u001b[0m \u001b[32m━━━━━━━━━━━━━━━━━━━━\u001b[0m\u001b[37m\u001b[0m \u001b[1m45s\u001b[0m 1ms/step - accuracy: 0.9987 - loss: 0.0102 - val_accuracy: 0.9987 - val_loss: 0.0092\n",
      "Epoch 8/10\n",
      "\u001b[1m34995/34995\u001b[0m \u001b[32m━━━━━━━━━━━━━━━━━━━━\u001b[0m\u001b[37m\u001b[0m \u001b[1m83s\u001b[0m 1ms/step - accuracy: 0.9986 - loss: 0.0103 - val_accuracy: 0.9987 - val_loss: 0.0098\n",
      "Epoch 9/10\n",
      "\u001b[1m34995/34995\u001b[0m \u001b[32m━━━━━━━━━━━━━━━━━━━━\u001b[0m\u001b[37m\u001b[0m \u001b[1m47s\u001b[0m 1ms/step - accuracy: 0.9987 - loss: 0.0103 - val_accuracy: 0.9987 - val_loss: 0.0093\n",
      "Epoch 10/10\n",
      "\u001b[1m34995/34995\u001b[0m \u001b[32m━━━━━━━━━━━━━━━━━━━━\u001b[0m\u001b[37m\u001b[0m \u001b[1m46s\u001b[0m 1ms/step - accuracy: 0.9987 - loss: 0.0100 - val_accuracy: 0.9987 - val_loss: 0.0097\n"
     ]
    },
    {
     "data": {
      "text/plain": [
       "<keras.src.callbacks.history.History at 0x27cb7f81e50>"
      ]
     },
     "execution_count": 186,
     "metadata": {},
     "output_type": "execute_result"
    },
    {
     "name": "stdout",
     "output_type": "stream",
     "text": [
      "\u001b[1m9721/9721\u001b[0m \u001b[32m━━━━━━━━━━━━━━━━━━━━\u001b[0m\u001b[37m\u001b[0m \u001b[1m7s\u001b[0m 727us/step\n",
      "ROC AUC Score: 0.7898592269972402\n",
      "True Positive Rate (TPR): 0.7884130982367759\n",
      "True Negative Rate (TNR): 0.6459875043052529\n",
      "Geometric Mean (G-Mean): 0.7136560864250701\n",
      "              precision    recall  f1-score   support\n",
      "\n",
      "           0       1.00      0.65      0.78    310667\n",
      "           1       0.00      0.79      0.01       397\n",
      "\n",
      "    accuracy                           0.65    311064\n",
      "   macro avg       0.50      0.72      0.40    311064\n",
      "weighted avg       1.00      0.65      0.78    311064\n",
      "\n"
     ]
    }
   ],
   "source": [
    "# List of columns you want to explicitly keep\n",
    "features_ben_2 = [ \n",
    "        'Bene_CC_AF_Pct', 'Bene_CC_Alzhmr_Pct', 'Bene_CC_Asthma_Pct',\n",
    "       'Bene_CC_Cncr_Pct', 'Bene_CC_CHF_Pct', 'Bene_CC_CKD_Pct',\n",
    "       'Bene_CC_COPD_Pct', 'Bene_CC_Dprssn_Pct', 'Bene_CC_Dbts_Pct',\n",
    "       'Bene_CC_Hyplpdma_Pct', 'Bene_CC_Hyprtnsn_Pct', 'Bene_CC_IHD_Pct',\n",
    "       'Bene_CC_Opo_Pct', 'Bene_CC_RAOA_Pct', 'Bene_CC_Sz_Pct',\n",
    "       'Bene_CC_Strok_Pct'\n",
    "]\n",
    "keep_columns_1 = ['Tot_Sbmtd_Chrg', 'Tot_Mdcr_Pymt_Amt', \n",
    "                'Bene_Avg_Age', 'Bene_Avg_Risk_Scre']\n",
    "\n",
    "# Finding columns that start with the specified prefixes to drop\n",
    "keep_columns_2 = [col for col in df_prov.columns if col.startswith('Rndrng_Prvdr_Gndr_') or col.startswith('Rndrng_Prvdr_Type_')]\n",
    "\n",
    "# Ensure the columns to drop does not include any of the keep columns\n",
    "\n",
    "# Drop the identified columns and keep the explicitly listed ones\n",
    "X = df_prov[keep_columns_1+ keep_columns_2 + features_ben_2]\n",
    "y = df_prov['fraud']\n",
    "\n",
    "# Splitting data into training and testing\n",
    "X_train, X_test, y_train, y_test = train_test_split(X, y, test_size=0.2, random_state=42, stratify=y)\n",
    "\n",
    "# Normalizing the data\n",
    "scaler = StandardScaler()\n",
    "X_train_scaled = scaler.fit_transform(X_train)\n",
    "X_test_scaled = scaler.transform(X_test)\n",
    "\n",
    "# Building the neural network model\n",
    "model = Sequential([\n",
    "    Dense(32, input_dim=X_train_scaled.shape[1], activation='relu'),\n",
    "    Dropout(0.5),\n",
    "    Dense(32, activation='relu'),\n",
    "    Dropout(0.5),\n",
    "    Dense(1, activation='sigmoid')\n",
    "])\n",
    "\n",
    "# Compile the model\n",
    "model.compile(loss='binary_crossentropy', optimizer='adam', metrics=['accuracy'])\n",
    "\n",
    "# Train the model\n",
    "model.fit(X_train_scaled, y_train, epochs=10, batch_size=32, validation_split=0.1)\n",
    "\n",
    "# Predict probabilities for the test set\n",
    "predictions = model.predict(X_test_scaled)\n",
    "\n",
    "# Evaluate the model\n",
    "print(\"ROC AUC Score:\", roc_auc_score(y_test, predictions.flatten()))\n",
    "\n",
    "# Adjust threshold and compute binary outcomes\n",
    "threshold = 0.001\n",
    "predicted_classes = (predictions > threshold).astype(int)\n",
    "\n",
    "# Calculate and display the confusion matrix\n",
    "cm = confusion_matrix(y_test, predicted_classes)\n",
    "TN, FP, FN, TP = cm.ravel()\n",
    "\n",
    "# Calculate TPR and TNR\n",
    "TPR = TP / (TP + FN)  # True Positive Rate\n",
    "TNR = TN / (TN + FP)  # True Negative Rate\n",
    "\n",
    "# Calculate the G-Mean\n",
    "G_mean = np.sqrt(TPR * TNR)\n",
    "\n",
    "# Display TPR, TNR, and G-Mean\n",
    "print(\"True Positive Rate (TPR):\", TPR)\n",
    "print(\"True Negative Rate (TNR):\", TNR)\n",
    "print(\"Geometric Mean (G-Mean):\", G_mean)\n",
    "\n",
    "# Detailed classification report\n",
    "print(classification_report(y_test, predicted_classes))"
   ]
  },
  {
   "cell_type": "code",
   "execution_count": null,
   "id": "f112446c-26fb-47b6-a133-5140da3e4b7e",
   "metadata": {},
   "outputs": [],
   "source": []
  },
  {
   "cell_type": "code",
   "execution_count": null,
   "id": "48c77408-ccbf-41f9-82ee-98910e773d9c",
   "metadata": {},
   "outputs": [],
   "source": []
  },
  {
   "cell_type": "code",
   "execution_count": null,
   "id": "328388b7-d068-4f99-9c34-ced1eb3325f8",
   "metadata": {},
   "outputs": [],
   "source": []
  },
  {
   "cell_type": "code",
   "execution_count": null,
   "id": "e1fff214-2c81-485d-a9a1-1cd00b10d817",
   "metadata": {},
   "outputs": [],
   "source": []
  },
  {
   "cell_type": "code",
   "execution_count": null,
   "id": "82a720da-2ae4-4b65-a1ad-2727bb3a4311",
   "metadata": {},
   "outputs": [],
   "source": []
  },
  {
   "cell_type": "code",
   "execution_count": null,
   "id": "c43147d8-392c-4a8c-ba5e-2a4a0477a7b6",
   "metadata": {},
   "outputs": [],
   "source": []
  }
 ],
 "metadata": {
  "kernelspec": {
   "display_name": "Python 3 (ipykernel)",
   "language": "python",
   "name": "python3"
  },
  "language_info": {
   "codemirror_mode": {
    "name": "ipython",
    "version": 3
   },
   "file_extension": ".py",
   "mimetype": "text/x-python",
   "name": "python",
   "nbconvert_exporter": "python",
   "pygments_lexer": "ipython3",
   "version": "3.11.7"
  }
 },
 "nbformat": 4,
 "nbformat_minor": 5
}
